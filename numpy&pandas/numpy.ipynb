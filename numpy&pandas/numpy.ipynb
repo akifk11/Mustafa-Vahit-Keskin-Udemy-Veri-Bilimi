{
 "cells": [
  {
   "cell_type": "code",
   "execution_count": 2,
   "id": "9c32d908-c7aa-4cd6-9aa7-66e8505f1886",
   "metadata": {},
   "outputs": [],
   "source": [
    "a=[1,2,3,4]\n",
    "b=[2,3,4,5]"
   ]
  },
  {
   "cell_type": "code",
   "execution_count": 5,
   "id": "e79d50f7-5efe-43f2-bed7-ceda17661486",
   "metadata": {},
   "outputs": [
    {
     "data": {
      "text/plain": [
       "[2, 6, 12, 20]"
      ]
     },
     "execution_count": 5,
     "metadata": {},
     "output_type": "execute_result"
    }
   ],
   "source": [
    "ab=[]\n",
    "for i in range(0,len(a)):\n",
    "    ab.append(a[i]*b[i])\n",
    "    \n",
    "ab    "
   ]
  },
  {
   "cell_type": "code",
   "execution_count": 6,
   "id": "01d2ba8f-80d5-40fd-bcf7-cb26c871ae01",
   "metadata": {},
   "outputs": [
    {
     "data": {
      "text/plain": [
       "array([ 2,  6, 12, 20])"
      ]
     },
     "execution_count": 6,
     "metadata": {},
     "output_type": "execute_result"
    }
   ],
   "source": [
    "import numpy as np\n",
    "a=np.array([1,2,3,4])\n",
    "b=np.array([2,3,4,5])\n",
    "a*b\n",
    "#numpy işlemleri daha hızlı ve güzel yapmamızı sağlıyor verileri daha performanslı tutar"
   ]
  },
  {
   "cell_type": "code",
   "execution_count": 7,
   "id": "ccb0a68f-27a0-4c68-b072-223c1ed0fbf1",
   "metadata": {},
   "outputs": [
    {
     "data": {
      "text/plain": [
       "numpy.ndarray"
      ]
     },
     "execution_count": 7,
     "metadata": {},
     "output_type": "execute_result"
    }
   ],
   "source": [
    "type(a)"
   ]
  },
  {
   "cell_type": "code",
   "execution_count": 10,
   "id": "e2703ba8-dbab-4ff0-b9e7-87dd5bbb9a76",
   "metadata": {},
   "outputs": [
    {
     "data": {
      "text/plain": [
       "array([ 3.14,  2.  ,  8.  , 11.  ], dtype=float32)"
      ]
     },
     "execution_count": 10,
     "metadata": {},
     "output_type": "execute_result"
    }
   ],
   "source": [
    "np.array([3.14,2,8,11],dtype=\"float32\")"
   ]
  },
  {
   "cell_type": "code",
   "execution_count": 14,
   "id": "79234bd6-e158-4e15-acbc-cb69d5c1ebbe",
   "metadata": {},
   "outputs": [
    {
     "data": {
      "text/plain": [
       "array([ 0,  3,  6,  9, 12, 15, 18, 21, 24, 27, 30])"
      ]
     },
     "execution_count": 14,
     "metadata": {},
     "output_type": "execute_result"
    }
   ],
   "source": [
    "#doğrusal dizi oluşturmaya yarar\n",
    "np.arange(0,31,3)"
   ]
  },
  {
   "cell_type": "code",
   "execution_count": 12,
   "id": "716349b7-3f76-45c1-8b25-f98951db69a2",
   "metadata": {},
   "outputs": [
    {
     "data": {
      "text/plain": [
       "array([[ 1.68608475, 14.46643199,  7.13527378,  6.8916045 ],\n",
       "       [12.06286856,  7.11443151,  4.29971766,  6.92185356],\n",
       "       [ 2.24488463, 11.87024982,  7.40370391,  6.80700418]])"
      ]
     },
     "execution_count": 12,
     "metadata": {},
     "output_type": "execute_result"
    }
   ],
   "source": [
    "np.random.normal(10,4,(3,4))"
   ]
  },
  {
   "cell_type": "code",
   "execution_count": 16,
   "id": "4d2b5a90-dfc5-4509-abea-8a6cab543976",
   "metadata": {},
   "outputs": [
    {
     "data": {
      "text/plain": [
       "array([[8, 2, 9],\n",
       "       [8, 0, 6],\n",
       "       [9, 9, 1]])"
      ]
     },
     "execution_count": 16,
     "metadata": {},
     "output_type": "execute_result"
    }
   ],
   "source": [
    "np.random.randint(0,10,(3,3))"
   ]
  },
  {
   "cell_type": "code",
   "execution_count": 17,
   "id": "918baf5d-c0e6-499f-b3e1-7e277c7da812",
   "metadata": {},
   "outputs": [],
   "source": [
    "#ndim=boyut sayısı\n",
    "#shape=boyut bilgisi\n",
    "#size=toplam eleman sayısı\n",
    "#dtype=arrayin veri tipi"
   ]
  },
  {
   "cell_type": "code",
   "execution_count": 19,
   "id": "fc4e3bc7-7bf0-462f-8a9b-18f4ca5cb189",
   "metadata": {},
   "outputs": [
    {
     "data": {
      "text/plain": [
       "array([5, 9, 4, 3, 6, 7, 2, 7, 3, 8])"
      ]
     },
     "execution_count": 19,
     "metadata": {},
     "output_type": "execute_result"
    }
   ],
   "source": [
    "a=np.random.randint(10,size=10)\n",
    "a"
   ]
  },
  {
   "cell_type": "code",
   "execution_count": 20,
   "id": "c673aa32-d589-47e7-8cc5-a5e705300721",
   "metadata": {},
   "outputs": [
    {
     "data": {
      "text/plain": [
       "1"
      ]
     },
     "execution_count": 20,
     "metadata": {},
     "output_type": "execute_result"
    }
   ],
   "source": [
    "a.ndim"
   ]
  },
  {
   "cell_type": "code",
   "execution_count": 22,
   "id": "e0756d83-e60b-4916-8b9f-0062f526ac71",
   "metadata": {},
   "outputs": [
    {
     "data": {
      "text/plain": [
       "(10,)"
      ]
     },
     "execution_count": 22,
     "metadata": {},
     "output_type": "execute_result"
    }
   ],
   "source": [
    "a.shape"
   ]
  },
  {
   "cell_type": "code",
   "execution_count": 24,
   "id": "63d605ec-538f-4c61-8024-7df739e83278",
   "metadata": {},
   "outputs": [
    {
     "data": {
      "text/plain": [
       "10"
      ]
     },
     "execution_count": 24,
     "metadata": {},
     "output_type": "execute_result"
    }
   ],
   "source": [
    "a.size"
   ]
  },
  {
   "cell_type": "code",
   "execution_count": 25,
   "id": "585a0490-f57e-4e93-8d9c-15fbf50d8c40",
   "metadata": {},
   "outputs": [
    {
     "data": {
      "text/plain": [
       "dtype('int64')"
      ]
     },
     "execution_count": 25,
     "metadata": {},
     "output_type": "execute_result"
    }
   ],
   "source": [
    "a.dtype"
   ]
  },
  {
   "cell_type": "code",
   "execution_count": 26,
   "id": "e4a09e33-2273-413a-9b25-3b65f9225e47",
   "metadata": {},
   "outputs": [
    {
     "data": {
      "text/plain": [
       "array([[4, 4, 8, 3, 8],\n",
       "       [1, 0, 9, 7, 5],\n",
       "       [4, 5, 2, 5, 1]])"
      ]
     },
     "execution_count": 26,
     "metadata": {},
     "output_type": "execute_result"
    }
   ],
   "source": [
    "b=np.random.randint(10,size=(3,5))\n",
    "b"
   ]
  },
  {
   "cell_type": "code",
   "execution_count": 27,
   "id": "660b6d6d-76fa-41b1-998c-d5295e9635ec",
   "metadata": {},
   "outputs": [
    {
     "data": {
      "text/plain": [
       "2"
      ]
     },
     "execution_count": 27,
     "metadata": {},
     "output_type": "execute_result"
    }
   ],
   "source": [
    "b.ndim"
   ]
  },
  {
   "cell_type": "code",
   "execution_count": 28,
   "id": "c66ad2ad-dd08-4371-aaec-bbb0ac0b6fd7",
   "metadata": {},
   "outputs": [
    {
     "data": {
      "text/plain": [
       "(3, 5)"
      ]
     },
     "execution_count": 28,
     "metadata": {},
     "output_type": "execute_result"
    }
   ],
   "source": [
    "b.shape"
   ]
  },
  {
   "cell_type": "code",
   "execution_count": 31,
   "id": "ab5c0885-06da-4cc3-ae4b-5b591243d78d",
   "metadata": {},
   "outputs": [
    {
     "data": {
      "text/plain": [
       "dtype('int64')"
      ]
     },
     "execution_count": 31,
     "metadata": {},
     "output_type": "execute_result"
    }
   ],
   "source": [
    "b.dtype"
   ]
  },
  {
   "cell_type": "code",
   "execution_count": 32,
   "id": "ad1662d2-beba-47bf-acf7-7902e2c63596",
   "metadata": {},
   "outputs": [
    {
     "data": {
      "text/plain": [
       "15"
      ]
     },
     "execution_count": 32,
     "metadata": {},
     "output_type": "execute_result"
    }
   ],
   "source": [
    "b.size"
   ]
  },
  {
   "cell_type": "code",
   "execution_count": 34,
   "id": "eafad5ec-5f9f-4d38-af98-906419c8cf7b",
   "metadata": {},
   "outputs": [
    {
     "data": {
      "text/plain": [
       "array([1, 2, 3, 4, 5, 6, 7, 8, 9])"
      ]
     },
     "execution_count": 34,
     "metadata": {},
     "output_type": "execute_result"
    }
   ],
   "source": [
    "np.arange(1,10)"
   ]
  },
  {
   "cell_type": "code",
   "execution_count": 37,
   "id": "6732f70e-dbcc-45da-b7e7-fc064e6e147a",
   "metadata": {},
   "outputs": [
    {
     "data": {
      "text/plain": [
       "array([[1, 2, 3],\n",
       "       [4, 5, 6],\n",
       "       [7, 8, 9]])"
      ]
     },
     "execution_count": 37,
     "metadata": {},
     "output_type": "execute_result"
    }
   ],
   "source": [
    "np.arange(1,10).reshape(3,3)"
   ]
  },
  {
   "cell_type": "code",
   "execution_count": 41,
   "id": "23d14b45-69bb-45a6-889b-b4070f98cc97",
   "metadata": {},
   "outputs": [
    {
     "data": {
      "text/plain": [
       "array([[1, 2, 3, 4, 5, 6, 7, 8, 9]])"
      ]
     },
     "execution_count": 41,
     "metadata": {},
     "output_type": "execute_result"
    }
   ],
   "source": [
    "b=np.arange(1,10).reshape(1,9)\n",
    "b"
   ]
  },
  {
   "cell_type": "code",
   "execution_count": 43,
   "id": "f38e58e7-17bd-4b85-8be0-d1ea69adeb8a",
   "metadata": {},
   "outputs": [
    {
     "data": {
      "text/plain": [
       "2"
      ]
     },
     "execution_count": 43,
     "metadata": {},
     "output_type": "execute_result"
    }
   ],
   "source": [
    "b.ndim\n",
    "#artık bir matris olacağı için boyutu 2 olmuştur"
   ]
  },
  {
   "cell_type": "code",
   "execution_count": 44,
   "id": "6555ebbf-c719-4631-8589-869e2d66c767",
   "metadata": {},
   "outputs": [],
   "source": [
    "#array birleştirme işlemleri"
   ]
  },
  {
   "cell_type": "code",
   "execution_count": 45,
   "id": "bc1b6810-247e-4e23-9489-674e0ad11071",
   "metadata": {},
   "outputs": [],
   "source": [
    "x=np.array([1,2,3])\n",
    "y=np.array([4,5,6])"
   ]
  },
  {
   "cell_type": "code",
   "execution_count": 47,
   "id": "2fc80fcb-df87-4062-b06a-189cce08a580",
   "metadata": {},
   "outputs": [
    {
     "data": {
      "text/plain": [
       "array([1, 2, 3, 4, 5, 6])"
      ]
     },
     "execution_count": 47,
     "metadata": {},
     "output_type": "execute_result"
    }
   ],
   "source": [
    "np.concatenate([x,y])"
   ]
  },
  {
   "cell_type": "code",
   "execution_count": 48,
   "id": "e7f03858-db48-4765-b16a-25adcec33651",
   "metadata": {},
   "outputs": [],
   "source": [
    "z=np.array([7,8,9])"
   ]
  },
  {
   "cell_type": "code",
   "execution_count": 49,
   "id": "b66e70e1-a04c-4930-aade-a54972f0abb5",
   "metadata": {},
   "outputs": [],
   "source": [
    "#iki boyut üzerine array i birleştirmek"
   ]
  },
  {
   "cell_type": "code",
   "execution_count": 50,
   "id": "5c5feacd-bb51-486e-8fcd-3687a23603d6",
   "metadata": {},
   "outputs": [],
   "source": [
    "a=np.array([[1,2,3],\n",
    "           [4,5,6]])"
   ]
  },
  {
   "cell_type": "code",
   "execution_count": 51,
   "id": "6dd07d23-792e-4c8b-8ea8-cbd1e122be56",
   "metadata": {},
   "outputs": [
    {
     "data": {
      "text/plain": [
       "array([[1, 2, 3],\n",
       "       [4, 5, 6]])"
      ]
     },
     "execution_count": 51,
     "metadata": {},
     "output_type": "execute_result"
    }
   ],
   "source": [
    "a"
   ]
  },
  {
   "cell_type": "code",
   "execution_count": 53,
   "id": "90f7e8d7-f34f-4c0b-ac3a-9c5f37add52b",
   "metadata": {},
   "outputs": [
    {
     "data": {
      "text/plain": [
       "array([[1, 2, 3],\n",
       "       [4, 5, 6],\n",
       "       [1, 2, 3],\n",
       "       [4, 5, 6]])"
      ]
     },
     "execution_count": 53,
     "metadata": {},
     "output_type": "execute_result"
    }
   ],
   "source": [
    "np.concatenate([a,a])\n",
    "#satır bazında bir birleştirme"
   ]
  },
  {
   "cell_type": "code",
   "execution_count": 54,
   "id": "55ec8d3e-fa00-4d12-96f6-81923bb097a8",
   "metadata": {},
   "outputs": [
    {
     "data": {
      "text/plain": [
       "array([[1, 2, 3, 1, 2, 3],\n",
       "       [4, 5, 6, 4, 5, 6]])"
      ]
     },
     "execution_count": 54,
     "metadata": {},
     "output_type": "execute_result"
    }
   ],
   "source": [
    "np.concatenate([a,a],axis=1)"
   ]
  },
  {
   "cell_type": "code",
   "execution_count": 55,
   "id": "a97fdc35-b675-4478-978b-1ea7a5af19e5",
   "metadata": {},
   "outputs": [],
   "source": [
    "#array ayırma"
   ]
  },
  {
   "cell_type": "code",
   "execution_count": 57,
   "id": "d2f323de-cb5e-43fb-9540-38e68ae05b79",
   "metadata": {},
   "outputs": [],
   "source": [
    "x=np.array([1,2,3,4,5,6,7,8,9])"
   ]
  },
  {
   "cell_type": "code",
   "execution_count": 59,
   "id": "1d1feea1-ead0-416b-bc72-7d5021250ce4",
   "metadata": {},
   "outputs": [
    {
     "data": {
      "text/plain": [
       "[array([1, 2, 3]), array([4, 5]), array([6, 7, 8, 9])]"
      ]
     },
     "execution_count": 59,
     "metadata": {},
     "output_type": "execute_result"
    }
   ],
   "source": [
    "np.split(x,[3,5])"
   ]
  },
  {
   "cell_type": "code",
   "execution_count": 61,
   "id": "661c0277-b3ad-46be-9107-f70440be3435",
   "metadata": {},
   "outputs": [],
   "source": [
    "a,b,c=np.split(x,[3,5])"
   ]
  },
  {
   "cell_type": "code",
   "execution_count": 63,
   "id": "80454c5b-c162-450a-8537-0d78aa64a6a6",
   "metadata": {},
   "outputs": [
    {
     "data": {
      "text/plain": [
       "array([1, 2, 3])"
      ]
     },
     "execution_count": 63,
     "metadata": {},
     "output_type": "execute_result"
    }
   ],
   "source": [
    "a"
   ]
  },
  {
   "cell_type": "code",
   "execution_count": 64,
   "id": "bebce351-253b-4a9f-b50e-334b5687cfef",
   "metadata": {},
   "outputs": [
    {
     "data": {
      "text/plain": [
       "array([4, 5])"
      ]
     },
     "execution_count": 64,
     "metadata": {},
     "output_type": "execute_result"
    }
   ],
   "source": [
    "b"
   ]
  },
  {
   "cell_type": "code",
   "execution_count": 65,
   "id": "d1ec747d-08cf-47da-93fa-d44d2deecdac",
   "metadata": {},
   "outputs": [
    {
     "data": {
      "text/plain": [
       "array([6, 7, 8, 9])"
      ]
     },
     "execution_count": 65,
     "metadata": {},
     "output_type": "execute_result"
    }
   ],
   "source": [
    "c"
   ]
  },
  {
   "cell_type": "code",
   "execution_count": 71,
   "id": "620cea56-0b29-4689-bacf-75ac0aa08f62",
   "metadata": {},
   "outputs": [
    {
     "data": {
      "text/plain": [
       "array([[ 0,  1,  2,  3],\n",
       "       [ 4,  5,  6,  7],\n",
       "       [ 8,  9, 10, 11],\n",
       "       [12, 13, 14, 15]])"
      ]
     },
     "execution_count": 71,
     "metadata": {},
     "output_type": "execute_result"
    }
   ],
   "source": [
    "m=np.arange(16).reshape(4,4)\n",
    "m"
   ]
  },
  {
   "cell_type": "code",
   "execution_count": 76,
   "id": "d4ab3a9e-6abf-493c-a88c-60a4751fd862",
   "metadata": {},
   "outputs": [],
   "source": [
    "q,w=np.vsplit(m,[2])"
   ]
  },
  {
   "cell_type": "code",
   "execution_count": 77,
   "id": "2d43a362-ceeb-4d99-9c0b-a9223bebe54f",
   "metadata": {},
   "outputs": [
    {
     "data": {
      "text/plain": [
       "array([[0, 1, 2, 3],\n",
       "       [4, 5, 6, 7]])"
      ]
     },
     "execution_count": 77,
     "metadata": {},
     "output_type": "execute_result"
    }
   ],
   "source": [
    "q"
   ]
  },
  {
   "cell_type": "code",
   "execution_count": 79,
   "id": "369663ec-4545-4653-965c-71f9ec802dae",
   "metadata": {},
   "outputs": [
    {
     "data": {
      "text/plain": [
       "array([[ 8,  9, 10, 11],\n",
       "       [12, 13, 14, 15]])"
      ]
     },
     "execution_count": 79,
     "metadata": {},
     "output_type": "execute_result"
    }
   ],
   "source": [
    "w"
   ]
  },
  {
   "cell_type": "code",
   "execution_count": 84,
   "id": "42992f46-460a-4a2c-930e-f7e39b3f875e",
   "metadata": {},
   "outputs": [
    {
     "data": {
      "text/plain": [
       "[array([[ 0,  1],\n",
       "        [ 4,  5],\n",
       "        [ 8,  9],\n",
       "        [12, 13]]),\n",
       " array([[ 2,  3],\n",
       "        [ 6,  7],\n",
       "        [10, 11],\n",
       "        [14, 15]])]"
      ]
     },
     "execution_count": 84,
     "metadata": {},
     "output_type": "execute_result"
    }
   ],
   "source": [
    "np.hsplit(m,[2])"
   ]
  },
  {
   "cell_type": "code",
   "execution_count": 86,
   "id": "68b6e87e-2511-4dd1-9dcf-6a6503cdd0c8",
   "metadata": {},
   "outputs": [],
   "source": [
    "sag,sol=np.hsplit(m,[2])"
   ]
  },
  {
   "cell_type": "code",
   "execution_count": 87,
   "id": "ffc57c13-42fd-4db3-9f2f-42aac65f77b8",
   "metadata": {},
   "outputs": [
    {
     "data": {
      "text/plain": [
       "array([[ 0,  1],\n",
       "       [ 4,  5],\n",
       "       [ 8,  9],\n",
       "       [12, 13]])"
      ]
     },
     "execution_count": 87,
     "metadata": {},
     "output_type": "execute_result"
    }
   ],
   "source": [
    "sag"
   ]
  },
  {
   "cell_type": "code",
   "execution_count": 88,
   "id": "eed309a5-eba0-48ec-85d5-ee7c86725a8c",
   "metadata": {},
   "outputs": [
    {
     "data": {
      "text/plain": [
       "array([[ 2,  3],\n",
       "       [ 6,  7],\n",
       "       [10, 11],\n",
       "       [14, 15]])"
      ]
     },
     "execution_count": 88,
     "metadata": {},
     "output_type": "execute_result"
    }
   ],
   "source": [
    "sol"
   ]
  },
  {
   "cell_type": "code",
   "execution_count": 90,
   "id": "a7010f7d-8449-4747-917b-c395690c256e",
   "metadata": {},
   "outputs": [],
   "source": [
    "#sorting sıralama işlemleri"
   ]
  },
  {
   "cell_type": "code",
   "execution_count": 91,
   "id": "7744bf2b-d2ce-4194-8cea-3b9011235698",
   "metadata": {},
   "outputs": [
    {
     "data": {
      "text/plain": [
       "array([2, 3, 1, 4, 5])"
      ]
     },
     "execution_count": 91,
     "metadata": {},
     "output_type": "execute_result"
    }
   ],
   "source": [
    "v=np.array([2,3,1,4,5])\n",
    "v"
   ]
  },
  {
   "cell_type": "code",
   "execution_count": 93,
   "id": "cf6e895e-fb1e-4a31-bc53-687015adda0f",
   "metadata": {},
   "outputs": [
    {
     "data": {
      "text/plain": [
       "array([1, 2, 3, 4, 5])"
      ]
     },
     "execution_count": 93,
     "metadata": {},
     "output_type": "execute_result"
    }
   ],
   "source": [
    "np.sort(v)"
   ]
  },
  {
   "cell_type": "code",
   "execution_count": 94,
   "id": "21d5531e-54fb-4962-ba43-e93fd09f4dfb",
   "metadata": {},
   "outputs": [
    {
     "data": {
      "text/plain": [
       "array([1, 2, 3, 4, 5])"
      ]
     },
     "execution_count": 94,
     "metadata": {},
     "output_type": "execute_result"
    }
   ],
   "source": [
    "v"
   ]
  },
  {
   "cell_type": "code",
   "execution_count": 95,
   "id": "03abedab-6902-4d1c-a3bf-a29dca981862",
   "metadata": {},
   "outputs": [],
   "source": [
    "#iki boyutlu array sıralama"
   ]
  },
  {
   "cell_type": "code",
   "execution_count": 99,
   "id": "8ca57144-3e5e-423d-baa5-1516d8f82005",
   "metadata": {},
   "outputs": [
    {
     "data": {
      "text/plain": [
       "array([[24.59143666, 20.65978651, 14.71353533],\n",
       "       [21.77994706, 24.23060774, 16.0965994 ],\n",
       "       [23.48723211, 15.30101953,  8.89801383]])"
      ]
     },
     "execution_count": 99,
     "metadata": {},
     "output_type": "execute_result"
    }
   ],
   "source": [
    "m=np.random.normal(20,5,(3,3))\n",
    "m"
   ]
  },
  {
   "cell_type": "code",
   "execution_count": 100,
   "id": "750924d0-f65d-440c-9c58-c45f5384380f",
   "metadata": {},
   "outputs": [
    {
     "data": {
      "text/plain": [
       "array([[21.77994706, 15.30101953,  8.89801383],\n",
       "       [23.48723211, 20.65978651, 14.71353533],\n",
       "       [24.59143666, 24.23060774, 16.0965994 ]])"
      ]
     },
     "execution_count": 100,
     "metadata": {},
     "output_type": "execute_result"
    }
   ],
   "source": [
    "np.sort(m,axis=0)"
   ]
  },
  {
   "cell_type": "code",
   "execution_count": 101,
   "id": "e305c399-1a80-4cf6-a721-c9916147c75f",
   "metadata": {},
   "outputs": [
    {
     "data": {
      "text/plain": [
       "array([[14.71353533, 20.65978651, 24.59143666],\n",
       "       [16.0965994 , 21.77994706, 24.23060774],\n",
       "       [ 8.89801383, 15.30101953, 23.48723211]])"
      ]
     },
     "execution_count": 101,
     "metadata": {},
     "output_type": "execute_result"
    }
   ],
   "source": [
    "np.sort(m,axis=1)"
   ]
  },
  {
   "cell_type": "code",
   "execution_count": 104,
   "id": "0c9c6f9d-d5e9-4762-97c9-1897cc396bae",
   "metadata": {},
   "outputs": [],
   "source": [
    "#index ile elemanlara erişmek "
   ]
  },
  {
   "cell_type": "code",
   "execution_count": 108,
   "id": "e92d1c56-a6ca-48fb-a952-7c807a7cd930",
   "metadata": {},
   "outputs": [
    {
     "data": {
      "text/plain": [
       "array([2, 0, 4, 7, 7, 3, 2, 5, 8, 7])"
      ]
     },
     "execution_count": 108,
     "metadata": {},
     "output_type": "execute_result"
    }
   ],
   "source": [
    "a=np.random.randint(10,size=10)\n",
    "a"
   ]
  },
  {
   "cell_type": "code",
   "execution_count": 109,
   "id": "b8e78e0e-990e-40e5-9050-a540dd863e98",
   "metadata": {},
   "outputs": [
    {
     "data": {
      "text/plain": [
       "2"
      ]
     },
     "execution_count": 109,
     "metadata": {},
     "output_type": "execute_result"
    }
   ],
   "source": [
    "a[0]"
   ]
  },
  {
   "cell_type": "code",
   "execution_count": 110,
   "id": "318ae63f-0919-46df-806d-c425479c25a2",
   "metadata": {},
   "outputs": [
    {
     "data": {
      "text/plain": [
       "7"
      ]
     },
     "execution_count": 110,
     "metadata": {},
     "output_type": "execute_result"
    }
   ],
   "source": [
    "a[-1]"
   ]
  },
  {
   "cell_type": "code",
   "execution_count": 111,
   "id": "e4e8e70f-3cb3-49ac-93ec-ab549ae06cf1",
   "metadata": {},
   "outputs": [
    {
     "data": {
      "text/plain": [
       "array([100,   0,   4,   7,   7,   3,   2,   5,   8,   7])"
      ]
     },
     "execution_count": 111,
     "metadata": {},
     "output_type": "execute_result"
    }
   ],
   "source": [
    "a[0]=100\n",
    "a"
   ]
  },
  {
   "cell_type": "code",
   "execution_count": 112,
   "id": "8b041e43-f267-484c-aa9e-195315ec3a95",
   "metadata": {},
   "outputs": [
    {
     "data": {
      "text/plain": [
       "array([[2, 3, 0, 5, 9],\n",
       "       [6, 6, 8, 0, 7],\n",
       "       [7, 7, 9, 3, 1]])"
      ]
     },
     "execution_count": 112,
     "metadata": {},
     "output_type": "execute_result"
    }
   ],
   "source": [
    "m=np.random.randint(10,size=(3,5))\n",
    "m"
   ]
  },
  {
   "cell_type": "code",
   "execution_count": 113,
   "id": "84281999-675f-470d-aad8-c259267f6614",
   "metadata": {},
   "outputs": [
    {
     "data": {
      "text/plain": [
       "2"
      ]
     },
     "execution_count": 113,
     "metadata": {},
     "output_type": "execute_result"
    }
   ],
   "source": [
    "m[0,0]"
   ]
  },
  {
   "cell_type": "code",
   "execution_count": 114,
   "id": "a1322391-0136-4f5f-a4fc-65a421547df0",
   "metadata": {},
   "outputs": [],
   "source": [
    "#alt küme islemleri"
   ]
  },
  {
   "cell_type": "code",
   "execution_count": 116,
   "id": "da44c823-b63f-463d-9e54-33636d9f389d",
   "metadata": {},
   "outputs": [
    {
     "data": {
      "text/plain": [
       "array([20, 21, 22, 23, 24, 25, 26, 27, 28, 29])"
      ]
     },
     "execution_count": 116,
     "metadata": {},
     "output_type": "execute_result"
    }
   ],
   "source": [
    "a=np.arange(20,30)\n",
    "a"
   ]
  },
  {
   "cell_type": "code",
   "execution_count": 118,
   "id": "5c880ac7-d58c-4a7a-8515-698a61b6f24d",
   "metadata": {},
   "outputs": [
    {
     "data": {
      "text/plain": [
       "array([22, 25, 28])"
      ]
     },
     "execution_count": 118,
     "metadata": {},
     "output_type": "execute_result"
    }
   ],
   "source": [
    "a[2::3]\n",
    "#ardışıklı seçim"
   ]
  },
  {
   "cell_type": "code",
   "execution_count": 119,
   "id": "a8275a1a-9b06-4260-8f83-7a9b8399887b",
   "metadata": {},
   "outputs": [],
   "source": [
    "#iki boyutlu slice işlemleri"
   ]
  },
  {
   "cell_type": "code",
   "execution_count": 120,
   "id": "8e8bf016-f818-410f-b1ae-f89dd6dbb7b0",
   "metadata": {},
   "outputs": [
    {
     "data": {
      "text/plain": [
       "array([[9, 4, 6, 8, 5],\n",
       "       [7, 2, 7, 6, 6],\n",
       "       [5, 7, 6, 2, 2],\n",
       "       [9, 4, 8, 1, 7],\n",
       "       [7, 1, 9, 5, 5]])"
      ]
     },
     "execution_count": 120,
     "metadata": {},
     "output_type": "execute_result"
    }
   ],
   "source": [
    "m=np.random.randint(10,size=(5,5))\n",
    "m"
   ]
  },
  {
   "cell_type": "code",
   "execution_count": 124,
   "id": "77ad157d-ffbb-4de7-98f0-7c980652c6ab",
   "metadata": {},
   "outputs": [
    {
     "data": {
      "text/plain": [
       "array([9, 7, 5, 9, 7])"
      ]
     },
     "execution_count": 124,
     "metadata": {},
     "output_type": "execute_result"
    }
   ],
   "source": [
    "m[:,0]"
   ]
  },
  {
   "cell_type": "code",
   "execution_count": 125,
   "id": "b302837c-92ac-4a02-8c36-f4bf0834a9a9",
   "metadata": {},
   "outputs": [
    {
     "data": {
      "text/plain": [
       "array([9, 4, 6, 8, 5])"
      ]
     },
     "execution_count": 125,
     "metadata": {},
     "output_type": "execute_result"
    }
   ],
   "source": [
    "m[0,:]"
   ]
  },
  {
   "cell_type": "code",
   "execution_count": 126,
   "id": "e95a1624-adce-497a-95cf-e86a908e3b07",
   "metadata": {},
   "outputs": [
    {
     "data": {
      "text/plain": [
       "array([7, 2, 7, 6, 6])"
      ]
     },
     "execution_count": 126,
     "metadata": {},
     "output_type": "execute_result"
    }
   ],
   "source": [
    "m[1,:]"
   ]
  },
  {
   "cell_type": "code",
   "execution_count": 127,
   "id": "887e2f95-45ee-47b2-8cc2-368b3fcf7f68",
   "metadata": {},
   "outputs": [
    {
     "data": {
      "text/plain": [
       "array([[9, 4, 6],\n",
       "       [7, 2, 7]])"
      ]
     },
     "execution_count": 127,
     "metadata": {},
     "output_type": "execute_result"
    }
   ],
   "source": [
    "m[0:2,0:3]"
   ]
  },
  {
   "cell_type": "code",
   "execution_count": 128,
   "id": "304eb1af-0ff6-41b0-a444-7c42e3730dc7",
   "metadata": {},
   "outputs": [],
   "source": [
    "#alt küme üzerinde işlem yaparken üst kümede değişklik olmasını istemiyorsak copy methodunu kullanmalıyız"
   ]
  },
  {
   "cell_type": "code",
   "execution_count": 129,
   "id": "5159fef2-890c-46be-a1a5-b009d6cd4662",
   "metadata": {},
   "outputs": [
    {
     "data": {
      "text/plain": [
       "array([[9, 5, 4, 2, 9],\n",
       "       [4, 3, 4, 1, 1],\n",
       "       [9, 9, 8, 0, 1],\n",
       "       [8, 9, 0, 9, 1],\n",
       "       [7, 9, 3, 4, 5]])"
      ]
     },
     "execution_count": 129,
     "metadata": {},
     "output_type": "execute_result"
    }
   ],
   "source": [
    "m=np.random.randint(10,size=(5,5))\n",
    "m"
   ]
  },
  {
   "cell_type": "code",
   "execution_count": 130,
   "id": "1f6ae8a7-fab6-41bc-b292-4c6b8a6c8fed",
   "metadata": {},
   "outputs": [
    {
     "data": {
      "text/plain": [
       "array([[9, 5, 4, 2],\n",
       "       [4, 3, 4, 1],\n",
       "       [9, 9, 8, 0]])"
      ]
     },
     "execution_count": 130,
     "metadata": {},
     "output_type": "execute_result"
    }
   ],
   "source": [
    "alt_b=m[:3,:4].copy()\n",
    "alt_b"
   ]
  },
  {
   "cell_type": "code",
   "execution_count": 131,
   "id": "49511b13-d0d2-4c70-8ef5-39b98a96ee10",
   "metadata": {},
   "outputs": [],
   "source": [
    "alt_b[0,0]=999999"
   ]
  },
  {
   "cell_type": "code",
   "execution_count": 132,
   "id": "eeddeab0-d96e-4a70-99f8-b127f889fc92",
   "metadata": {},
   "outputs": [
    {
     "data": {
      "text/plain": [
       "array([[9, 5, 4, 2, 9],\n",
       "       [4, 3, 4, 1, 1],\n",
       "       [9, 9, 8, 0, 1],\n",
       "       [8, 9, 0, 9, 1],\n",
       "       [7, 9, 3, 4, 5]])"
      ]
     },
     "execution_count": 132,
     "metadata": {},
     "output_type": "execute_result"
    }
   ],
   "source": [
    "m"
   ]
  },
  {
   "cell_type": "code",
   "execution_count": 133,
   "id": "f9a88334-4d78-40f4-a643-c08207a8a50f",
   "metadata": {},
   "outputs": [],
   "source": [
    "#fancy index ile elemanlara erişmek"
   ]
  },
  {
   "cell_type": "code",
   "execution_count": 134,
   "id": "4572cfef-b761-439c-bdd5-6824c6a015de",
   "metadata": {},
   "outputs": [
    {
     "data": {
      "text/plain": [
       "array([ 0,  3,  6,  9, 12, 15, 18, 21, 24, 27])"
      ]
     },
     "execution_count": 134,
     "metadata": {},
     "output_type": "execute_result"
    }
   ],
   "source": [
    "v=np.arange(0,30,3)\n",
    "v"
   ]
  },
  {
   "cell_type": "code",
   "execution_count": 135,
   "id": "1ecba4d8-9b91-47d3-ab6e-d5588fb15195",
   "metadata": {},
   "outputs": [],
   "source": [
    "al_getir=[1,3,5]"
   ]
  },
  {
   "cell_type": "code",
   "execution_count": 136,
   "id": "2595f510-505d-413d-a1c8-08e31f39c5a7",
   "metadata": {},
   "outputs": [
    {
     "data": {
      "text/plain": [
       "array([ 3,  9, 15])"
      ]
     },
     "execution_count": 136,
     "metadata": {},
     "output_type": "execute_result"
    }
   ],
   "source": [
    "v[al_getir]\n",
    "#bu fancy indextir"
   ]
  },
  {
   "cell_type": "code",
   "execution_count": 137,
   "id": "4066b1fd-886c-4142-b21f-537f7ad0b6a6",
   "metadata": {},
   "outputs": [],
   "source": [
    "#boyutta fancy"
   ]
  },
  {
   "cell_type": "code",
   "execution_count": 140,
   "id": "c6b77919-a583-496f-b8c1-be8666f0e036",
   "metadata": {},
   "outputs": [
    {
     "data": {
      "text/plain": [
       "array([[0, 1, 2],\n",
       "       [3, 4, 5],\n",
       "       [6, 7, 8]])"
      ]
     },
     "execution_count": 140,
     "metadata": {},
     "output_type": "execute_result"
    }
   ],
   "source": [
    "m=np.arange(9).reshape((3,3))\n",
    "m"
   ]
  },
  {
   "cell_type": "code",
   "execution_count": 141,
   "id": "2d2d45d3-eafe-433c-94bd-18425f1dd85a",
   "metadata": {},
   "outputs": [],
   "source": [
    "satir=np.array([0,1])\n",
    "sutun=np.array([1,0])"
   ]
  },
  {
   "cell_type": "code",
   "execution_count": 142,
   "id": "615b1cea-f1a2-4071-bb58-92b6cd2e830f",
   "metadata": {},
   "outputs": [
    {
     "data": {
      "text/plain": [
       "array([1, 3])"
      ]
     },
     "execution_count": 142,
     "metadata": {},
     "output_type": "execute_result"
    }
   ],
   "source": [
    "m[satir,sutun]"
   ]
  },
  {
   "cell_type": "code",
   "execution_count": 143,
   "id": "88a15356-e181-4af9-bb9c-12071183ae03",
   "metadata": {},
   "outputs": [],
   "source": [
    "#koşullu eleman işlemleri"
   ]
  },
  {
   "cell_type": "code",
   "execution_count": 145,
   "id": "e2e33b12-f566-43ef-bf8b-5f8b3356a935",
   "metadata": {},
   "outputs": [],
   "source": [
    "v=np.array([1,2,3,4,5])"
   ]
  },
  {
   "cell_type": "code",
   "execution_count": 146,
   "id": "13227152-c25e-4b4f-8c69-89de8fcf4a49",
   "metadata": {},
   "outputs": [
    {
     "data": {
      "text/plain": [
       "array([False, False, False,  True,  True])"
      ]
     },
     "execution_count": 146,
     "metadata": {},
     "output_type": "execute_result"
    }
   ],
   "source": [
    "v>3"
   ]
  },
  {
   "cell_type": "code",
   "execution_count": 147,
   "id": "d84134af-7900-4257-b28b-88e1067cea09",
   "metadata": {},
   "outputs": [
    {
     "data": {
      "text/plain": [
       "array([1, 2])"
      ]
     },
     "execution_count": 147,
     "metadata": {},
     "output_type": "execute_result"
    }
   ],
   "source": [
    "v[v<3]"
   ]
  },
  {
   "cell_type": "code",
   "execution_count": 148,
   "id": "8b8d8f16-2850-4774-b086-7cd06c7bc8b2",
   "metadata": {},
   "outputs": [
    {
     "data": {
      "text/plain": [
       "array([1, 2, 3, 5])"
      ]
     },
     "execution_count": 148,
     "metadata": {},
     "output_type": "execute_result"
    }
   ],
   "source": [
    "v[v!=4]"
   ]
  },
  {
   "cell_type": "code",
   "execution_count": 150,
   "id": "49396deb-8f7f-4619-ba98-246e905f07f4",
   "metadata": {},
   "outputs": [
    {
     "data": {
      "text/plain": [
       "array([ 5, 10, 15, 20, 25])"
      ]
     },
     "execution_count": 150,
     "metadata": {},
     "output_type": "execute_result"
    }
   ],
   "source": [
    "v*5"
   ]
  },
  {
   "cell_type": "code",
   "execution_count": 151,
   "id": "3a10fb5d-3829-497b-8845-2bbf54034356",
   "metadata": {},
   "outputs": [
    {
     "data": {
      "text/plain": [
       "array([0.33333333, 0.66666667, 1.        , 1.33333333, 1.66666667])"
      ]
     },
     "execution_count": 151,
     "metadata": {},
     "output_type": "execute_result"
    }
   ],
   "source": [
    "v/3"
   ]
  },
  {
   "cell_type": "code",
   "execution_count": 152,
   "id": "a6cbbd4e-fc19-4d21-9941-e87601274390",
   "metadata": {},
   "outputs": [],
   "source": [
    "#matematiksel işlemler"
   ]
  },
  {
   "cell_type": "code",
   "execution_count": 153,
   "id": "9a9494e8-492a-4a09-a968-4b55f764e51e",
   "metadata": {},
   "outputs": [
    {
     "data": {
      "text/plain": [
       "array([0, 1, 2, 3, 4])"
      ]
     },
     "execution_count": 153,
     "metadata": {},
     "output_type": "execute_result"
    }
   ],
   "source": [
    "v-1"
   ]
  },
  {
   "cell_type": "code",
   "execution_count": 154,
   "id": "44dee121-ef60-4bd7-986c-172f90137b16",
   "metadata": {},
   "outputs": [
    {
     "data": {
      "text/plain": [
       "array([1, 2, 0, 1, 2])"
      ]
     },
     "execution_count": 154,
     "metadata": {},
     "output_type": "execute_result"
    }
   ],
   "source": [
    "v%3"
   ]
  },
  {
   "cell_type": "code",
   "execution_count": 155,
   "id": "6b136b02-4133-4bcd-a0cd-c35a57bf13ad",
   "metadata": {},
   "outputs": [],
   "source": [
    "#ufunc"
   ]
  },
  {
   "cell_type": "code",
   "execution_count": 156,
   "id": "3706c080-6c78-473a-ab0e-44d0c42df7f3",
   "metadata": {},
   "outputs": [
    {
     "data": {
      "text/plain": [
       "array([0, 1, 2, 3, 4])"
      ]
     },
     "execution_count": 156,
     "metadata": {},
     "output_type": "execute_result"
    }
   ],
   "source": [
    "np.subtract(v,1)"
   ]
  },
  {
   "cell_type": "code",
   "execution_count": 157,
   "id": "73867bf0-3690-4f58-8265-de8fc29319a4",
   "metadata": {},
   "outputs": [
    {
     "data": {
      "text/plain": [
       "array([2, 3, 4, 5, 6])"
      ]
     },
     "execution_count": 157,
     "metadata": {},
     "output_type": "execute_result"
    }
   ],
   "source": [
    "np.add(v,1)"
   ]
  },
  {
   "cell_type": "code",
   "execution_count": 158,
   "id": "ad291579-10fe-4109-8d2b-c21f0805bd30",
   "metadata": {},
   "outputs": [
    {
     "data": {
      "text/plain": [
       "array([ 3,  6,  9, 12, 15])"
      ]
     },
     "execution_count": 158,
     "metadata": {},
     "output_type": "execute_result"
    }
   ],
   "source": [
    "np.multiply(v,3)"
   ]
  },
  {
   "cell_type": "code",
   "execution_count": 159,
   "id": "43bdb91d-aec5-4bb1-965a-aee767056aa2",
   "metadata": {},
   "outputs": [
    {
     "data": {
      "text/plain": [
       "array([0.33333333, 0.66666667, 1.        , 1.33333333, 1.66666667])"
      ]
     },
     "execution_count": 159,
     "metadata": {},
     "output_type": "execute_result"
    }
   ],
   "source": [
    "np.divide(v,3)"
   ]
  },
  {
   "cell_type": "code",
   "execution_count": 160,
   "id": "2aa7c7ff-fbbf-4d3f-9958-de7f3eb8a2db",
   "metadata": {},
   "outputs": [
    {
     "data": {
      "text/plain": [
       "array([ 1,  4,  9, 16, 25])"
      ]
     },
     "execution_count": 160,
     "metadata": {},
     "output_type": "execute_result"
    }
   ],
   "source": [
    "np.power(v,2)"
   ]
  },
  {
   "cell_type": "code",
   "execution_count": 161,
   "id": "54e3a95b-7256-4475-9aac-28a290b075d3",
   "metadata": {},
   "outputs": [
    {
     "data": {
      "text/plain": [
       "array([  1,   8,  27,  64, 125])"
      ]
     },
     "execution_count": 161,
     "metadata": {},
     "output_type": "execute_result"
    }
   ],
   "source": [
    "np.power(v,3)"
   ]
  },
  {
   "cell_type": "code",
   "execution_count": 163,
   "id": "7629aa1b-b686-464d-9fa0-1ce1be416a30",
   "metadata": {},
   "outputs": [
    {
     "data": {
      "text/plain": [
       "array([1, 0, 1, 0, 1])"
      ]
     },
     "execution_count": 163,
     "metadata": {},
     "output_type": "execute_result"
    }
   ],
   "source": [
    "np.mod(v,2)"
   ]
  },
  {
   "cell_type": "code",
   "execution_count": 164,
   "id": "23468a8b-8d9d-4b27-ac81-e6fe91fd2ffd",
   "metadata": {},
   "outputs": [
    {
     "data": {
      "text/plain": [
       "array([3])"
      ]
     },
     "execution_count": 164,
     "metadata": {},
     "output_type": "execute_result"
    }
   ],
   "source": [
    "np.absolute(np.array([-3]))"
   ]
  },
  {
   "cell_type": "code",
   "execution_count": 165,
   "id": "6cb9f0f2-fb6c-4554-b519-1a57f20c7223",
   "metadata": {},
   "outputs": [
    {
     "data": {
      "text/plain": [
       "0.9835931839466808"
      ]
     },
     "execution_count": 165,
     "metadata": {},
     "output_type": "execute_result"
    }
   ],
   "source": [
    "np.sin(259)"
   ]
  },
  {
   "cell_type": "code",
   "execution_count": 166,
   "id": "2e8d9218-e54e-4ec3-adfc-a69727b19735",
   "metadata": {},
   "outputs": [
    {
     "data": {
      "text/plain": [
       "-0.0486636092001539"
      ]
     },
     "execution_count": 166,
     "metadata": {},
     "output_type": "execute_result"
    }
   ],
   "source": [
    "np.cos(121)"
   ]
  },
  {
   "cell_type": "code",
   "execution_count": 167,
   "id": "2cc1ea4e-c84c-4ab4-a73a-ab777bfe119f",
   "metadata": {},
   "outputs": [
    {
     "data": {
      "text/plain": [
       "array([0.        , 0.69314718, 1.09861229, 1.38629436, 1.60943791])"
      ]
     },
     "execution_count": 167,
     "metadata": {},
     "output_type": "execute_result"
    }
   ],
   "source": [
    "#logaritma alma\n",
    "np.log(v)"
   ]
  },
  {
   "cell_type": "code",
   "execution_count": 168,
   "id": "031b7a12-0a7a-453f-b042-5d1d5c18c2ce",
   "metadata": {},
   "outputs": [
    {
     "data": {
      "text/plain": [
       "array([0.        , 0.30103   , 0.47712125, 0.60205999, 0.69897   ])"
      ]
     },
     "execution_count": 168,
     "metadata": {},
     "output_type": "execute_result"
    }
   ],
   "source": [
    "np.log10(v)"
   ]
  },
  {
   "cell_type": "code",
   "execution_count": 169,
   "id": "d4195031-5286-45c5-90a0-658b6c0ac9e5",
   "metadata": {},
   "outputs": [
    {
     "data": {
      "text/plain": [
       "\u001b[0;31mType:\u001b[0m        module\n",
       "\u001b[0;31mString form:\u001b[0m <module 'numpy' from '/Users/mehmetakifkiraz/opt/anaconda3/lib/python3.9/site-packages/numpy/__init__.py'>\n",
       "\u001b[0;31mFile:\u001b[0m        ~/opt/anaconda3/lib/python3.9/site-packages/numpy/__init__.py\n",
       "\u001b[0;31mDocstring:\u001b[0m  \n",
       "NumPy\n",
       "=====\n",
       "\n",
       "Provides\n",
       "  1. An array object of arbitrary homogeneous items\n",
       "  2. Fast mathematical operations over arrays\n",
       "  3. Linear Algebra, Fourier Transforms, Random Number Generation\n",
       "\n",
       "How to use the documentation\n",
       "----------------------------\n",
       "Documentation is available in two forms: docstrings provided\n",
       "with the code, and a loose standing reference guide, available from\n",
       "`the NumPy homepage <https://www.scipy.org>`_.\n",
       "\n",
       "We recommend exploring the docstrings using\n",
       "`IPython <https://ipython.org>`_, an advanced Python shell with\n",
       "TAB-completion and introspection capabilities.  See below for further\n",
       "instructions.\n",
       "\n",
       "The docstring examples assume that `numpy` has been imported as `np`::\n",
       "\n",
       "  >>> import numpy as np\n",
       "\n",
       "Code snippets are indicated by three greater-than signs::\n",
       "\n",
       "  >>> x = 42\n",
       "  >>> x = x + 1\n",
       "\n",
       "Use the built-in ``help`` function to view a function's docstring::\n",
       "\n",
       "  >>> help(np.sort)\n",
       "  ... # doctest: +SKIP\n",
       "\n",
       "For some objects, ``np.info(obj)`` may provide additional help.  This is\n",
       "particularly true if you see the line \"Help on ufunc object:\" at the top\n",
       "of the help() page.  Ufuncs are implemented in C, not Python, for speed.\n",
       "The native Python help() does not know how to view their help, but our\n",
       "np.info() function does.\n",
       "\n",
       "To search for documents containing a keyword, do::\n",
       "\n",
       "  >>> np.lookfor('keyword')\n",
       "  ... # doctest: +SKIP\n",
       "\n",
       "General-purpose documents like a glossary and help on the basic concepts\n",
       "of numpy are available under the ``doc`` sub-module::\n",
       "\n",
       "  >>> from numpy import doc\n",
       "  >>> help(doc)\n",
       "  ... # doctest: +SKIP\n",
       "\n",
       "Available subpackages\n",
       "---------------------\n",
       "doc\n",
       "    Topical documentation on broadcasting, indexing, etc.\n",
       "lib\n",
       "    Basic functions used by several sub-packages.\n",
       "random\n",
       "    Core Random Tools\n",
       "linalg\n",
       "    Core Linear Algebra Tools\n",
       "fft\n",
       "    Core FFT routines\n",
       "polynomial\n",
       "    Polynomial tools\n",
       "testing\n",
       "    NumPy testing tools\n",
       "f2py\n",
       "    Fortran to Python Interface Generator.\n",
       "distutils\n",
       "    Enhancements to distutils with support for\n",
       "    Fortran compilers support and more.\n",
       "\n",
       "Utilities\n",
       "---------\n",
       "test\n",
       "    Run numpy unittests\n",
       "show_config\n",
       "    Show numpy build configuration\n",
       "dual\n",
       "    Overwrite certain functions with high-performance SciPy tools.\n",
       "    Note: `numpy.dual` is deprecated.  Use the functions from NumPy or Scipy\n",
       "    directly instead of importing them from `numpy.dual`.\n",
       "matlib\n",
       "    Make everything matrices.\n",
       "__version__\n",
       "    NumPy version string\n",
       "\n",
       "Viewing documentation using IPython\n",
       "-----------------------------------\n",
       "Start IPython with the NumPy profile (``ipython -p numpy``), which will\n",
       "import `numpy` under the alias `np`.  Then, use the ``cpaste`` command to\n",
       "paste examples into the shell.  To see which functions are available in\n",
       "`numpy`, type ``np.<TAB>`` (where ``<TAB>`` refers to the TAB key), or use\n",
       "``np.*cos*?<ENTER>`` (where ``<ENTER>`` refers to the ENTER key) to narrow\n",
       "down the list.  To view the docstring for a function, use\n",
       "``np.cos?<ENTER>`` (to view the docstring) and ``np.cos??<ENTER>`` (to view\n",
       "the source code).\n",
       "\n",
       "Copies vs. in-place operation\n",
       "-----------------------------\n",
       "Most of the functions in `numpy` return a copy of the array argument\n",
       "(e.g., `np.sort`).  In-place versions of these functions are often\n",
       "available as array methods, i.e. ``x = np.array([1,2,3]); x.sort()``.\n",
       "Exceptions to this rule are documented.\n"
      ]
     },
     "metadata": {},
     "output_type": "display_data"
    }
   ],
   "source": [
    "?np\n",
    "#numpy'ın ana dökümantasyonudur"
   ]
  },
  {
   "cell_type": "code",
   "execution_count": 170,
   "id": "da299658-84e6-4dde-8b8b-167e7067b4bc",
   "metadata": {},
   "outputs": [],
   "source": [
    "#numpy iki bilinmeyenli denklem çözümü"
   ]
  },
  {
   "cell_type": "code",
   "execution_count": 171,
   "id": "15142a9c-5aca-4a87-b4ef-5f4cac0532ee",
   "metadata": {},
   "outputs": [],
   "source": [
    "#5 x0 + x1 = 12\n",
    "# x0 + 3 * x1 = 10"
   ]
  },
  {
   "cell_type": "code",
   "execution_count": 173,
   "id": "1e5c242b-cebf-463f-94fb-6cf94205efdf",
   "metadata": {},
   "outputs": [
    {
     "data": {
      "text/plain": [
       "array([[5, 1],\n",
       "       [1, 3]])"
      ]
     },
     "execution_count": 173,
     "metadata": {},
     "output_type": "execute_result"
    }
   ],
   "source": [
    "a=np.array([[5,1],[1,3]])\n",
    "b=np.array([12,10])\n",
    "a"
   ]
  },
  {
   "cell_type": "code",
   "execution_count": 174,
   "id": "c2baaa8f-9596-4a9f-a9fc-10c36d58446c",
   "metadata": {},
   "outputs": [
    {
     "data": {
      "text/plain": [
       "array([12, 10])"
      ]
     },
     "execution_count": 174,
     "metadata": {},
     "output_type": "execute_result"
    }
   ],
   "source": [
    "b"
   ]
  },
  {
   "cell_type": "code",
   "execution_count": 176,
   "id": "3ee870fd-2212-43b7-b8ab-74b3adeb38e0",
   "metadata": {},
   "outputs": [
    {
     "data": {
      "text/plain": [
       "array([1.85714286, 2.71428571])"
      ]
     },
     "execution_count": 176,
     "metadata": {},
     "output_type": "execute_result"
    }
   ],
   "source": [
    "#şimdi lineercebir işlemleri için özelleştirilmiş methodları kullanıyorum\n",
    "x=np.linalg.solve(a,b)\n",
    "x"
   ]
  },
  {
   "cell_type": "code",
   "execution_count": 177,
   "id": "99a90117-aa97-4fae-845f-2d649a35311c",
   "metadata": {},
   "outputs": [],
   "source": [
    "#pandas bölümüne giriş "
   ]
  },
  {
   "cell_type": "code",
   "execution_count": 178,
   "id": "f4f959b0-9da7-499f-a61e-09318948a0dc",
   "metadata": {},
   "outputs": [
    {
     "data": {
      "text/plain": [
       "0    1\n",
       "1    2\n",
       "2    3\n",
       "3    4\n",
       "4    5\n",
       "dtype: int64"
      ]
     },
     "execution_count": 178,
     "metadata": {},
     "output_type": "execute_result"
    }
   ],
   "source": [
    "import pandas as pd\n",
    "pd.Series([1,2,3,4,5])"
   ]
  },
  {
   "cell_type": "code",
   "execution_count": 187,
   "id": "65b9194c-7e86-4d07-a3d3-7881d7c4df37",
   "metadata": {},
   "outputs": [
    {
     "data": {
      "text/plain": [
       "0    99\n",
       "1    22\n",
       "2     3\n",
       "3     4\n",
       "4     5\n",
       "dtype: int64"
      ]
     },
     "execution_count": 187,
     "metadata": {},
     "output_type": "execute_result"
    }
   ],
   "source": [
    "seri=pd.Series([99,22,3,4,5])\n",
    "seri"
   ]
  },
  {
   "cell_type": "code",
   "execution_count": 181,
   "id": "b4787935-a2d3-491b-a237-10b0274a8571",
   "metadata": {},
   "outputs": [
    {
     "data": {
      "text/plain": [
       "pandas.core.series.Series"
      ]
     },
     "execution_count": 181,
     "metadata": {},
     "output_type": "execute_result"
    }
   ],
   "source": [
    "type(seri)"
   ]
  },
  {
   "cell_type": "code",
   "execution_count": 182,
   "id": "36aa8d6b-115d-4494-b686-c82bea6174f6",
   "metadata": {},
   "outputs": [
    {
     "data": {
      "text/plain": [
       "[RangeIndex(start=0, stop=5, step=1)]"
      ]
     },
     "execution_count": 182,
     "metadata": {},
     "output_type": "execute_result"
    }
   ],
   "source": [
    "#serinin indeks bilgilerine erişiyoruz\n",
    "seri.axes"
   ]
  },
  {
   "cell_type": "code",
   "execution_count": 184,
   "id": "91741f8d-9d64-4174-b458-4a87d310ba16",
   "metadata": {},
   "outputs": [
    {
     "data": {
      "text/plain": [
       "dtype('int64')"
      ]
     },
     "execution_count": 184,
     "metadata": {},
     "output_type": "execute_result"
    }
   ],
   "source": [
    "seri.dtype"
   ]
  },
  {
   "cell_type": "code",
   "execution_count": 185,
   "id": "e6fbdb26-36a1-4b5e-9a12-06bcc7a75880",
   "metadata": {},
   "outputs": [
    {
     "data": {
      "text/plain": [
       "5"
      ]
     },
     "execution_count": 185,
     "metadata": {},
     "output_type": "execute_result"
    }
   ],
   "source": [
    "seri.size"
   ]
  },
  {
   "cell_type": "code",
   "execution_count": 186,
   "id": "ab6bb578-de41-46e5-b7c1-4a633b5fb28c",
   "metadata": {},
   "outputs": [
    {
     "data": {
      "text/plain": [
       "array([99, 22,  3,  4,  5])"
      ]
     },
     "execution_count": 186,
     "metadata": {},
     "output_type": "execute_result"
    }
   ],
   "source": [
    "#index numaraları olmadan sadece bir array formunda erişmek için values kullanılır\n",
    "seri.values"
   ]
  },
  {
   "cell_type": "code",
   "execution_count": null,
   "id": "b863aeb5-2e8d-4244-86f8-36b0b278cdf6",
   "metadata": {},
   "outputs": [],
   "source": []
  }
 ],
 "metadata": {
  "kernelspec": {
   "display_name": "Python 3 (ipykernel)",
   "language": "python",
   "name": "python3"
  },
  "language_info": {
   "codemirror_mode": {
    "name": "ipython",
    "version": 3
   },
   "file_extension": ".py",
   "mimetype": "text/x-python",
   "name": "python",
   "nbconvert_exporter": "python",
   "pygments_lexer": "ipython3",
   "version": "3.9.12"
  }
 },
 "nbformat": 4,
 "nbformat_minor": 5
}
