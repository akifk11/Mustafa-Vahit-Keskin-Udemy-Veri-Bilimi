{
 "cells": [
  {
   "cell_type": "code",
   "execution_count": 1,
   "id": "810a4f82-c499-401e-83c4-108090d84045",
   "metadata": {},
   "outputs": [],
   "source": [
    "#veri bilimi için istatistik"
   ]
  },
  {
   "cell_type": "code",
   "execution_count": 2,
   "id": "8ba0b733-70ac-4bb5-9ee1-7c98440b47a2",
   "metadata": {},
   "outputs": [],
   "source": [
    "#örnek teorisi"
   ]
  },
  {
   "cell_type": "code",
   "execution_count": 3,
   "id": "7bb6cd64-64ef-4948-ac17-9efdb3470864",
   "metadata": {},
   "outputs": [],
   "source": [
    "#bir ilçedekilerin yaşlarına göre çıkarımda bulunacağız"
   ]
  },
  {
   "cell_type": "code",
   "execution_count": 8,
   "id": "ebecc66a-ae18-4ee5-aee2-e4a689280033",
   "metadata": {},
   "outputs": [
    {
     "data": {
      "text/plain": [
       "array([ 3, 51, 24, 32,  6, 18,  5,  3, 52, 49])"
      ]
     },
     "execution_count": 8,
     "metadata": {},
     "output_type": "execute_result"
    }
   ],
   "source": [
    "import numpy as np\n",
    "populasyon=np.random.randint(0,80,10000)\n",
    "populasyon[0:10]"
   ]
  },
  {
   "cell_type": "code",
   "execution_count": 9,
   "id": "f7939622-6bbe-4157-baeb-82bbfca89f6c",
   "metadata": {},
   "outputs": [
    {
     "data": {
      "text/plain": [
       "array([58, 49, 79, 60, 56, 67, 14, 11, 63, 26,  9, 71, 30, 40, 27, 71,  9,\n",
       "       77, 30, 10, 78,  4, 72, 41, 48, 55, 15, 68, 62, 41, 44, 22, 63, 72,\n",
       "       19, 35, 54, 48, 41, 44, 77, 59, 68, 76, 27, 73, 50, 57, 57, 56, 43,\n",
       "       39,  6, 28, 15, 36, 28, 22, 48, 18,  0, 78, 47, 67, 29, 74, 77, 50,\n",
       "       65, 28, 35, 79, 14, 74, 19, 41, 42, 41, 58, 71, 27, 40, 27,  4,  3,\n",
       "       18, 55, 18, 37, 66, 44, 14, 66, 71, 72, 15, 58, 51, 16, 78])"
      ]
     },
     "execution_count": 9,
     "metadata": {},
     "output_type": "execute_result"
    }
   ],
   "source": [
    "#örneklem çekimi\n",
    "#sürekli aynı örneklemleri çekmeyi sağlar\n",
    "np.random.seed(115)\n",
    "orneklem=np.random.choice(a=populasyon,size=100)\n",
    "orneklem"
   ]
  },
  {
   "cell_type": "code",
   "execution_count": 10,
   "id": "abd4c17a-500f-45db-aff0-48963e7ba958",
   "metadata": {},
   "outputs": [
    {
     "data": {
      "text/plain": [
       "44.35"
      ]
     },
     "execution_count": 10,
     "metadata": {},
     "output_type": "execute_result"
    }
   ],
   "source": [
    "orneklem.mean()"
   ]
  },
  {
   "cell_type": "code",
   "execution_count": 11,
   "id": "3c525e29-668f-4023-a07c-467a52b160b2",
   "metadata": {},
   "outputs": [
    {
     "data": {
      "text/plain": [
       "39.5641"
      ]
     },
     "execution_count": 11,
     "metadata": {},
     "output_type": "execute_result"
    }
   ],
   "source": [
    "populasyon.mean()"
   ]
  },
  {
   "cell_type": "code",
   "execution_count": 12,
   "id": "66df6ea1-71fd-427b-9aeb-8b58db3f1a72",
   "metadata": {},
   "outputs": [],
   "source": [
    "#örneklem dağılımı\n",
    "np.random.seed(10)\n",
    "orneklem1=np.random.choice(a=populasyon,size=100)\n",
    "orneklem2=np.random.choice(a=populasyon,size=100)\n",
    "orneklem3=np.random.choice(a=populasyon,size=100)\n",
    "orneklem4=np.random.choice(a=populasyon,size=100)\n",
    "orneklem5=np.random.choice(a=populasyon,size=100)\n",
    "orneklem6=np.random.choice(a=populasyon,size=100)\n",
    "orneklem7=np.random.choice(a=populasyon,size=100)\n",
    "orneklem8=np.random.choice(a=populasyon,size=100)\n",
    "orneklem9=np.random.choice(a=populasyon,size=100)\n",
    "orneklem10=np.random.choice(a=populasyon,size=100)"
   ]
  },
  {
   "cell_type": "code",
   "execution_count": 13,
   "id": "1414beb8-d5b7-464f-b1d9-a6fba7efea17",
   "metadata": {},
   "outputs": [
    {
     "data": {
      "text/plain": [
       "40.090999999999994"
      ]
     },
     "execution_count": 13,
     "metadata": {},
     "output_type": "execute_result"
    }
   ],
   "source": [
    "(orneklem1.mean()+orneklem2.mean()+orneklem3.mean()+orneklem4.mean()+orneklem5.mean()+orneklem6.mean()+\n",
    "orneklem7.mean()+orneklem8.mean()+orneklem9.mean()+orneklem10.mean())/10"
   ]
  },
  {
   "cell_type": "code",
   "execution_count": 14,
   "id": "27a193fe-b1d1-455a-9828-d2c9f8a8311b",
   "metadata": {},
   "outputs": [],
   "source": [
    "#betimsel istatistikler\n",
    "#ortalama medyan mod kartiler\n",
    "#değişim aralağı standart sapma kovaryans korelasyon"
   ]
  },
  {
   "cell_type": "code",
   "execution_count": 15,
   "id": "352a3f41-0afd-4396-9927-ca0a8a843917",
   "metadata": {},
   "outputs": [],
   "source": [
    "#kovaryans\n",
    "#iki değişken arasındaki ilişkinin değişkenlik ölçüsü"
   ]
  },
  {
   "cell_type": "code",
   "execution_count": 16,
   "id": "9ae9636c-1168-46c4-be84-021ee81e3380",
   "metadata": {},
   "outputs": [],
   "source": [
    "#korelasyon\n",
    "#iki değişken arasındaki ilişkinin anlamlı olup olmadığını\n",
    "#ilişkinin şiddetini ve yönünü ifade eden ististiksel bir tekniktir"
   ]
  },
  {
   "cell_type": "code",
   "execution_count": 17,
   "id": "a4d45ea1-34c7-4140-bedf-97672ef9b129",
   "metadata": {},
   "outputs": [],
   "source": [
    "#betimsel istatistikler uygulama"
   ]
  },
  {
   "cell_type": "code",
   "execution_count": 18,
   "id": "6f60dc33-97df-4d08-9869-bbfacab2d3ef",
   "metadata": {},
   "outputs": [
    {
     "data": {
      "text/html": [
       "<div>\n",
       "<style scoped>\n",
       "    .dataframe tbody tr th:only-of-type {\n",
       "        vertical-align: middle;\n",
       "    }\n",
       "\n",
       "    .dataframe tbody tr th {\n",
       "        vertical-align: top;\n",
       "    }\n",
       "\n",
       "    .dataframe thead th {\n",
       "        text-align: right;\n",
       "    }\n",
       "</style>\n",
       "<table border=\"1\" class=\"dataframe\">\n",
       "  <thead>\n",
       "    <tr style=\"text-align: right;\">\n",
       "      <th></th>\n",
       "      <th>total_bill</th>\n",
       "      <th>tip</th>\n",
       "      <th>sex</th>\n",
       "      <th>smoker</th>\n",
       "      <th>day</th>\n",
       "      <th>time</th>\n",
       "      <th>size</th>\n",
       "    </tr>\n",
       "  </thead>\n",
       "  <tbody>\n",
       "    <tr>\n",
       "      <th>0</th>\n",
       "      <td>16.99</td>\n",
       "      <td>1.01</td>\n",
       "      <td>Female</td>\n",
       "      <td>No</td>\n",
       "      <td>Sun</td>\n",
       "      <td>Dinner</td>\n",
       "      <td>2</td>\n",
       "    </tr>\n",
       "    <tr>\n",
       "      <th>1</th>\n",
       "      <td>10.34</td>\n",
       "      <td>1.66</td>\n",
       "      <td>Male</td>\n",
       "      <td>No</td>\n",
       "      <td>Sun</td>\n",
       "      <td>Dinner</td>\n",
       "      <td>3</td>\n",
       "    </tr>\n",
       "    <tr>\n",
       "      <th>2</th>\n",
       "      <td>21.01</td>\n",
       "      <td>3.50</td>\n",
       "      <td>Male</td>\n",
       "      <td>No</td>\n",
       "      <td>Sun</td>\n",
       "      <td>Dinner</td>\n",
       "      <td>3</td>\n",
       "    </tr>\n",
       "    <tr>\n",
       "      <th>3</th>\n",
       "      <td>23.68</td>\n",
       "      <td>3.31</td>\n",
       "      <td>Male</td>\n",
       "      <td>No</td>\n",
       "      <td>Sun</td>\n",
       "      <td>Dinner</td>\n",
       "      <td>2</td>\n",
       "    </tr>\n",
       "    <tr>\n",
       "      <th>4</th>\n",
       "      <td>24.59</td>\n",
       "      <td>3.61</td>\n",
       "      <td>Female</td>\n",
       "      <td>No</td>\n",
       "      <td>Sun</td>\n",
       "      <td>Dinner</td>\n",
       "      <td>4</td>\n",
       "    </tr>\n",
       "  </tbody>\n",
       "</table>\n",
       "</div>"
      ],
      "text/plain": [
       "   total_bill   tip     sex smoker  day    time  size\n",
       "0       16.99  1.01  Female     No  Sun  Dinner     2\n",
       "1       10.34  1.66    Male     No  Sun  Dinner     3\n",
       "2       21.01  3.50    Male     No  Sun  Dinner     3\n",
       "3       23.68  3.31    Male     No  Sun  Dinner     2\n",
       "4       24.59  3.61  Female     No  Sun  Dinner     4"
      ]
     },
     "execution_count": 18,
     "metadata": {},
     "output_type": "execute_result"
    }
   ],
   "source": [
    "import seaborn as sns\n",
    "tips=sns.load_dataset(\"tips\")\n",
    "df=tips.copy()\n",
    "df.head()"
   ]
  },
  {
   "cell_type": "code",
   "execution_count": 19,
   "id": "8c6d2d5a-ab6e-4ffa-968e-e37bd060f383",
   "metadata": {},
   "outputs": [
    {
     "data": {
      "text/html": [
       "<div>\n",
       "<style scoped>\n",
       "    .dataframe tbody tr th:only-of-type {\n",
       "        vertical-align: middle;\n",
       "    }\n",
       "\n",
       "    .dataframe tbody tr th {\n",
       "        vertical-align: top;\n",
       "    }\n",
       "\n",
       "    .dataframe thead th {\n",
       "        text-align: right;\n",
       "    }\n",
       "</style>\n",
       "<table border=\"1\" class=\"dataframe\">\n",
       "  <thead>\n",
       "    <tr style=\"text-align: right;\">\n",
       "      <th></th>\n",
       "      <th>count</th>\n",
       "      <th>mean</th>\n",
       "      <th>std</th>\n",
       "      <th>min</th>\n",
       "      <th>25%</th>\n",
       "      <th>50%</th>\n",
       "      <th>75%</th>\n",
       "      <th>max</th>\n",
       "    </tr>\n",
       "  </thead>\n",
       "  <tbody>\n",
       "    <tr>\n",
       "      <th>total_bill</th>\n",
       "      <td>244.0</td>\n",
       "      <td>19.785943</td>\n",
       "      <td>8.902412</td>\n",
       "      <td>3.07</td>\n",
       "      <td>13.3475</td>\n",
       "      <td>17.795</td>\n",
       "      <td>24.1275</td>\n",
       "      <td>50.81</td>\n",
       "    </tr>\n",
       "    <tr>\n",
       "      <th>tip</th>\n",
       "      <td>244.0</td>\n",
       "      <td>2.998279</td>\n",
       "      <td>1.383638</td>\n",
       "      <td>1.00</td>\n",
       "      <td>2.0000</td>\n",
       "      <td>2.900</td>\n",
       "      <td>3.5625</td>\n",
       "      <td>10.00</td>\n",
       "    </tr>\n",
       "    <tr>\n",
       "      <th>size</th>\n",
       "      <td>244.0</td>\n",
       "      <td>2.569672</td>\n",
       "      <td>0.951100</td>\n",
       "      <td>1.00</td>\n",
       "      <td>2.0000</td>\n",
       "      <td>2.000</td>\n",
       "      <td>3.0000</td>\n",
       "      <td>6.00</td>\n",
       "    </tr>\n",
       "  </tbody>\n",
       "</table>\n",
       "</div>"
      ],
      "text/plain": [
       "            count       mean       std   min      25%     50%      75%    max\n",
       "total_bill  244.0  19.785943  8.902412  3.07  13.3475  17.795  24.1275  50.81\n",
       "tip         244.0   2.998279  1.383638  1.00   2.0000   2.900   3.5625  10.00\n",
       "size        244.0   2.569672  0.951100  1.00   2.0000   2.000   3.0000   6.00"
      ]
     },
     "execution_count": 19,
     "metadata": {},
     "output_type": "execute_result"
    }
   ],
   "source": [
    "df.describe().T"
   ]
  },
  {
   "cell_type": "code",
   "execution_count": 20,
   "id": "887cbb79-5120-4726-8256-21c546b1f03d",
   "metadata": {},
   "outputs": [
    {
     "name": "stdout",
     "output_type": "stream",
     "text": [
      "Requirement already satisfied: researchpy in /Users/mehmetakifkiraz/opt/anaconda3/lib/python3.9/site-packages (0.3.2)\n",
      "Requirement already satisfied: pandas in /Users/mehmetakifkiraz/opt/anaconda3/lib/python3.9/site-packages (from researchpy) (1.4.2)\n",
      "Requirement already satisfied: numpy in /Users/mehmetakifkiraz/opt/anaconda3/lib/python3.9/site-packages (from researchpy) (1.21.5)\n",
      "Requirement already satisfied: statsmodels in /Users/mehmetakifkiraz/opt/anaconda3/lib/python3.9/site-packages (from researchpy) (0.13.2)\n",
      "Requirement already satisfied: scipy in /Users/mehmetakifkiraz/opt/anaconda3/lib/python3.9/site-packages (from researchpy) (1.7.3)\n",
      "Requirement already satisfied: patsy in /Users/mehmetakifkiraz/opt/anaconda3/lib/python3.9/site-packages (from researchpy) (0.5.2)\n",
      "Requirement already satisfied: python-dateutil>=2.8.1 in /Users/mehmetakifkiraz/opt/anaconda3/lib/python3.9/site-packages (from pandas->researchpy) (2.8.2)\n",
      "Requirement already satisfied: pytz>=2020.1 in /Users/mehmetakifkiraz/opt/anaconda3/lib/python3.9/site-packages (from pandas->researchpy) (2021.3)\n",
      "Requirement already satisfied: six>=1.5 in /Users/mehmetakifkiraz/opt/anaconda3/lib/python3.9/site-packages (from python-dateutil>=2.8.1->pandas->researchpy) (1.16.0)\n",
      "Requirement already satisfied: packaging>=21.3 in /Users/mehmetakifkiraz/opt/anaconda3/lib/python3.9/site-packages (from statsmodels->researchpy) (21.3)\n",
      "Requirement already satisfied: pyparsing!=3.0.5,>=2.0.2 in /Users/mehmetakifkiraz/opt/anaconda3/lib/python3.9/site-packages (from packaging>=21.3->statsmodels->researchpy) (3.0.4)\n"
     ]
    }
   ],
   "source": [
    "!pip install researchpy\n",
    "import researchpy as rp"
   ]
  },
  {
   "cell_type": "code",
   "execution_count": 23,
   "id": "a8d31ac5-ae81-4f9f-9634-6f674971f33a",
   "metadata": {},
   "outputs": [
    {
     "name": "stdout",
     "output_type": "stream",
     "text": [
      "\n",
      "\n"
     ]
    },
    {
     "data": {
      "text/html": [
       "<div>\n",
       "<style scoped>\n",
       "    .dataframe tbody tr th:only-of-type {\n",
       "        vertical-align: middle;\n",
       "    }\n",
       "\n",
       "    .dataframe tbody tr th {\n",
       "        vertical-align: top;\n",
       "    }\n",
       "\n",
       "    .dataframe thead th {\n",
       "        text-align: right;\n",
       "    }\n",
       "</style>\n",
       "<table border=\"1\" class=\"dataframe\">\n",
       "  <thead>\n",
       "    <tr style=\"text-align: right;\">\n",
       "      <th></th>\n",
       "      <th>Variable</th>\n",
       "      <th>N</th>\n",
       "      <th>Mean</th>\n",
       "      <th>SD</th>\n",
       "      <th>SE</th>\n",
       "      <th>95% Conf.</th>\n",
       "      <th>Interval</th>\n",
       "    </tr>\n",
       "  </thead>\n",
       "  <tbody>\n",
       "    <tr>\n",
       "      <th>0</th>\n",
       "      <td>total_bill</td>\n",
       "      <td>244.0</td>\n",
       "      <td>19.7859</td>\n",
       "      <td>8.9024</td>\n",
       "      <td>0.5699</td>\n",
       "      <td>18.6633</td>\n",
       "      <td>20.9086</td>\n",
       "    </tr>\n",
       "    <tr>\n",
       "      <th>1</th>\n",
       "      <td>size</td>\n",
       "      <td>244.0</td>\n",
       "      <td>2.5697</td>\n",
       "      <td>0.9511</td>\n",
       "      <td>0.0609</td>\n",
       "      <td>2.4497</td>\n",
       "      <td>2.6896</td>\n",
       "    </tr>\n",
       "    <tr>\n",
       "      <th>2</th>\n",
       "      <td>size</td>\n",
       "      <td>244.0</td>\n",
       "      <td>2.5697</td>\n",
       "      <td>0.9511</td>\n",
       "      <td>0.0609</td>\n",
       "      <td>2.4497</td>\n",
       "      <td>2.6896</td>\n",
       "    </tr>\n",
       "  </tbody>\n",
       "</table>\n",
       "</div>"
      ],
      "text/plain": [
       "     Variable      N     Mean      SD      SE  95% Conf.  Interval\n",
       "0  total_bill  244.0  19.7859  8.9024  0.5699    18.6633   20.9086\n",
       "1        size  244.0   2.5697  0.9511  0.0609     2.4497    2.6896\n",
       "2        size  244.0   2.5697  0.9511  0.0609     2.4497    2.6896"
      ]
     },
     "execution_count": 23,
     "metadata": {},
     "output_type": "execute_result"
    }
   ],
   "source": [
    "rp.summary_cont(df[[\"total_bill\",\"size\",\"size\"]])\n",
    "#bizim için belki daha anlamlı olabilecek bazı değerler verdi\n",
    "#cont sayısal değişkenler için yapılır"
   ]
  },
  {
   "cell_type": "code",
   "execution_count": 24,
   "id": "c0823bb0-f08a-4945-976a-40bc89123851",
   "metadata": {},
   "outputs": [
    {
     "data": {
      "text/html": [
       "<div>\n",
       "<style scoped>\n",
       "    .dataframe tbody tr th:only-of-type {\n",
       "        vertical-align: middle;\n",
       "    }\n",
       "\n",
       "    .dataframe tbody tr th {\n",
       "        vertical-align: top;\n",
       "    }\n",
       "\n",
       "    .dataframe thead th {\n",
       "        text-align: right;\n",
       "    }\n",
       "</style>\n",
       "<table border=\"1\" class=\"dataframe\">\n",
       "  <thead>\n",
       "    <tr style=\"text-align: right;\">\n",
       "      <th></th>\n",
       "      <th>Variable</th>\n",
       "      <th>Outcome</th>\n",
       "      <th>Count</th>\n",
       "      <th>Percent</th>\n",
       "    </tr>\n",
       "  </thead>\n",
       "  <tbody>\n",
       "    <tr>\n",
       "      <th>0</th>\n",
       "      <td>sex</td>\n",
       "      <td>Male</td>\n",
       "      <td>157</td>\n",
       "      <td>64.34</td>\n",
       "    </tr>\n",
       "    <tr>\n",
       "      <th>1</th>\n",
       "      <td></td>\n",
       "      <td>Female</td>\n",
       "      <td>87</td>\n",
       "      <td>35.66</td>\n",
       "    </tr>\n",
       "    <tr>\n",
       "      <th>2</th>\n",
       "      <td>smoker</td>\n",
       "      <td>No</td>\n",
       "      <td>151</td>\n",
       "      <td>61.89</td>\n",
       "    </tr>\n",
       "    <tr>\n",
       "      <th>3</th>\n",
       "      <td></td>\n",
       "      <td>Yes</td>\n",
       "      <td>93</td>\n",
       "      <td>38.11</td>\n",
       "    </tr>\n",
       "    <tr>\n",
       "      <th>4</th>\n",
       "      <td>day</td>\n",
       "      <td>Sat</td>\n",
       "      <td>87</td>\n",
       "      <td>35.66</td>\n",
       "    </tr>\n",
       "    <tr>\n",
       "      <th>5</th>\n",
       "      <td></td>\n",
       "      <td>Sun</td>\n",
       "      <td>76</td>\n",
       "      <td>31.15</td>\n",
       "    </tr>\n",
       "    <tr>\n",
       "      <th>6</th>\n",
       "      <td></td>\n",
       "      <td>Thur</td>\n",
       "      <td>62</td>\n",
       "      <td>25.41</td>\n",
       "    </tr>\n",
       "    <tr>\n",
       "      <th>7</th>\n",
       "      <td></td>\n",
       "      <td>Fri</td>\n",
       "      <td>19</td>\n",
       "      <td>7.79</td>\n",
       "    </tr>\n",
       "  </tbody>\n",
       "</table>\n",
       "</div>"
      ],
      "text/plain": [
       "  Variable Outcome  Count  Percent\n",
       "0      sex    Male    157    64.34\n",
       "1           Female     87    35.66\n",
       "2   smoker      No    151    61.89\n",
       "3              Yes     93    38.11\n",
       "4      day     Sat     87    35.66\n",
       "5              Sun     76    31.15\n",
       "6             Thur     62    25.41\n",
       "7              Fri     19     7.79"
      ]
     },
     "execution_count": 24,
     "metadata": {},
     "output_type": "execute_result"
    }
   ],
   "source": [
    "rp.summary_cat(df[[\"sex\",\"smoker\",\"day\"]])"
   ]
  },
  {
   "cell_type": "code",
   "execution_count": 25,
   "id": "5900da71-766f-443a-9a8d-daf42cee51fd",
   "metadata": {},
   "outputs": [],
   "source": [
    "#şimdi ise kovaryans ve korelasyonu ele alıyoruz"
   ]
  },
  {
   "cell_type": "code",
   "execution_count": 26,
   "id": "6f7d8e6b-6372-4640-88c7-fd453b8f0780",
   "metadata": {},
   "outputs": [
    {
     "data": {
      "text/html": [
       "<div>\n",
       "<style scoped>\n",
       "    .dataframe tbody tr th:only-of-type {\n",
       "        vertical-align: middle;\n",
       "    }\n",
       "\n",
       "    .dataframe tbody tr th {\n",
       "        vertical-align: top;\n",
       "    }\n",
       "\n",
       "    .dataframe thead th {\n",
       "        text-align: right;\n",
       "    }\n",
       "</style>\n",
       "<table border=\"1\" class=\"dataframe\">\n",
       "  <thead>\n",
       "    <tr style=\"text-align: right;\">\n",
       "      <th></th>\n",
       "      <th>tip</th>\n",
       "      <th>total_bill</th>\n",
       "    </tr>\n",
       "  </thead>\n",
       "  <tbody>\n",
       "    <tr>\n",
       "      <th>tip</th>\n",
       "      <td>1.914455</td>\n",
       "      <td>8.323502</td>\n",
       "    </tr>\n",
       "    <tr>\n",
       "      <th>total_bill</th>\n",
       "      <td>8.323502</td>\n",
       "      <td>79.252939</td>\n",
       "    </tr>\n",
       "  </tbody>\n",
       "</table>\n",
       "</div>"
      ],
      "text/plain": [
       "                 tip  total_bill\n",
       "tip         1.914455    8.323502\n",
       "total_bill  8.323502   79.252939"
      ]
     },
     "execution_count": 26,
     "metadata": {},
     "output_type": "execute_result"
    }
   ],
   "source": [
    "df[[\"tip\",\"total_bill\"]].cov()"
   ]
  },
  {
   "cell_type": "code",
   "execution_count": 28,
   "id": "328149d4-0198-4bf7-80da-50f363aa6419",
   "metadata": {},
   "outputs": [
    {
     "data": {
      "text/html": [
       "<div>\n",
       "<style scoped>\n",
       "    .dataframe tbody tr th:only-of-type {\n",
       "        vertical-align: middle;\n",
       "    }\n",
       "\n",
       "    .dataframe tbody tr th {\n",
       "        vertical-align: top;\n",
       "    }\n",
       "\n",
       "    .dataframe thead th {\n",
       "        text-align: right;\n",
       "    }\n",
       "</style>\n",
       "<table border=\"1\" class=\"dataframe\">\n",
       "  <thead>\n",
       "    <tr style=\"text-align: right;\">\n",
       "      <th></th>\n",
       "      <th>tip</th>\n",
       "      <th>total_bill</th>\n",
       "    </tr>\n",
       "  </thead>\n",
       "  <tbody>\n",
       "    <tr>\n",
       "      <th>tip</th>\n",
       "      <td>1.000000</td>\n",
       "      <td>0.675734</td>\n",
       "    </tr>\n",
       "    <tr>\n",
       "      <th>total_bill</th>\n",
       "      <td>0.675734</td>\n",
       "      <td>1.000000</td>\n",
       "    </tr>\n",
       "  </tbody>\n",
       "</table>\n",
       "</div>"
      ],
      "text/plain": [
       "                 tip  total_bill\n",
       "tip         1.000000    0.675734\n",
       "total_bill  0.675734    1.000000"
      ]
     },
     "execution_count": 28,
     "metadata": {},
     "output_type": "execute_result"
    }
   ],
   "source": [
    "df[[\"tip\",\"total_bill\"]].corr()\n",
    "#pozitif yönlü bir korelasyon var aralarında"
   ]
  },
  {
   "cell_type": "code",
   "execution_count": 29,
   "id": "67fdc8cb-cf17-40f6-93ae-409f7b243a4c",
   "metadata": {},
   "outputs": [],
   "source": [
    "#güven aralığı\n",
    "#ölçümün hassasiyetinin bir göstergesidir\n",
    "#tahminlerin ne kadar güvenilir olduğu ile ilgili değer verir"
   ]
  },
  {
   "cell_type": "code",
   "execution_count": 31,
   "id": "388c937a-f323-4cd4-b62a-32a451bdfde7",
   "metadata": {},
   "outputs": [],
   "source": [
    "#%5 sapma ile değerlerin nerede olduğunu gösterir hangi aralıkta"
   ]
  },
  {
   "cell_type": "code",
   "execution_count": 32,
   "id": "f62cd22e-db73-4806-8faa-55ae83ac447a",
   "metadata": {},
   "outputs": [],
   "source": [
    "#güven aralığını kullanarak fiyat stratejisi destek sistemi"
   ]
  },
  {
   "cell_type": "code",
   "execution_count": 34,
   "id": "b2d35ff2-d198-4fe8-bff3-0322ad6a8e06",
   "metadata": {},
   "outputs": [],
   "source": [
    "#CEO fiyat belirleme konusunda bilimsel dayanak ve esneklik istiyor"
   ]
  },
  {
   "cell_type": "code",
   "execution_count": 35,
   "id": "63e24f93-0932-4bf3-8eff-8fa0d99422a5",
   "metadata": {},
   "outputs": [],
   "source": [
    "#iş uygulaması:Fiyat stratejisi karar destek"
   ]
  },
  {
   "cell_type": "code",
   "execution_count": 36,
   "id": "58957cc4-639d-4564-9e2f-917b232c01c7",
   "metadata": {},
   "outputs": [
    {
     "data": {
      "text/plain": [
       "array([109,  64,  52,  59,  73,  98,  24,  86,  51,  74])"
      ]
     },
     "execution_count": 36,
     "metadata": {},
     "output_type": "execute_result"
    }
   ],
   "source": [
    "fiyatlar=np.random.randint(10,110,1000)\n",
    "fiyatlar[0:10]"
   ]
  },
  {
   "cell_type": "code",
   "execution_count": 38,
   "id": "bd34c1bd-61b4-4f3d-b283-c445d524b48d",
   "metadata": {},
   "outputs": [
    {
     "data": {
      "text/plain": [
       "58.492"
      ]
     },
     "execution_count": 38,
     "metadata": {},
     "output_type": "execute_result"
    }
   ],
   "source": [
    "fiyatlar.mean()"
   ]
  },
  {
   "cell_type": "code",
   "execution_count": 40,
   "id": "3c3f541a-1533-46d8-9716-6db35e99a88f",
   "metadata": {},
   "outputs": [],
   "source": [
    "#şimdi şu zamana kadar kullanılmayan bir kütüphane kullanacağım\n",
    "import statsmodels.stats.api as sms"
   ]
  },
  {
   "cell_type": "code",
   "execution_count": 44,
   "id": "64ea077f-805a-454b-8375-e29ed132d588",
   "metadata": {},
   "outputs": [
    {
     "data": {
      "text/plain": [
       "(56.67953887736034, 60.30446112263965)"
      ]
     },
     "execution_count": 44,
     "metadata": {},
     "output_type": "execute_result"
    }
   ],
   "source": [
    "sms.DescrStatsW(fiyatlar).tconfint_mean()\n",
    "#güven aralığı %95 isabet ile bu aradadır"
   ]
  },
  {
   "cell_type": "code",
   "execution_count": 45,
   "id": "74c3e4c9-e478-4a5a-b201-eeb24a90a82a",
   "metadata": {},
   "outputs": [],
   "source": [
    "#olasılık nedir?\n",
    "#olayların olabilirliğinin sayısal ifadesidir"
   ]
  },
  {
   "cell_type": "code",
   "execution_count": 46,
   "id": "d309711e-37be-480b-b166-deadaa5cc255",
   "metadata": {},
   "outputs": [],
   "source": [
    "#rassal değişken nedir?\n",
    "#değerleri bir deneyin sonucundan alan değişkene rassal değişken denir"
   ]
  },
  {
   "cell_type": "code",
   "execution_count": 47,
   "id": "eb2cd16e-283c-436f-98fd-6c85c3f54c1a",
   "metadata": {},
   "outputs": [],
   "source": [
    "#kesikli olasılık dağılımları\n",
    "#bernoulli\n",
    "#binom\n",
    "#poisson"
   ]
  },
  {
   "cell_type": "code",
   "execution_count": 48,
   "id": "3fde1dcd-13b0-4741-91c7-51a84e1f6389",
   "metadata": {},
   "outputs": [],
   "source": [
    "#Sürekli olasılık dağılımları\n",
    "#normal dağılım\n",
    "#üniform dağılım\n",
    "#üstel dağılım"
   ]
  },
  {
   "cell_type": "code",
   "execution_count": 49,
   "id": "97c5b39c-2110-4ea0-ac13-185e9566cbf7",
   "metadata": {},
   "outputs": [],
   "source": [
    "#bernoulli dağılımı\n",
    "#bernoulli kesiklidir yani 1 veya 0 dır"
   ]
  },
  {
   "cell_type": "code",
   "execution_count": 50,
   "id": "0e1166d3-6934-44a9-8a1b-eb3a86e8fc80",
   "metadata": {},
   "outputs": [],
   "source": [
    "#bernoulli dağılımı olasılık hesaplama işlemi\n",
    "from scipy.stats import bernoulli"
   ]
  },
  {
   "cell_type": "code",
   "execution_count": 51,
   "id": "c82e4e7a-c644-41b0-9ddd-51ae143cc14a",
   "metadata": {},
   "outputs": [],
   "source": [
    "#burada yazı tura durumunu inceliyecez\n",
    "p=0.6"
   ]
  },
  {
   "cell_type": "code",
   "execution_count": 58,
   "id": "7db056ae-fd92-4a44-ad96-d916991daf21",
   "metadata": {},
   "outputs": [
    {
     "data": {
      "text/plain": [
       "<scipy.stats._distn_infrastructure.rv_frozen at 0x7fbf50218ac0>"
      ]
     },
     "execution_count": 58,
     "metadata": {},
     "output_type": "execute_result"
    }
   ],
   "source": [
    "#pmf=olasılık kütle fonksiyonu\n",
    "rv=bernoulli(p)\n",
    "rv"
   ]
  },
  {
   "cell_type": "code",
   "execution_count": 59,
   "id": "200f3fcc-b855-4e98-9299-57557ab8ac20",
   "metadata": {},
   "outputs": [
    {
     "data": {
      "text/plain": [
       "0.6"
      ]
     },
     "execution_count": 59,
     "metadata": {},
     "output_type": "execute_result"
    }
   ],
   "source": [
    "rv.pmf(k=1)\n",
    "#k=1 demek olması olasılığı ile ilgilenmemiz demektir"
   ]
  },
  {
   "cell_type": "code",
   "execution_count": 60,
   "id": "a25095b2-e6e6-4be9-af7e-54a5d8f8ccbc",
   "metadata": {},
   "outputs": [
    {
     "data": {
      "text/plain": [
       "0.4"
      ]
     },
     "execution_count": 60,
     "metadata": {},
     "output_type": "execute_result"
    }
   ],
   "source": [
    "rv.pmf(k=0)"
   ]
  },
  {
   "cell_type": "code",
   "execution_count": 61,
   "id": "40d962a7-6ca1-48d5-a542-aeabf110ef3e",
   "metadata": {},
   "outputs": [],
   "source": [
    "#büyük sayılar yasası \n",
    "#bir rassal değişkenin uzun vadede kararlılığını tanımlayan olasılık teoremidir"
   ]
  },
  {
   "cell_type": "code",
   "execution_count": 90,
   "id": "cbae1b39-470e-486b-92c5-806628e9e0f8",
   "metadata": {},
   "outputs": [
    {
     "data": {
      "text/plain": [
       "RandomState(MT19937) at 0x7FBF203AD240"
      ]
     },
     "execution_count": 90,
     "metadata": {},
     "output_type": "execute_result"
    }
   ],
   "source": [
    "import numpy as np\n",
    "rng=np.random.RandomState(123)\n",
    "#random değerleri sabitlemek için RandomState kullanıyoruz\n",
    "#rastgelelik ile ilgili bir ayardır\n",
    "rng"
   ]
  },
  {
   "cell_type": "code",
   "execution_count": 91,
   "id": "e78d3b25-7724-409f-89bc-ed732440bc51",
   "metadata": {},
   "outputs": [
    {
     "name": "stdout",
     "output_type": "stream",
     "text": [
      "Atış Sayısı: 1 --- Yazı Olasılığı: 0.00\n",
      "Atış Sayısı: 4 --- Yazı Olasılığı: 25.00\n",
      "Atış Sayısı: 9 --- Yazı Olasılığı: 55.56\n",
      "Atış Sayısı: 16 --- Yazı Olasılığı: 43.75\n",
      "Atış Sayısı: 25 --- Yazı Olasılığı: 48.00\n",
      "Atış Sayısı: 36 --- Yazı Olasılığı: 41.67\n",
      "Atış Sayısı: 49 --- Yazı Olasılığı: 59.18\n",
      "Atış Sayısı: 64 --- Yazı Olasılığı: 48.44\n",
      "Atış Sayısı: 81 --- Yazı Olasılığı: 55.56\n",
      "Atış Sayısı: 100 --- Yazı Olasılığı: 55.00\n",
      "Atış Sayısı: 121 --- Yazı Olasılığı: 49.59\n",
      "Atış Sayısı: 144 --- Yazı Olasılığı: 56.25\n",
      "Atış Sayısı: 169 --- Yazı Olasılığı: 46.75\n",
      "Atış Sayısı: 196 --- Yazı Olasılığı: 57.14\n",
      "Atış Sayısı: 225 --- Yazı Olasılığı: 56.00\n",
      "Atış Sayısı: 256 --- Yazı Olasılığı: 47.27\n",
      "Atış Sayısı: 289 --- Yazı Olasılığı: 48.79\n",
      "Atış Sayısı: 324 --- Yazı Olasılığı: 51.85\n",
      "Atış Sayısı: 361 --- Yazı Olasılığı: 46.26\n",
      "Atış Sayısı: 400 --- Yazı Olasılığı: 50.50\n"
     ]
    }
   ],
   "source": [
    "for i in np.arange(1,21):\n",
    "    deney_sayisi=i**2\n",
    "    yazi_turalar=rng.randint(0,2,size=deney_sayisi)\n",
    "    yazi_olasiliklari=np.mean(yazi_turalar)\n",
    "    print(\"Atış Sayısı:\",deney_sayisi,\"---\",'Yazı Olasılığı: %.2f' % (yazi_olasiliklari*100))"
   ]
  },
  {
   "cell_type": "code",
   "execution_count": 92,
   "id": "c2f31a5d-81c0-4549-b96d-85313aaa486f",
   "metadata": {},
   "outputs": [],
   "source": [
    "#binom dağılımı\n",
    "#binom dağılımı sayısız n deneme sonucu k başarılı olma\n",
    "#olasılığı ile ilgilenildiğinde kullanılır"
   ]
  },
  {
   "cell_type": "code",
   "execution_count": null,
   "id": "057a1671-53d0-4a4d-89ac-6744d9049bb6",
   "metadata": {},
   "outputs": [],
   "source": [
    "#deney bir madeni para havaya atılıyor 2 kere yazı gelme olasılı nedir"
   ]
  },
  {
   "cell_type": "code",
   "execution_count": 93,
   "id": "a5f35ca1-85f9-4c37-87d0-565d72d0e5c2",
   "metadata": {},
   "outputs": [],
   "source": [
    "#is uygulaması:reklam harcaması optimizasyonu"
   ]
  },
  {
   "cell_type": "code",
   "execution_count": 94,
   "id": "12d71a04-618d-4457-958f-8bd9f9e9e77b",
   "metadata": {},
   "outputs": [],
   "source": [
    "#bir mecrada reklam verilecek \n",
    "#reklama tıklanma olasılığı (0.01)\n",
    "#Reklamı 100 kişi gördüğünde reklama tıklanma olasılığı nedir?"
   ]
  },
  {
   "cell_type": "code",
   "execution_count": 95,
   "id": "fc7d0fdf-d721-4e80-a838-519370025600",
   "metadata": {},
   "outputs": [],
   "source": [
    "from scipy.stats import binom"
   ]
  },
  {
   "cell_type": "code",
   "execution_count": 97,
   "id": "eb376b6d-4301-4423-a0f0-6321ae973b57",
   "metadata": {},
   "outputs": [
    {
     "name": "stdout",
     "output_type": "stream",
     "text": [
      "0.36972963764972666\n",
      "0.002897787123761478\n",
      "7.006035693977194e-08\n"
     ]
    }
   ],
   "source": [
    "p=0.01\n",
    "n=100\n",
    "rv=binom(n,p)\n",
    "print(rv.pmf(1))\n",
    "print(rv.pmf(5))\n",
    "print(rv.pmf(10))"
   ]
  },
  {
   "cell_type": "code",
   "execution_count": 100,
   "id": "404e0dda-e3f3-4c4f-96b9-7823af5897d6",
   "metadata": {},
   "outputs": [],
   "source": [
    "#poisson dağılımı\n",
    "#belirli bir zamanda aralığında belirli nadir olayların olasılığını hesaplamak için kullanılır"
   ]
  },
  {
   "cell_type": "code",
   "execution_count": 102,
   "id": "1d924012-cfb4-4a6f-98f3-80735e9c4957",
   "metadata": {},
   "outputs": [],
   "source": [
    "#örnekler\n",
    "#10000 kelimelik kitapta hatalı kelime sayısu\n",
    "#4000 kişilik okulda hatalı not girişi"
   ]
  },
  {
   "cell_type": "code",
   "execution_count": 104,
   "id": "f5b8e3c6-654d-425d-936f-4ba407d42afb",
   "metadata": {},
   "outputs": [],
   "source": [
    "#örnek\n",
    "#bir üniversitede 5000 not girişinde 5 notun hatalı olma olasılığı\n",
    "#dağılımın poisson olduğu biliniyor ve lambda değeri 0.2"
   ]
  },
  {
   "cell_type": "code",
   "execution_count": 106,
   "id": "a70254ef-7397-4d1a-82ea-c79daec4ed9b",
   "metadata": {},
   "outputs": [],
   "source": [
    "#iş uygulaması:ilan girişi hata olasılıklarının hesaplanması\n",
    "#bir yıl boyunca ölçümler yapılıyor\n",
    "#dağılımın poisson olduğu biliniyor ve lambda yani ortalama hata sayısı (0.1)\n",
    "#hiç hata olmaması 3 hata olması ve 5 hata olması olasılığı nedir?"
   ]
  },
  {
   "cell_type": "code",
   "execution_count": 107,
   "id": "d5e81df3-dd3c-449d-8f25-fb3d97d93e18",
   "metadata": {},
   "outputs": [],
   "source": [
    "from scipy.stats import poisson"
   ]
  },
  {
   "cell_type": "code",
   "execution_count": 108,
   "id": "8d07a8f3-3d2e-499b-88f3-05999f2da07d",
   "metadata": {},
   "outputs": [],
   "source": [
    "lambda_=0.1"
   ]
  },
  {
   "cell_type": "code",
   "execution_count": 111,
   "id": "c5237089-13d5-4a63-b2db-ffc0288e1014",
   "metadata": {},
   "outputs": [
    {
     "name": "stdout",
     "output_type": "stream",
     "text": [
      "hiç hata olmaması 0.9048374180359595\n",
      "üç hata olması 0.00015080623633932676\n",
      "beş hata olması 7.54031181696634e-08\n"
     ]
    }
   ],
   "source": [
    "rv=poisson(mu=lambda_)\n",
    "print(\"hiç hata olmaması\",rv.pmf(0))\n",
    "print(\"üç hata olması\",rv.pmf(3))\n",
    "print(\"beş hata olması\",rv.pmf(5))"
   ]
  },
  {
   "cell_type": "code",
   "execution_count": 115,
   "id": "a9d93772-c341-486d-ad69-7f5a969b3406",
   "metadata": {},
   "outputs": [],
   "source": [
    "#normal dağılım\n",
    "#sürekli dağılım örneğidir\n",
    "#en önemli dağılım türüdür\n",
    "#normal dağıldığı bilinen sürekli rassal değişkenler için \n",
    "#olasılık hesaplanması için kullanılır\n",
    "#veri bilimi açısından baktığımız yön budur"
   ]
  },
  {
   "cell_type": "code",
   "execution_count": 117,
   "id": "059f3904-c98e-401b-89ec-480f197e05c2",
   "metadata": {},
   "outputs": [],
   "source": [
    "#iş uygulaması:ürün satış olasılıklarının hesaplanması\n",
    "#dağılımın normal olduğu biliniyor\n",
    "#ortalamsı 80k standart sapması 5 k dır\n",
    "#90k'dan fazla satış yapılması olasılığı nedir?"
   ]
  },
  {
   "cell_type": "code",
   "execution_count": 118,
   "id": "7edbe500-a01f-47f3-afe1-982f905fee93",
   "metadata": {},
   "outputs": [],
   "source": [
    "from scipy.stats import norm"
   ]
  },
  {
   "cell_type": "code",
   "execution_count": 119,
   "id": "ad176236-4869-49b6-bb04-80ea865ac9d0",
   "metadata": {},
   "outputs": [
    {
     "data": {
      "text/plain": [
       "0.02275013194817921"
      ]
     },
     "execution_count": 119,
     "metadata": {},
     "output_type": "execute_result"
    }
   ],
   "source": [
    "#90 dan fazla olması\n",
    "#cdf=kümülatif yoğunluk fonksiyonu\n",
    "1-norm.cdf(90,80,5)\n",
    "#cdf(istenilen,ortalama,standart sapma)"
   ]
  },
  {
   "cell_type": "code",
   "execution_count": 121,
   "id": "c832561a-a1b5-42ee-a19a-95854e14a4bf",
   "metadata": {},
   "outputs": [
    {
     "data": {
      "text/plain": [
       "0.9772498680518208"
      ]
     },
     "execution_count": 121,
     "metadata": {},
     "output_type": "execute_result"
    }
   ],
   "source": [
    "#70den fazla olması\n",
    "1-norm.cdf(70,80,5)"
   ]
  },
  {
   "cell_type": "code",
   "execution_count": 123,
   "id": "5e82d40b-8013-4c28-808c-ac88191779de",
   "metadata": {},
   "outputs": [
    {
     "data": {
      "text/plain": [
       "0.08075665923377107"
      ]
     },
     "execution_count": 123,
     "metadata": {},
     "output_type": "execute_result"
    }
   ],
   "source": [
    "#73den az olması\n",
    "norm.cdf(73,80,5)"
   ]
  },
  {
   "cell_type": "code",
   "execution_count": 124,
   "id": "bf8e8076-2f0b-495a-9509-e9b760ec6ea4",
   "metadata": {},
   "outputs": [
    {
     "data": {
      "text/plain": [
       "0.13590512198327787"
      ]
     },
     "execution_count": 124,
     "metadata": {},
     "output_type": "execute_result"
    }
   ],
   "source": [
    "#85 ile 90 arasında olması\n",
    "1-(norm.cdf(85,80,5)+(1-norm.cdf(90,80,5)))"
   ]
  },
  {
   "cell_type": "code",
   "execution_count": 125,
   "id": "b91c6f92-5b7c-4969-8dec-a2aa181b02ee",
   "metadata": {},
   "outputs": [],
   "source": [
    "#hipotex nedir?\n",
    "#bir inanışı test etmek için kullanılan istatistiksel testtir"
   ]
  },
  {
   "cell_type": "code",
   "execution_count": 126,
   "id": "5016f041-d8a9-43e8-a009-091bdd6adae1",
   "metadata": {},
   "outputs": [],
   "source": [
    "#t örneklem testi nedir?\n",
    "#örnek ortalamasına ilişkin test yapmak için kullanılır"
   ]
  },
  {
   "cell_type": "code",
   "execution_count": 128,
   "id": "4ebbdb0c-6408-4215-9274-6d9735979074",
   "metadata": {},
   "outputs": [],
   "source": [
    "#iş uygulaması:ürün satın alma adım optimizasyonu\n",
    "#problem sepete ürün ekleme kısmında 5 adet adım vardır \n",
    "#bu adımlardan biri sorgulanmaktadır"
   ]
  },
  {
   "cell_type": "code",
   "execution_count": 129,
   "id": "60726007-c7dd-491e-b852-852ae3945752",
   "metadata": {},
   "outputs": [],
   "source": [
    "#her adım için 20 şer saniye var 4. adım test ediliyor\n",
    "#bu durumu test etmek için 100 örnek alınıyor\n",
    "#örnek standart sapması 5 saniyedir ortalaması ise 19 saniyedir"
   ]
  },
  {
   "cell_type": "code",
   "execution_count": 130,
   "id": "37f0a6cb-18ee-4556-9173-70abd528c866",
   "metadata": {},
   "outputs": [],
   "source": [
    "#biz ortaya çıkan bir değerin şans eseri olmadığının testini yapıyoruz"
   ]
  },
  {
   "cell_type": "code",
   "execution_count": 131,
   "id": "ffa011f5-5f8d-447f-a9ac-4befde464cd9",
   "metadata": {},
   "outputs": [],
   "source": [
    "#iş uygulaması:web sitesinde gecirilen sürenin testi"
   ]
  },
  {
   "cell_type": "code",
   "execution_count": 132,
   "id": "a733426b-75ae-4f8c-a3a2-9168cba682cb",
   "metadata": {},
   "outputs": [],
   "source": [
    "#problem: web sitesinde geçirilen zaman 170 saniye mi?"
   ]
  },
  {
   "cell_type": "code",
   "execution_count": 133,
   "id": "edcbc632-4498-4dce-844c-eb7dd9bc3a14",
   "metadata": {},
   "outputs": [],
   "source": [
    "#Tek örneklem T testi"
   ]
  },
  {
   "cell_type": "code",
   "execution_count": 134,
   "id": "5526db35-eb7e-4738-91c9-3eb00590440a",
   "metadata": {},
   "outputs": [],
   "source": [
    "import numpy as np\n",
    "\n",
    "olcumler = np.array([17, 160, 234, 149, 145, 107, 197, 75, 201, 225, 211, 119, \n",
    "              157, 145, 127, 244, 163, 114, 145,  65, 112, 185, 202, 146,\n",
    "              203, 224, 203, 114, 188, 156, 187, 154, 177, 95, 165, 50, 110, \n",
    "              216, 138, 151, 166, 135, 155, 84, 251, 173, 131, 207, 121, 120])"
   ]
  },
  {
   "cell_type": "code",
   "execution_count": 135,
   "id": "1acc1321-1d82-45fd-894a-7358b3c14dc0",
   "metadata": {},
   "outputs": [
    {
     "data": {
      "text/plain": [
       "array([ 17, 160, 234, 149, 145, 107, 197,  75, 201, 225])"
      ]
     },
     "execution_count": 135,
     "metadata": {},
     "output_type": "execute_result"
    }
   ],
   "source": [
    "olcumler[0:10]"
   ]
  },
  {
   "cell_type": "code",
   "execution_count": 137,
   "id": "5a2bb9b6-578d-4a30-aa73-b3a50f8a0e8f",
   "metadata": {},
   "outputs": [],
   "source": [
    "import scipy.stats as stats"
   ]
  },
  {
   "cell_type": "code",
   "execution_count": 139,
   "id": "3746313f-951c-41af-86bc-3a64a751b3b8",
   "metadata": {},
   "outputs": [
    {
     "data": {
      "text/plain": [
       "DescribeResult(nobs=50, minmax=(17, 251), mean=154.38, variance=2578.0363265306123, skewness=-0.32398897278694483, kurtosis=-0.05849823498415985)"
      ]
     },
     "execution_count": 139,
     "metadata": {},
     "output_type": "execute_result"
    }
   ],
   "source": [
    "stats.describe(olcumler)"
   ]
  },
  {
   "cell_type": "code",
   "execution_count": 145,
   "id": "7f6e2948-0605-4dcb-81c2-c4983423c028",
   "metadata": {},
   "outputs": [],
   "source": [
    "#varsayımlar\n",
    "#normallik varsayımı\n",
    "#bunlar insan yanılgılarından bizi kurtaracak olan hipotez testleri"
   ]
  },
  {
   "cell_type": "code",
   "execution_count": 147,
   "id": "b16f9b48-3a2d-4b72-9af1-69a6cacb4dd1",
   "metadata": {},
   "outputs": [
    {
     "data": {
      "text/plain": [
       "<AxesSubplot:ylabel='Frequency'>"
      ]
     },
     "execution_count": 147,
     "metadata": {},
     "output_type": "execute_result"
    },
    {
     "data": {
      "image/png": "[encoded data removed]",
      "text/plain": [
       "<Figure size 432x288 with 1 Axes>"
      ]
     },
     "metadata": {
      "needs_background": "light"
     },
     "output_type": "display_data"
    }
   ],
   "source": [
    "import pandas as pd\n",
    "import matplotlib.pyplot as plt\n",
    "pd.DataFrame(olcumler).plot.hist()"
   ]
  },
  {
   "cell_type": "code",
   "execution_count": 150,
   "id": "532e80c1-eef0-40a5-aff1-8be987a80222",
   "metadata": {},
   "outputs": [
    {
     "data": {
      "image/png": "[encoded data removed]",
      "text/plain": [
       "<Figure size 432x288 with 1 Axes>"
      ]
     },
     "metadata": {
      "needs_background": "light"
     },
     "output_type": "display_data"
    }
   ],
   "source": [
    "#qqplot tekniği\n",
    "import pylab\n",
    "stats.probplot(olcumler,dist=\"norm\",plot=pylab)\n",
    "pylab.show()\n",
    "#noktaların kırmızı çizginin ortasında kümelenmiş olmasını bekleriz"
   ]
  },
  {
   "cell_type": "code",
   "execution_count": 151,
   "id": "5620cb3f-fabf-4568-be47-7993405b6814",
   "metadata": {},
   "outputs": [],
   "source": [
    "#Shapiro Wilks Testi\n",
    "#h0 hipotezi: örnek dağılım ile istatistiksel dağılım arasında anlamı bir fark yoktur\n",
    "#h1 : ...fark vardır"
   ]
  },
  {
   "cell_type": "code",
   "execution_count": 152,
   "id": "b5e7d8b1-1f42-4108-a6c2-606247c1f83c",
   "metadata": {},
   "outputs": [],
   "source": [
    "from scipy.stats import shapiro"
   ]
  },
  {
   "cell_type": "code",
   "execution_count": 161,
   "id": "28861b59-81ba-4ee9-808e-4e0007d28ab8",
   "metadata": {},
   "outputs": [
    {
     "data": {
      "text/plain": [
       "ShapiroResult(statistic=0.9853105545043945, pvalue=0.7848747968673706)"
      ]
     },
     "execution_count": 161,
     "metadata": {},
     "output_type": "execute_result"
    }
   ],
   "source": [
    "shapiro(olcumler)\n",
    "#sol tarafta gördüğümüz değer test istatistiğini ifade ediyor\n",
    "#sağ tarafta gördüğümüz değerde p value değerini ifade ediyor\n",
    "#p value değeri alfadan yüksek olduğu için hipotezi reddedemiyoruz\n",
    "#varsayım kontrolü"
   ]
  },
  {
   "cell_type": "code",
   "execution_count": 158,
   "id": "3570df23-1314-4589-bae0-92c6c3e04a11",
   "metadata": {},
   "outputs": [
    {
     "name": "stdout",
     "output_type": "stream",
     "text": [
      "T hesap istatistiği=0.9853105545043945\n",
      "Hesaplanan P value=0.7848747968673706\n"
     ]
    }
   ],
   "source": [
    "print(\"T hesap istatistiği=\"+str(shapiro(olcumler)[0]))\n",
    "print(\"Hesaplanan P value=\"+str(shapiro(olcumler)[1]))"
   ]
  },
  {
   "cell_type": "code",
   "execution_count": 159,
   "id": "7bc66ebe-0089-46f9-a4d2-74d1aae8e440",
   "metadata": {},
   "outputs": [],
   "source": [
    "#hipotez testinin uygulanması"
   ]
  },
  {
   "cell_type": "code",
   "execution_count": 162,
   "id": "6b46e2e0-a99d-4058-8073-d80d6e35dfbc",
   "metadata": {},
   "outputs": [
    {
     "data": {
      "text/plain": [
       "Ttest_1sampResult(statistic=-2.1753117985877966, pvalue=0.034460415195071446)"
      ]
     },
     "execution_count": 162,
     "metadata": {},
     "output_type": "execute_result"
    }
   ],
   "source": [
    "stats.ttest_1samp(olcumler,popmean=170)\n",
    "#hipotez kontrolü"
   ]
  },
  {
   "cell_type": "code",
   "execution_count": 164,
   "id": "b595b2d9-11c7-4736-b809-e390a9230711",
   "metadata": {},
   "outputs": [],
   "source": [
    "#H0 web sitemizde geçirilen süre 170'tir\n",
    "#H1 ... değildir\n",
    "# pvalue 0.05 ten küçük olduğu için H0 hipotezi reddedilir"
   ]
  },
  {
   "cell_type": "code",
   "execution_count": 165,
   "id": "7a69f535-8739-4918-b3e1-f2bfbf00c92b",
   "metadata": {},
   "outputs": [],
   "source": [
    "#nonparametrik Tek örneklem Testi"
   ]
  },
  {
   "cell_type": "code",
   "execution_count": 166,
   "id": "3d8582c5-b183-4b0b-bead-57af752a396b",
   "metadata": {},
   "outputs": [],
   "source": [
    "from statsmodels.stats.descriptivestats import sign_test"
   ]
  },
  {
   "cell_type": "code",
   "execution_count": 168,
   "id": "88cb1c13-8ef5-4bc3-9a24-70f058b63332",
   "metadata": {},
   "outputs": [
    {
     "data": {
      "text/plain": [
       "(-7.0, 0.06490864707227217)"
      ]
     },
     "execution_count": 168,
     "metadata": {},
     "output_type": "execute_result"
    }
   ],
   "source": [
    "sign_test(olcumler,170)\n",
    "#merkezi eğilime göre bir test yapılıyor"
   ]
  },
  {
   "cell_type": "code",
   "execution_count": 169,
   "id": "2dac188a-249a-4eca-97ff-5c993b84b7cc",
   "metadata": {},
   "outputs": [],
   "source": [
    "#tek örneklem oran testi\n",
    "#oransal bir ifade test edilmek istenildiğinde kullanılır"
   ]
  },
  {
   "cell_type": "code",
   "execution_count": 171,
   "id": "69cacf78-3870-48bb-832e-fd05a240876c",
   "metadata": {},
   "outputs": [],
   "source": [
    "#iş uygulaması:Dönüşüm oranı testi\n",
    "#dönüşüm oranı pazarlama ve e ticaret dünyasında olan çok önemli bir kavramdır"
   ]
  },
  {
   "cell_type": "code",
   "execution_count": 172,
   "id": "c8cb3bda-c226-4222-9840-7f4cf4c1efee",
   "metadata": {},
   "outputs": [],
   "source": [
    "#problem: bir mecrada reklama veriliyor bu reklama ilişkin dönüşüm oranı yazılım tarafından 0.125 bulunuyor\n",
    "#fakat bu rakam gerçekle uyuşmadığı için test edilmek isteniyor"
   ]
  },
  {
   "cell_type": "code",
   "execution_count": 173,
   "id": "3d6a3e80-046d-4c66-8f1c-578b1bc81674",
   "metadata": {},
   "outputs": [],
   "source": [
    "#detaylar\n",
    "#500 kişi bir mecrada reklamlara tıklamış ve sadece 40 kişi alışveriş yapmış\n",
    "#örnek üzerinden elde edilen dönüşüm oranı 40/500=0.08"
   ]
  },
  {
   "cell_type": "code",
   "execution_count": 174,
   "id": "8135774f-ebbf-4dbd-84aa-5372a8fb57b6",
   "metadata": {},
   "outputs": [],
   "source": [
    "#tek örneklem oran testi\n",
    "#H0 p=0.125\n",
    "#H1 p eşit değildir 0.125"
   ]
  },
  {
   "cell_type": "code",
   "execution_count": 176,
   "id": "ec04b49f-ad57-496b-83db-d18643080492",
   "metadata": {},
   "outputs": [],
   "source": [
    "from statsmodels.stats.proportion import proportions_ztest"
   ]
  },
  {
   "cell_type": "code",
   "execution_count": 177,
   "id": "90cd8cab-6a62-444d-9241-391367fb162c",
   "metadata": {},
   "outputs": [],
   "source": [
    "count=40\n",
    "nobs=500\n",
    "value=0.125\n",
    "#value değerimiz test etmek istediğimiz değerimiz"
   ]
  },
  {
   "cell_type": "code",
   "execution_count": 181,
   "id": "5335bc95-dbb1-4145-bb8c-349005abbe03",
   "metadata": {},
   "outputs": [
    {
     "data": {
      "text/plain": [
       "(-3.7090151628513017, 0.0002080669689845979)"
      ]
     },
     "execution_count": 181,
     "metadata": {},
     "output_type": "execute_result"
    }
   ],
   "source": [
    "proportions_ztest(count,nobs,value)\n",
    "#(başarı sayısı,test sayısı nobs,elde edilen sonuç değeri)\n",
    "#sol taraf z istatistiği \n",
    "#sağ taraf p value değeri ve bizde bu değer üzerinden yorumumuzu yapıyoruz\n",
    "#p value değeri 0.05 ten küçük olduğu için hipotez red edilir\n",
    "#H0 hiptezi red edilmiştir\n",
    "# %95 doğrulukla bunu söylemiş oluyoruz"
   ]
  },
  {
   "cell_type": "code",
   "execution_count": 183,
   "id": "40fe1eea-3b91-4924-b3b5-d6e030347c3e",
   "metadata": {},
   "outputs": [],
   "source": [
    "#bağımsız iki örneklem T testi(AB)\n",
    "#iki grup ortalaması arasında karşılaştırma yapılmak istenildiğinde kullanılır "
   ]
  },
  {
   "cell_type": "code",
   "execution_count": 184,
   "id": "eb341f6d-f253-4a01-a7d3-d85da3f32b6d",
   "metadata": {},
   "outputs": [],
   "source": [
    "#iki varsayımımız bulunmakta \n",
    "#Normallik\n",
    "#Varsayım Homojenliği"
   ]
  },
  {
   "cell_type": "code",
   "execution_count": 186,
   "id": "9df053d4-d95f-4fbc-82e8-71e0d24d9e53",
   "metadata": {},
   "outputs": [],
   "source": [
    "#iş uygulaması:ML modelinin başarı testi(AB testi)\n",
    "# A eski modeli temsil ediyor\n",
    "# B ise makine öğrenmeli yeni modeli"
   ]
  },
  {
   "cell_type": "code",
   "execution_count": 189,
   "id": "d1da1993-c0e0-43f0-8fe3-0b6d45aadb65",
   "metadata": {},
   "outputs": [],
   "source": [
    "#problem:Bir ML projesine yatırım yapılmış ürettiği tahminler neticesinde eksi yeni veriler\n",
    "# arasındaki anlamlılık test edilmek isteniyor"
   ]
  },
  {
   "cell_type": "code",
   "execution_count": 190,
   "id": "55fafd48-1345-4ebc-97c0-a73b9c19fe8c",
   "metadata": {},
   "outputs": [],
   "source": [
    "#detaylar\n",
    "# A ve B grubu olmak üzere iki tip müşteri var\n",
    "# A grubundakilere eski sisteme göre ürün gösteriliyor\n",
    "# B grubundakilerede yeni sisteme göre ürün gösteriliyor"
   ]
  },
  {
   "cell_type": "code",
   "execution_count": 191,
   "id": "e51e6037-51ab-4c7e-880b-8d056577a9ed",
   "metadata": {},
   "outputs": [
    {
     "data": {
      "text/html": [
       "<div>\n",
       "<style scoped>\n",
       "    .dataframe tbody tr th:only-of-type {\n",
       "        vertical-align: middle;\n",
       "    }\n",
       "\n",
       "    .dataframe tbody tr th {\n",
       "        vertical-align: top;\n",
       "    }\n",
       "\n",
       "    .dataframe thead th {\n",
       "        text-align: right;\n",
       "    }\n",
       "</style>\n",
       "<table border=\"1\" class=\"dataframe\">\n",
       "  <thead>\n",
       "    <tr style=\"text-align: right;\">\n",
       "      <th></th>\n",
       "      <th>A</th>\n",
       "      <th>B</th>\n",
       "    </tr>\n",
       "  </thead>\n",
       "  <tbody>\n",
       "    <tr>\n",
       "      <th>0</th>\n",
       "      <td>30</td>\n",
       "      <td>37</td>\n",
       "    </tr>\n",
       "    <tr>\n",
       "      <th>1</th>\n",
       "      <td>27</td>\n",
       "      <td>39</td>\n",
       "    </tr>\n",
       "    <tr>\n",
       "      <th>2</th>\n",
       "      <td>21</td>\n",
       "      <td>31</td>\n",
       "    </tr>\n",
       "    <tr>\n",
       "      <th>3</th>\n",
       "      <td>27</td>\n",
       "      <td>31</td>\n",
       "    </tr>\n",
       "    <tr>\n",
       "      <th>4</th>\n",
       "      <td>29</td>\n",
       "      <td>34</td>\n",
       "    </tr>\n",
       "  </tbody>\n",
       "</table>\n",
       "</div>"
      ],
      "text/plain": [
       "    A   B\n",
       "0  30  37\n",
       "1  27  39\n",
       "2  21  31\n",
       "3  27  31\n",
       "4  29  34"
      ]
     },
     "execution_count": 191,
     "metadata": {},
     "output_type": "execute_result"
    }
   ],
   "source": [
    "A = pd.DataFrame([30,27,21,27,29,30,20,20,27,32,35,22,24,23,25,27,23,27,23,\n",
    "        25,21,18,24,26,33,26,27,28,19,25])\n",
    "\n",
    "B = pd.DataFrame([37,39,31,31,34,38,30,36,29,28,38,28,37,37,30,32,31,31,27,\n",
    "        32,33,33,33,31,32,33,26,32,33,29])\n",
    "\n",
    "\n",
    "A_B = pd.concat([A, B], axis = 1)\n",
    "A_B.columns = [\"A\",\"B\"]\n",
    "\n",
    "A_B.head()"
   ]
  },
  {
   "cell_type": "code",
   "execution_count": 193,
   "id": "db9a6fc3-56b2-4419-952a-0d37906c7f8a",
   "metadata": {},
   "outputs": [
    {
     "name": "stdout",
     "output_type": "stream",
     "text": [
      "   gelir GRUP\n",
      "0     30    A\n",
      "1     27    A\n",
      "2     21    A\n",
      "3     27    A\n",
      "4     29    A\n",
      "    gelir GRUP\n",
      "25     33    B\n",
      "26     26    B\n",
      "27     32    B\n",
      "28     33    B\n",
      "29     29    B\n"
     ]
    }
   ],
   "source": [
    "#veriyi düzenlemenin en zor şekli\n",
    "A = pd.DataFrame([30,27,21,27,29,30,20,20,27,32,35,22,24,23,25,27,23,27,23,\n",
    "        25,21,18,24,26,33,26,27,28,19,25])\n",
    "\n",
    "B = pd.DataFrame([37,39,31,31,34,38,30,36,29,28,38,28,37,37,30,32,31,31,27,\n",
    "        32,33,33,33,31,32,33,26,32,33,29])\n",
    "\n",
    "#A ve A'nın grubu\n",
    "GRUP_A = np.arange(len(A))\n",
    "GRUP_A = pd.DataFrame(GRUP_A)\n",
    "GRUP_A[:] = \"A\"\n",
    "A = pd.concat([A, GRUP_A], axis = 1)\n",
    "\n",
    "#B ve B'nin Grubu\n",
    "GRUP_B = np.arange(len(B))\n",
    "GRUP_B = pd.DataFrame(GRUP_B)\n",
    "GRUP_B[:] = \"B\"\n",
    "B = pd.concat([B, GRUP_B], axis = 1)\n",
    "\n",
    "#Tum veri\n",
    "AB = pd.concat([A,B])\n",
    "AB.columns = [\"gelir\",\"GRUP\"]\n",
    "print(AB.head())\n",
    "print(AB.tail())"
   ]
  },
  {
   "cell_type": "code",
   "execution_count": 194,
   "id": "8e529a67-2472-4469-bac6-77f8c6d05396",
   "metadata": {},
   "outputs": [],
   "source": [
    "import seaborn as sns"
   ]
  },
  {
   "cell_type": "code",
   "execution_count": 196,
   "id": "8c11356b-94c9-4b1b-bb8c-ebe7bd776704",
   "metadata": {},
   "outputs": [
    {
     "data": {
      "text/plain": [
       "<AxesSubplot:xlabel='GRUP', ylabel='gelir'>"
      ]
     },
     "execution_count": 196,
     "metadata": {},
     "output_type": "execute_result"
    },
    {
     "data": {
      "image/png": "[encoded data removed]",
      "text/plain": [
       "<Figure size 432x288 with 1 Axes>"
      ]
     },
     "metadata": {
      "needs_background": "light"
     },
     "output_type": "display_data"
    }
   ],
   "source": [
    "sns.boxplot(x=\"GRUP\",y=\"gelir\",data=AB)"
   ]
  },
  {
   "cell_type": "code",
   "execution_count": 198,
   "id": "b8f7951c-fb89-4149-b260-b831144b9d2f",
   "metadata": {},
   "outputs": [],
   "source": [
    "#bağımsız iki örneklem T testi Varsayım kontrolü"
   ]
  },
  {
   "cell_type": "code",
   "execution_count": 200,
   "id": "f54aabe0-cdc9-47c3-8d4c-be2f9b60f2ae",
   "metadata": {},
   "outputs": [
    {
     "data": {
      "text/plain": [
       "ShapiroResult(statistic=0.9789242148399353, pvalue=0.7962799668312073)"
      ]
     },
     "execution_count": 200,
     "metadata": {},
     "output_type": "execute_result"
    }
   ],
   "source": [
    "#şimdi normallik testini gerçekleştiriyorum\n",
    "shapiro(A_B.A)\n",
    "#birinci grup için varsayımı kabul ediyoruz çünkü pvalue 0.05 ten \n",
    "#büyük bir değer"
   ]
  },
  {
   "cell_type": "code",
   "execution_count": 201,
   "id": "cba7e0db-0471-4eea-a147-569c907d67d2",
   "metadata": {},
   "outputs": [
    {
     "data": {
      "text/plain": [
       "ShapiroResult(statistic=0.9561261534690857, pvalue=0.2458445429801941)"
      ]
     },
     "execution_count": 201,
     "metadata": {},
     "output_type": "execute_result"
    }
   ],
   "source": [
    "shapiro(A_B.B)"
   ]
  },
  {
   "cell_type": "code",
   "execution_count": 202,
   "id": "e29d8055-55de-4d77-a543-16d9689639a2",
   "metadata": {},
   "outputs": [],
   "source": [
    "#varyans homojenliği varsayımı\n",
    "#H0 homojendir\n",
    "#H1 homojen değildir"
   ]
  },
  {
   "cell_type": "code",
   "execution_count": 205,
   "id": "e229a683-2616-4ac5-912b-6fa0ee6fa4d9",
   "metadata": {},
   "outputs": [
    {
     "data": {
      "text/plain": [
       "LeveneResult(statistic=1.1101802757158004, pvalue=0.2964124900636569)"
      ]
     },
     "execution_count": 205,
     "metadata": {},
     "output_type": "execute_result"
    }
   ],
   "source": [
    "stats.levene(A_B.A,A_B.B)\n",
    "#H0 hipotezi kabul edildi"
   ]
  },
  {
   "cell_type": "code",
   "execution_count": 204,
   "id": "c2afd994-d30a-45ce-9d9f-d1eb61ad6c6a",
   "metadata": {},
   "outputs": [],
   "source": [
    "#bağımsız iki örneklem T testi uygulama"
   ]
  },
  {
   "cell_type": "code",
   "execution_count": 206,
   "id": "df87ee41-f0c6-46fa-ad6e-32b119666322",
   "metadata": {},
   "outputs": [
    {
     "data": {
      "text/plain": [
       "Ttest_indResult(statistic=-7.028690967745927, pvalue=2.6233215605475075e-09)"
      ]
     },
     "execution_count": 206,
     "metadata": {},
     "output_type": "execute_result"
    }
   ],
   "source": [
    "stats.ttest_ind(A_B[\"A\"],A_B[\"B\"],equal_var=True)\n",
    "#hipotezin sağlanıp sağlanmadının ifadesi equal_var dır"
   ]
  },
  {
   "cell_type": "code",
   "execution_count": 208,
   "id": "8590e04b-e125-4a25-a67b-9a16f2c8dc21",
   "metadata": {},
   "outputs": [
    {
     "name": "stdout",
     "output_type": "stream",
     "text": [
      "Test İstatistiği = -7.0287, p-değeri = 0.0000\n"
     ]
    }
   ],
   "source": [
    "test_istatistigi, pvalue = stats.ttest_ind(A_B[\"A\"], A_B[\"B\"])\n",
    "print('Test İstatistiği = %.4f, p-değeri = %.4f' % (test_istatistigi, pvalue))"
   ]
  },
  {
   "cell_type": "code",
   "execution_count": 209,
   "id": "ce6408ed-d629-4996-a597-5ee1eedafdbd",
   "metadata": {},
   "outputs": [],
   "source": [
    "#nonparametrik bağımsız iki örneklem testi"
   ]
  },
  {
   "cell_type": "code",
   "execution_count": 211,
   "id": "2bbb97f3-b03c-40a2-9cef-559a8ee4fd2e",
   "metadata": {},
   "outputs": [],
   "source": [
    "#önceki hipotezimizin sağlanmadığı var sayımıyla gidiyoruz"
   ]
  },
  {
   "cell_type": "code",
   "execution_count": 212,
   "id": "394143a4-1612-4666-a66a-1ea1ce25fedf",
   "metadata": {},
   "outputs": [
    {
     "data": {
      "text/plain": [
       "MannwhitneyuResult(statistic=89.5, pvalue=9.557950378612535e-08)"
      ]
     },
     "execution_count": 212,
     "metadata": {},
     "output_type": "execute_result"
    }
   ],
   "source": [
    "#bu durumda bu testi kullanıyoruz\n",
    "stats.mannwhitneyu(A_B[\"A\"],A_B[\"B\"])"
   ]
  },
  {
   "cell_type": "code",
   "execution_count": 214,
   "id": "c2d14610-1eb3-478d-9873-dcd5b613ba1a",
   "metadata": {},
   "outputs": [
    {
     "name": "stdout",
     "output_type": "stream",
     "text": [
      "Test İstatistiği = 89.5000, p-değeri = 0.0000\n"
     ]
    }
   ],
   "source": [
    "test_istatistigi, pvalue = stats.mannwhitneyu(A_B[\"A\"], A_B[\"B\"])\n",
    "print('Test İstatistiği = %.4f, p-değeri = %.4f' % (test_istatistigi, pvalue))\n",
    "#fark vardır sonucuna ulaşmış olduk"
   ]
  },
  {
   "cell_type": "code",
   "execution_count": 215,
   "id": "4f0cd624-a86c-48e8-a644-5d63bc03067e",
   "metadata": {},
   "outputs": [],
   "source": [
    "#bağımlı iki örneklem t testi"
   ]
  },
  {
   "cell_type": "code",
   "execution_count": 218,
   "id": "9d0194a8-53fd-4944-8500-1856393ba340",
   "metadata": {},
   "outputs": [],
   "source": [
    "#bağımlı iki grup ortalaması karşılaştırılmak istenildiğinde kullanılır\n",
    "#bu işlemin öncesi ve sonrası bir birine bağlı olduğu için bağımlıdır\n",
    "#varsayımlar\n",
    "#iki varsayımımız bulunmaktadır\n",
    "# normallik \n",
    "# varyans homojenliği"
   ]
  },
  {
   "cell_type": "code",
   "execution_count": 219,
   "id": "18a9ae79-da21-42d8-8fcc-423ab1681e9c",
   "metadata": {},
   "outputs": [],
   "source": [
    "#iş uygulaması: Şirket içi eğitimin performansa etkisi ölçümü"
   ]
  },
  {
   "cell_type": "code",
   "execution_count": 220,
   "id": "88986df2-7f2e-47cb-9522-9518f5c8ca7d",
   "metadata": {},
   "outputs": [],
   "source": [
    "#bir departman eğitim talep ediyor ve bunun sonucu eğitim etkisi \n",
    "#ölçülmeye çalışılıyor"
   ]
  },
  {
   "cell_type": "code",
   "execution_count": 221,
   "id": "c971cbce-c4da-4725-bd22-a50a91ddb62e",
   "metadata": {},
   "outputs": [],
   "source": [
    "#H0 eğitim sonucunda bir değişklik olmamıştır\n",
    "#H1 eğitim sonucunda bir farklılık olmuştur"
   ]
  },
  {
   "cell_type": "code",
   "execution_count": 222,
   "id": "65214651-2454-4094-aec6-e90fe2a44283",
   "metadata": {},
   "outputs": [],
   "source": [
    "oncesi = pd.DataFrame([123,119,119,116,123,123,121,120,117,118,121,121,123,119,\n",
    "            121,118,124,121,125,115,115,119,118,121,117,117,120,120,\n",
    "            121,117,118,117,123,118,124,121,115,118,125,115])\n",
    "\n",
    "sonrasi = pd.DataFrame([118,127,122,132,129,123,129,132,128,130,128,138,140,130,\n",
    "             134,134,124,140,134,129,129,138,134,124,122,126,133,127,\n",
    "             130,130,130,132,117,130,125,129,133,120,127,123])"
   ]
  },
  {
   "cell_type": "code",
   "execution_count": 223,
   "id": "4f34d6ba-e0f0-4cc2-92c8-3151cd0ccb50",
   "metadata": {},
   "outputs": [
    {
     "data": {
      "text/html": [
       "<div>\n",
       "<style scoped>\n",
       "    .dataframe tbody tr th:only-of-type {\n",
       "        vertical-align: middle;\n",
       "    }\n",
       "\n",
       "    .dataframe tbody tr th {\n",
       "        vertical-align: top;\n",
       "    }\n",
       "\n",
       "    .dataframe thead th {\n",
       "        text-align: right;\n",
       "    }\n",
       "</style>\n",
       "<table border=\"1\" class=\"dataframe\">\n",
       "  <thead>\n",
       "    <tr style=\"text-align: right;\">\n",
       "      <th></th>\n",
       "      <th>0</th>\n",
       "    </tr>\n",
       "  </thead>\n",
       "  <tbody>\n",
       "    <tr>\n",
       "      <th>0</th>\n",
       "      <td>123</td>\n",
       "    </tr>\n",
       "    <tr>\n",
       "      <th>1</th>\n",
       "      <td>119</td>\n",
       "    </tr>\n",
       "    <tr>\n",
       "      <th>2</th>\n",
       "      <td>119</td>\n",
       "    </tr>\n",
       "    <tr>\n",
       "      <th>3</th>\n",
       "      <td>116</td>\n",
       "    </tr>\n",
       "    <tr>\n",
       "      <th>4</th>\n",
       "      <td>123</td>\n",
       "    </tr>\n",
       "  </tbody>\n",
       "</table>\n",
       "</div>"
      ],
      "text/plain": [
       "     0\n",
       "0  123\n",
       "1  119\n",
       "2  119\n",
       "3  116\n",
       "4  123"
      ]
     },
     "execution_count": 223,
     "metadata": {},
     "output_type": "execute_result"
    }
   ],
   "source": [
    "oncesi[0:5]"
   ]
  },
  {
   "cell_type": "code",
   "execution_count": 225,
   "id": "1e23e633-9d54-44d8-b290-60b88829b245",
   "metadata": {},
   "outputs": [
    {
     "data": {
      "text/html": [
       "<div>\n",
       "<style scoped>\n",
       "    .dataframe tbody tr th:only-of-type {\n",
       "        vertical-align: middle;\n",
       "    }\n",
       "\n",
       "    .dataframe tbody tr th {\n",
       "        vertical-align: top;\n",
       "    }\n",
       "\n",
       "    .dataframe thead th {\n",
       "        text-align: right;\n",
       "    }\n",
       "</style>\n",
       "<table border=\"1\" class=\"dataframe\">\n",
       "  <thead>\n",
       "    <tr style=\"text-align: right;\">\n",
       "      <th></th>\n",
       "      <th>0</th>\n",
       "    </tr>\n",
       "  </thead>\n",
       "  <tbody>\n",
       "    <tr>\n",
       "      <th>0</th>\n",
       "      <td>118</td>\n",
       "    </tr>\n",
       "    <tr>\n",
       "      <th>1</th>\n",
       "      <td>127</td>\n",
       "    </tr>\n",
       "    <tr>\n",
       "      <th>2</th>\n",
       "      <td>122</td>\n",
       "    </tr>\n",
       "    <tr>\n",
       "      <th>3</th>\n",
       "      <td>132</td>\n",
       "    </tr>\n",
       "    <tr>\n",
       "      <th>4</th>\n",
       "      <td>129</td>\n",
       "    </tr>\n",
       "  </tbody>\n",
       "</table>\n",
       "</div>"
      ],
      "text/plain": [
       "     0\n",
       "0  118\n",
       "1  127\n",
       "2  122\n",
       "3  132\n",
       "4  129"
      ]
     },
     "execution_count": 225,
     "metadata": {},
     "output_type": "execute_result"
    }
   ],
   "source": [
    "sonrasi[0:5]"
   ]
  },
  {
   "cell_type": "code",
   "execution_count": 226,
   "id": "13897953-6293-47a2-bfdb-f17d45a3c539",
   "metadata": {},
   "outputs": [
    {
     "name": "stdout",
     "output_type": "stream",
     "text": [
      "'AYRIK' Veri Seti: \n",
      "\n",
      "     ONCESI  SONRASI\n",
      "0     123      118\n",
      "1     119      127\n",
      "2     119      122\n",
      "3     116      132\n",
      "4     123      129 \n",
      "\n",
      "\n",
      "'BIRLIKTE' Veri Seti: \n",
      "\n",
      "    PERFORMANS ONCESI_SONRASI\n",
      "0         123         ONCESI\n",
      "1         119         ONCESI\n",
      "2         119         ONCESI\n",
      "3         116         ONCESI\n",
      "4         123         ONCESI \n",
      "\n"
     ]
    }
   ],
   "source": [
    "#BIRINCI VERI SETI\n",
    "AYRIK = pd.concat([oncesi, sonrasi], axis = 1)\n",
    "AYRIK.columns = [\"ONCESI\",\"SONRASI\"]\n",
    "print(\"'AYRIK' Veri Seti: \\n\\n \", AYRIK.head(), \"\\n\\n\")\n",
    "\n",
    "\n",
    "#IKINCI VERI SETI\n",
    "#ONCESI FLAG/TAG'INI OLUSTURMA\n",
    "GRUP_ONCESI = np.arange(len(oncesi))\n",
    "GRUP_ONCESI = pd.DataFrame(GRUP_ONCESI)\n",
    "GRUP_ONCESI[:] = \"ONCESI\"\n",
    "#FLAG VE ONCESI DEGERLERINI BIR ARAYA GETIRME\n",
    "A = pd.concat([oncesi, GRUP_ONCESI], axis = 1)\n",
    "#SONRASI FLAG/TAG'INI OLUSTURMA\n",
    "GRUP_SONRASI = np.arange(len(sonrasi))\n",
    "GRUP_SONRASI = pd.DataFrame(GRUP_SONRASI)\n",
    "GRUP_SONRASI[:] = \"SONRASI\"\n",
    "\n",
    "#FLAG VE SONRASI DEGERLERINI BIR ARAYA GETIRME\n",
    "B = pd.concat([sonrasi, GRUP_SONRASI], axis = 1)\n",
    "\n",
    "#TUM VERIYI BIR ARAYA GETIRME\n",
    "BIRLIKTE = pd.concat([A,B])\n",
    "BIRLIKTE\n",
    "\n",
    "#ISIMLENDIRME\n",
    "BIRLIKTE.columns = [\"PERFORMANS\",\"ONCESI_SONRASI\"]\n",
    "print(\"'BIRLIKTE' Veri Seti: \\n\\n\", BIRLIKTE.head(), \"\\n\")"
   ]
  },
  {
   "cell_type": "code",
   "execution_count": 227,
   "id": "cdca7ebe-e324-4085-b1dd-9742f518ef56",
   "metadata": {},
   "outputs": [
    {
     "data": {
      "text/plain": [
       "<AxesSubplot:xlabel='ONCESI_SONRASI', ylabel='PERFORMANS'>"
      ]
     },
     "execution_count": 227,
     "metadata": {},
     "output_type": "execute_result"
    },
    {
     "data": {
      "image/png": "[encoded data removed]",
      "text/plain": [
       "<Figure size 432x288 with 1 Axes>"
      ]
     },
     "metadata": {
      "needs_background": "light"
     },
     "output_type": "display_data"
    }
   ],
   "source": [
    "sns.boxplot(x=\"ONCESI_SONRASI\",y=\"PERFORMANS\",data=BIRLIKTE)"
   ]
  },
  {
   "cell_type": "code",
   "execution_count": 228,
   "id": "dbb1fc20-f70e-47fc-a7de-3c5c4ad044c8",
   "metadata": {},
   "outputs": [],
   "source": [
    "#bağımlı iki örneklem t testi varsayım kontrolü"
   ]
  },
  {
   "cell_type": "code",
   "execution_count": 230,
   "id": "d626e54a-4a06-48b2-b920-7b8171f2d7a8",
   "metadata": {},
   "outputs": [
    {
     "data": {
      "text/plain": [
       "ShapiroResult(statistic=0.9543654918670654, pvalue=0.10722342133522034)"
      ]
     },
     "execution_count": 230,
     "metadata": {},
     "output_type": "execute_result"
    }
   ],
   "source": [
    "shapiro(AYRIK.ONCESI)\n",
    "#p value 0.5 ten büyük olduğu için H0 hipotezi doğrudur"
   ]
  },
  {
   "cell_type": "code",
   "execution_count": 232,
   "id": "3401419a-b976-4f9e-b437-f9ebcc031200",
   "metadata": {},
   "outputs": [
    {
     "data": {
      "text/plain": [
       "ShapiroResult(statistic=0.9780087471008301, pvalue=0.6159457564353943)"
      ]
     },
     "execution_count": 232,
     "metadata": {},
     "output_type": "execute_result"
    }
   ],
   "source": [
    "shapiro(AYRIK.SONRASI)\n",
    "#aralarında bir fark yoktur normal dağılmaktadır"
   ]
  },
  {
   "cell_type": "code",
   "execution_count": 234,
   "id": "82d79ba2-2bd8-45e9-8a34-666f734b3dfc",
   "metadata": {},
   "outputs": [
    {
     "data": {
      "text/plain": [
       "LeveneResult(statistic=8.31303288672351, pvalue=0.0050844511807370246)"
      ]
     },
     "execution_count": 234,
     "metadata": {},
     "output_type": "execute_result"
    }
   ],
   "source": [
    "stats.levene(AYRIK.ONCESI,AYRIK.SONRASI)\n",
    "#bu durumda H0 hipotezini redetmek zorundayız \n",
    "#varyansların homojenliği sağlanmamaktadır"
   ]
  },
  {
   "cell_type": "code",
   "execution_count": 235,
   "id": "ef8ae2e6-b45d-4041-95cb-1f899c956f0e",
   "metadata": {},
   "outputs": [],
   "source": [
    "#bağımlı iki örneklem t testi uygulaması"
   ]
  },
  {
   "cell_type": "code",
   "execution_count": 236,
   "id": "7edd955f-ead8-4f45-b0a6-4ca02520b185",
   "metadata": {},
   "outputs": [
    {
     "data": {
      "text/plain": [
       "Ttest_relResult(statistic=-9.281533480429937, pvalue=2.0235251764440722e-11)"
      ]
     },
     "execution_count": 236,
     "metadata": {},
     "output_type": "execute_result"
    }
   ],
   "source": [
    "stats.ttest_rel(AYRIK.ONCESI,AYRIK.SONRASI)"
   ]
  },
  {
   "cell_type": "code",
   "execution_count": 238,
   "id": "fdc824da-f1bb-4f56-94ae-8913bb2af764",
   "metadata": {},
   "outputs": [
    {
     "name": "stdout",
     "output_type": "stream",
     "text": [
      "Test İstatistiği = -9.28153, p-değeri = 0.00000\n"
     ]
    }
   ],
   "source": [
    "test_istatistigi, pvalue = stats.ttest_rel(AYRIK[\"ONCESI\"], AYRIK[\"SONRASI\"])\n",
    "print('Test İstatistiği = %.5f, p-değeri = %.5f' % (test_istatistigi, pvalue))"
   ]
  },
  {
   "cell_type": "code",
   "execution_count": 239,
   "id": "0ae61171-a299-43a8-839e-89f1c7945aee",
   "metadata": {},
   "outputs": [],
   "source": [
    "#nonparametrik bağımlı iki örneklem testi"
   ]
  },
  {
   "cell_type": "code",
   "execution_count": 240,
   "id": "55032054-c8c1-48aa-8737-53e2f927072f",
   "metadata": {},
   "outputs": [
    {
     "data": {
      "text/plain": [
       "WilcoxonResult(statistic=15.0, pvalue=2.491492033374464e-07)"
      ]
     },
     "execution_count": 240,
     "metadata": {},
     "output_type": "execute_result"
    }
   ],
   "source": [
    "#bu durumda wilcoxon testini kullanmaktayız\n",
    "stats.wilcoxon(AYRIK.ONCESI,AYRIK.SONRASI)"
   ]
  },
  {
   "cell_type": "code",
   "execution_count": 242,
   "id": "c6676f84-3c76-4507-9ea4-f8741b406c02",
   "metadata": {},
   "outputs": [
    {
     "name": "stdout",
     "output_type": "stream",
     "text": [
      "Test istatistiği = 15.0000, p-değeri= 0.0000\n"
     ]
    }
   ],
   "source": [
    "test_istatistigi,pvalue=stats.wilcoxon(AYRIK.ONCESI,AYRIK.SONRASI)\n",
    "print('Test istatistiği = %.4f, p-değeri= %.4f' % (test_istatistigi,pvalue))"
   ]
  },
  {
   "cell_type": "code",
   "execution_count": 243,
   "id": "3a3a6300-07cf-4ca9-a383-6f27560822dc",
   "metadata": {},
   "outputs": [],
   "source": [
    "#iki örneklem oran testi"
   ]
  },
  {
   "cell_type": "code",
   "execution_count": 244,
   "id": "8d5f58d7-5957-4fcf-b914-872881373380",
   "metadata": {},
   "outputs": [],
   "source": [
    "#iş uygulaması: kullanıcı arayüzü deneyi(AB testi)\n",
    "#buton rengi üzerinde deney yapılıyor"
   ]
  },
  {
   "cell_type": "code",
   "execution_count": 245,
   "id": "e212767d-e34d-41d2-be52-9dc45aacf437",
   "metadata": {},
   "outputs": [],
   "source": [
    "#yeşil buton 1000 görüntülenme 300 tıklama\n",
    "#kırmızı buton 1100 görüntülenme 250 tıklama"
   ]
  },
  {
   "cell_type": "code",
   "execution_count": 246,
   "id": "70a0ad05-bf0d-4b7e-abdc-4a3e0b3466e4",
   "metadata": {},
   "outputs": [],
   "source": [
    "from statsmodels.stats.proportion import proportions_ztest"
   ]
  },
  {
   "cell_type": "code",
   "execution_count": 247,
   "id": "d7ec1d1b-148c-4bf8-b1bf-4ea1af0bdc97",
   "metadata": {},
   "outputs": [
    {
     "data": {
      "text/plain": [
       "array([300, 250])"
      ]
     },
     "execution_count": 247,
     "metadata": {},
     "output_type": "execute_result"
    }
   ],
   "source": [
    "basari_sayisi=np.array([300,250])\n",
    "basari_sayisi"
   ]
  },
  {
   "cell_type": "code",
   "execution_count": 248,
   "id": "732193d8-70a4-4539-b6de-81df2d6da7bd",
   "metadata": {},
   "outputs": [
    {
     "data": {
      "text/plain": [
       "array([1000, 1100])"
      ]
     },
     "execution_count": 248,
     "metadata": {},
     "output_type": "execute_result"
    }
   ],
   "source": [
    "gozlem_sayilari=np.array([1000,1100])\n",
    "gozlem_sayilari"
   ]
  },
  {
   "cell_type": "code",
   "execution_count": 250,
   "id": "28ab4402-0e79-4ddd-9f62-2495c4ba3a24",
   "metadata": {},
   "outputs": [
    {
     "data": {
      "text/plain": [
       "((3.7857863233209255, 0.0001532232957772221),)"
      ]
     },
     "execution_count": 250,
     "metadata": {},
     "output_type": "execute_result"
    }
   ],
   "source": [
    "proportions_ztest(count=basari_sayisi,nobs=gozlem_sayilari),\n",
    "#p value değeri 0.05 ten küçük olduğu için H0 hipotezi reddedilir"
   ]
  },
  {
   "cell_type": "code",
   "execution_count": 252,
   "id": "f3fa1173-9377-45dc-8459-fb9141f58c7c",
   "metadata": {},
   "outputs": [],
   "source": [
    "#varyans analizi\n",
    "#varsayımlar\n",
    "#Gözlemlerin bir birinden bağımsız olması\n",
    "#Normal dağılım\n",
    "#Varyans homojenliği"
   ]
  },
  {
   "cell_type": "code",
   "execution_count": 253,
   "id": "9866fbd6-07dd-42cc-b583-20392b34732e",
   "metadata": {},
   "outputs": [],
   "source": [
    "#iş uygulaması: anasayfa içerik belirleme"
   ]
  },
  {
   "cell_type": "code",
   "execution_count": 254,
   "id": "2ee018ce-6a29-46f2-a5ed-10ece2d0282e",
   "metadata": {},
   "outputs": [],
   "source": [
    "#problem: anasayfada geçirilen süre arttırılmak isteniyor"
   ]
  },
  {
   "cell_type": "code",
   "execution_count": 255,
   "id": "ad65bce7-be5e-4a23-ae14-5c277026a85e",
   "metadata": {},
   "outputs": [],
   "source": [
    "# 3 farklı haber sitemiz bulunmakta sırasıyla şöyle haberler yapılıyor\n",
    "# olduğu gibi\n",
    "# yönlendirici\n",
    "# ilgi çekici"
   ]
  },
  {
   "cell_type": "code",
   "execution_count": 256,
   "id": "a80422da-8f2e-4119-a9f5-0dacb62652ed",
   "metadata": {},
   "outputs": [
    {
     "data": {
      "text/html": [
       "<div>\n",
       "<style scoped>\n",
       "    .dataframe tbody tr th:only-of-type {\n",
       "        vertical-align: middle;\n",
       "    }\n",
       "\n",
       "    .dataframe tbody tr th {\n",
       "        vertical-align: top;\n",
       "    }\n",
       "\n",
       "    .dataframe thead th {\n",
       "        text-align: right;\n",
       "    }\n",
       "</style>\n",
       "<table border=\"1\" class=\"dataframe\">\n",
       "  <thead>\n",
       "    <tr style=\"text-align: right;\">\n",
       "      <th></th>\n",
       "      <th>GRUP_A</th>\n",
       "      <th>GRUP_B</th>\n",
       "      <th>GRUP_C</th>\n",
       "    </tr>\n",
       "  </thead>\n",
       "  <tbody>\n",
       "    <tr>\n",
       "      <th>0</th>\n",
       "      <td>28</td>\n",
       "      <td>31</td>\n",
       "      <td>40</td>\n",
       "    </tr>\n",
       "    <tr>\n",
       "      <th>1</th>\n",
       "      <td>33</td>\n",
       "      <td>32</td>\n",
       "      <td>33</td>\n",
       "    </tr>\n",
       "    <tr>\n",
       "      <th>2</th>\n",
       "      <td>30</td>\n",
       "      <td>30</td>\n",
       "      <td>38</td>\n",
       "    </tr>\n",
       "    <tr>\n",
       "      <th>3</th>\n",
       "      <td>29</td>\n",
       "      <td>30</td>\n",
       "      <td>41</td>\n",
       "    </tr>\n",
       "    <tr>\n",
       "      <th>4</th>\n",
       "      <td>28</td>\n",
       "      <td>33</td>\n",
       "      <td>42</td>\n",
       "    </tr>\n",
       "  </tbody>\n",
       "</table>\n",
       "</div>"
      ],
      "text/plain": [
       "   GRUP_A  GRUP_B  GRUP_C\n",
       "0      28      31      40\n",
       "1      33      32      33\n",
       "2      30      30      38\n",
       "3      29      30      41\n",
       "4      28      33      42"
      ]
     },
     "execution_count": 256,
     "metadata": {},
     "output_type": "execute_result"
    }
   ],
   "source": [
    "A = pd.DataFrame([28,33,30,29,28,29,27,31,30,32,28,33,25,29,27,31,31,30,31,34,30,32,31,34,28,32,31,28,33,29])\n",
    "\n",
    "B = pd.DataFrame([31,32,30,30,33,32,34,27,36,30,31,30,38,29,30,34,34,31,35,35,33,30,28,29,26,37,31,28,34,33])\n",
    "\n",
    "C = pd.DataFrame([40,33,38,41,42,43,38,35,39,39,36,34,35,40,38,36,39,36,33,35,38,35,40,40,39,38,38,43,40,42])\n",
    "\n",
    "dfs = [A, B, C]\n",
    "\n",
    "ABC = pd.concat(dfs, axis = 1)\n",
    "ABC.columns = [\"GRUP_A\",\"GRUP_B\",\"GRUP_C\"]\n",
    "ABC.head()"
   ]
  },
  {
   "cell_type": "code",
   "execution_count": 258,
   "id": "25a0c436-8b63-4652-a89d-e7bb786076b0",
   "metadata": {},
   "outputs": [],
   "source": [
    "#varsayım kontrolü"
   ]
  },
  {
   "cell_type": "code",
   "execution_count": 259,
   "id": "b2ebdfe1-83f1-4ebf-bc21-0ce04a8ce584",
   "metadata": {},
   "outputs": [],
   "source": [
    "#normallik varsayımı shapiro testi ile yapılır\n",
    "from scipy.stats import shapiro"
   ]
  },
  {
   "cell_type": "code",
   "execution_count": 260,
   "id": "180a89ca-c3ed-48ec-ade8-8bc70ce053f0",
   "metadata": {},
   "outputs": [
    {
     "data": {
      "text/plain": [
       "ShapiroResult(statistic=0.9697431921958923, pvalue=0.5321715474128723)"
      ]
     },
     "execution_count": 260,
     "metadata": {},
     "output_type": "execute_result"
    }
   ],
   "source": [
    "shapiro(ABC[\"GRUP_A\"])"
   ]
  },
  {
   "cell_type": "code",
   "execution_count": 261,
   "id": "504a53cc-b985-41c8-9e2f-299f8c8179af",
   "metadata": {},
   "outputs": [
    {
     "data": {
      "text/plain": [
       "ShapiroResult(statistic=0.9789854884147644, pvalue=0.7979801297187805)"
      ]
     },
     "execution_count": 261,
     "metadata": {},
     "output_type": "execute_result"
    }
   ],
   "source": [
    "shapiro(ABC[\"GRUP_B\"])"
   ]
  },
  {
   "cell_type": "code",
   "execution_count": 262,
   "id": "791b5aa1-2dbd-40d4-a927-d98b4fec030a",
   "metadata": {},
   "outputs": [
    {
     "data": {
      "text/plain": [
       "ShapiroResult(statistic=0.9579201340675354, pvalue=0.273820161819458)"
      ]
     },
     "execution_count": 262,
     "metadata": {},
     "output_type": "execute_result"
    }
   ],
   "source": [
    "shapiro(ABC[\"GRUP_C\"])"
   ]
  },
  {
   "cell_type": "code",
   "execution_count": 263,
   "id": "24e0a383-94b8-42d6-ba98-959f2e7b84aa",
   "metadata": {},
   "outputs": [],
   "source": [
    "# 3 grup içinde normallik varsayımı sağlanmaktadır"
   ]
  },
  {
   "cell_type": "code",
   "execution_count": 266,
   "id": "6df132a6-0e97-4325-b57b-c11b04af27cb",
   "metadata": {},
   "outputs": [
    {
     "data": {
      "text/plain": [
       "LeveneResult(statistic=1.0267403645055275, pvalue=0.36247110117417064)"
      ]
     },
     "execution_count": 266,
     "metadata": {},
     "output_type": "execute_result"
    }
   ],
   "source": [
    "stats.levene(ABC[\"GRUP_A\"], ABC[\"GRUP_B\"],ABC[\"GRUP_C\"])\n",
    "#homojenlik için levene methodu kullanılır\n",
    "#varyanslar homojendir"
   ]
  },
  {
   "cell_type": "code",
   "execution_count": 267,
   "id": "17800711-4dca-491f-89f2-7f990cd881b3",
   "metadata": {},
   "outputs": [],
   "source": [
    "#hipotez testinin uygulanması"
   ]
  },
  {
   "cell_type": "code",
   "execution_count": 268,
   "id": "0e500c81-3b09-4356-b1ce-1af921032a27",
   "metadata": {},
   "outputs": [],
   "source": [
    "from scipy.stats import f_oneway"
   ]
  },
  {
   "cell_type": "code",
   "execution_count": 270,
   "id": "31f82560-2df0-4d5e-bd24-470477470887",
   "metadata": {},
   "outputs": [
    {
     "data": {
      "text/plain": [
       "F_onewayResult(statistic=74.69278140730431, pvalue=1.3079050746811477e-19)"
      ]
     },
     "execution_count": 270,
     "metadata": {},
     "output_type": "execute_result"
    }
   ],
   "source": [
    "f_oneway(ABC[\"GRUP_A\"], ABC[\"GRUP_B\"],ABC[\"GRUP_C\"])"
   ]
  },
  {
   "cell_type": "code",
   "execution_count": 271,
   "id": "ae2045e5-f04f-43c0-b542-827b7352697c",
   "metadata": {},
   "outputs": [
    {
     "name": "stdout",
     "output_type": "stream",
     "text": [
      "0.00000\n"
     ]
    }
   ],
   "source": [
    "print('{:.5f}'.format(f_oneway(ABC[\"GRUP_A\"], ABC[\"GRUP_B\"],ABC[\"GRUP_C\"])[1]))\n",
    "#p value değerine bu şekildede ulaşabiliyoruz"
   ]
  },
  {
   "cell_type": "code",
   "execution_count": 272,
   "id": "65f43c5c-c2a9-4211-9212-91660e7decdd",
   "metadata": {},
   "outputs": [],
   "source": [
    "#h0 hipotezi reddedilir yani gruplar arasında anlamlı bir fark vardır"
   ]
  },
  {
   "cell_type": "code",
   "execution_count": 274,
   "id": "feb93391-ab7a-4d41-8d18-d148d13d4b1c",
   "metadata": {},
   "outputs": [
    {
     "data": {
      "text/html": [
       "<div>\n",
       "<style scoped>\n",
       "    .dataframe tbody tr th:only-of-type {\n",
       "        vertical-align: middle;\n",
       "    }\n",
       "\n",
       "    .dataframe tbody tr th {\n",
       "        vertical-align: top;\n",
       "    }\n",
       "\n",
       "    .dataframe thead th {\n",
       "        text-align: right;\n",
       "    }\n",
       "</style>\n",
       "<table border=\"1\" class=\"dataframe\">\n",
       "  <thead>\n",
       "    <tr style=\"text-align: right;\">\n",
       "      <th></th>\n",
       "      <th>count</th>\n",
       "      <th>mean</th>\n",
       "      <th>std</th>\n",
       "      <th>min</th>\n",
       "      <th>25%</th>\n",
       "      <th>50%</th>\n",
       "      <th>75%</th>\n",
       "      <th>max</th>\n",
       "    </tr>\n",
       "  </thead>\n",
       "  <tbody>\n",
       "    <tr>\n",
       "      <th>GRUP_A</th>\n",
       "      <td>30.0</td>\n",
       "      <td>30.133333</td>\n",
       "      <td>2.224214</td>\n",
       "      <td>25.0</td>\n",
       "      <td>28.25</td>\n",
       "      <td>30.0</td>\n",
       "      <td>31.75</td>\n",
       "      <td>34.0</td>\n",
       "    </tr>\n",
       "    <tr>\n",
       "      <th>GRUP_B</th>\n",
       "      <td>30.0</td>\n",
       "      <td>31.700000</td>\n",
       "      <td>2.937862</td>\n",
       "      <td>26.0</td>\n",
       "      <td>30.00</td>\n",
       "      <td>31.0</td>\n",
       "      <td>34.00</td>\n",
       "      <td>38.0</td>\n",
       "    </tr>\n",
       "    <tr>\n",
       "      <th>GRUP_C</th>\n",
       "      <td>30.0</td>\n",
       "      <td>38.100000</td>\n",
       "      <td>2.808239</td>\n",
       "      <td>33.0</td>\n",
       "      <td>36.00</td>\n",
       "      <td>38.0</td>\n",
       "      <td>40.00</td>\n",
       "      <td>43.0</td>\n",
       "    </tr>\n",
       "  </tbody>\n",
       "</table>\n",
       "</div>"
      ],
      "text/plain": [
       "        count       mean       std   min    25%   50%    75%   max\n",
       "GRUP_A   30.0  30.133333  2.224214  25.0  28.25  30.0  31.75  34.0\n",
       "GRUP_B   30.0  31.700000  2.937862  26.0  30.00  31.0  34.00  38.0\n",
       "GRUP_C   30.0  38.100000  2.808239  33.0  36.00  38.0  40.00  43.0"
      ]
     },
     "execution_count": 274,
     "metadata": {},
     "output_type": "execute_result"
    }
   ],
   "source": [
    "ABC.describe().T"
   ]
  },
  {
   "cell_type": "code",
   "execution_count": 275,
   "id": "0f653960-71be-456d-90d1-189f3c9bff83",
   "metadata": {},
   "outputs": [],
   "source": [
    "#nonparametrik hipotez testi\n",
    "#daha önceki varsayımların sağlanmadığı durumda başvuruyoruz"
   ]
  },
  {
   "cell_type": "code",
   "execution_count": 276,
   "id": "c8801fe4-8ed3-490d-bd9d-233a76bb13a1",
   "metadata": {},
   "outputs": [],
   "source": [
    "from scipy.stats import kruskal"
   ]
  },
  {
   "cell_type": "code",
   "execution_count": 279,
   "id": "2310e8b6-99cd-4588-913d-59c39da3d825",
   "metadata": {},
   "outputs": [
    {
     "data": {
      "text/plain": [
       "KruskalResult(statistic=54.19819735523783, pvalue=1.7022015426175926e-12)"
      ]
     },
     "execution_count": 279,
     "metadata": {},
     "output_type": "execute_result"
    }
   ],
   "source": [
    "kruskal(ABC[\"GRUP_A\"], ABC[\"GRUP_B\"],ABC[\"GRUP_C\"])\n",
    "#p value değeri 0.05 ten küçük olduğu için H0 hipotezi reddedilir\n",
    "#yani gruplar arasında anlamlı bir fark vardır"
   ]
  },
  {
   "cell_type": "code",
   "execution_count": 280,
   "id": "4e5ff576-6440-4991-adb4-515c4edc1330",
   "metadata": {},
   "outputs": [],
   "source": [
    "#korelasyon analizi\n",
    "#ilişkinin yönü şiddeti ile ilgili bilgiler sağlayan istatistiksel yöntemdir"
   ]
  },
  {
   "cell_type": "code",
   "execution_count": 281,
   "id": "3e4252ca-2851-46ec-84b1-fa8cb635a1b8",
   "metadata": {},
   "outputs": [],
   "source": [
    "#iki değişken içinde normallik varsayımı\n",
    "#varsayım sağlanıyorsa pearson korelasyon varsayımı\n",
    "#varsayım sağlanmıyorsa spearmen korelasyon katsayısı"
   ]
  },
  {
   "cell_type": "code",
   "execution_count": 282,
   "id": "fdac72f2-6ec3-4c28-831b-90b46f1d3818",
   "metadata": {},
   "outputs": [],
   "source": [
    "#iş uygulaması: bahşiş ile ödenen hesap arasındaki ilişkinin incelenmesi"
   ]
  },
  {
   "cell_type": "code",
   "execution_count": 284,
   "id": "d114bd52-8c6b-4790-a2cc-a8728a0b1355",
   "metadata": {},
   "outputs": [],
   "source": [
    "#bahşiş ile ödenen hesap arasında ilişki var mı?"
   ]
  },
  {
   "cell_type": "code",
   "execution_count": 285,
   "id": "84841892-af8c-43bc-8f11-cef5d5558767",
   "metadata": {},
   "outputs": [
    {
     "data": {
      "text/html": [
       "<div>\n",
       "<style scoped>\n",
       "    .dataframe tbody tr th:only-of-type {\n",
       "        vertical-align: middle;\n",
       "    }\n",
       "\n",
       "    .dataframe tbody tr th {\n",
       "        vertical-align: top;\n",
       "    }\n",
       "\n",
       "    .dataframe thead th {\n",
       "        text-align: right;\n",
       "    }\n",
       "</style>\n",
       "<table border=\"1\" class=\"dataframe\">\n",
       "  <thead>\n",
       "    <tr style=\"text-align: right;\">\n",
       "      <th></th>\n",
       "      <th>total_bill</th>\n",
       "      <th>tip</th>\n",
       "      <th>sex</th>\n",
       "      <th>smoker</th>\n",
       "      <th>day</th>\n",
       "      <th>time</th>\n",
       "      <th>size</th>\n",
       "    </tr>\n",
       "  </thead>\n",
       "  <tbody>\n",
       "    <tr>\n",
       "      <th>0</th>\n",
       "      <td>16.99</td>\n",
       "      <td>1.01</td>\n",
       "      <td>Female</td>\n",
       "      <td>No</td>\n",
       "      <td>Sun</td>\n",
       "      <td>Dinner</td>\n",
       "      <td>2</td>\n",
       "    </tr>\n",
       "    <tr>\n",
       "      <th>1</th>\n",
       "      <td>10.34</td>\n",
       "      <td>1.66</td>\n",
       "      <td>Male</td>\n",
       "      <td>No</td>\n",
       "      <td>Sun</td>\n",
       "      <td>Dinner</td>\n",
       "      <td>3</td>\n",
       "    </tr>\n",
       "    <tr>\n",
       "      <th>2</th>\n",
       "      <td>21.01</td>\n",
       "      <td>3.50</td>\n",
       "      <td>Male</td>\n",
       "      <td>No</td>\n",
       "      <td>Sun</td>\n",
       "      <td>Dinner</td>\n",
       "      <td>3</td>\n",
       "    </tr>\n",
       "    <tr>\n",
       "      <th>3</th>\n",
       "      <td>23.68</td>\n",
       "      <td>3.31</td>\n",
       "      <td>Male</td>\n",
       "      <td>No</td>\n",
       "      <td>Sun</td>\n",
       "      <td>Dinner</td>\n",
       "      <td>2</td>\n",
       "    </tr>\n",
       "    <tr>\n",
       "      <th>4</th>\n",
       "      <td>24.59</td>\n",
       "      <td>3.61</td>\n",
       "      <td>Female</td>\n",
       "      <td>No</td>\n",
       "      <td>Sun</td>\n",
       "      <td>Dinner</td>\n",
       "      <td>4</td>\n",
       "    </tr>\n",
       "  </tbody>\n",
       "</table>\n",
       "</div>"
      ],
      "text/plain": [
       "   total_bill   tip     sex smoker  day    time  size\n",
       "0       16.99  1.01  Female     No  Sun  Dinner     2\n",
       "1       10.34  1.66    Male     No  Sun  Dinner     3\n",
       "2       21.01  3.50    Male     No  Sun  Dinner     3\n",
       "3       23.68  3.31    Male     No  Sun  Dinner     2\n",
       "4       24.59  3.61  Female     No  Sun  Dinner     4"
      ]
     },
     "execution_count": 285,
     "metadata": {},
     "output_type": "execute_result"
    }
   ],
   "source": [
    "import seaborn as sns\n",
    "tips=sns.load_dataset(\"tips\")\n",
    "df=tips.copy()\n",
    "df.head()"
   ]
  },
  {
   "cell_type": "code",
   "execution_count": 286,
   "id": "6154f8e9-82b3-4e27-8ed6-7652dcc0f920",
   "metadata": {},
   "outputs": [],
   "source": [
    "#toplam hesabın içerisinde bahşişlerde bulunmaktadır bunun için işlem yapacağız"
   ]
  },
  {
   "cell_type": "code",
   "execution_count": 287,
   "id": "3a806116-63a4-442e-9cd3-b3472c565724",
   "metadata": {},
   "outputs": [],
   "source": [
    "df[\"total_bill\"]=df[\"total_bill\"]-df[\"tip\"]"
   ]
  },
  {
   "cell_type": "code",
   "execution_count": 288,
   "id": "a61a5f45-614b-4ef3-94cb-879a67f74576",
   "metadata": {},
   "outputs": [
    {
     "data": {
      "text/html": [
       "<div>\n",
       "<style scoped>\n",
       "    .dataframe tbody tr th:only-of-type {\n",
       "        vertical-align: middle;\n",
       "    }\n",
       "\n",
       "    .dataframe tbody tr th {\n",
       "        vertical-align: top;\n",
       "    }\n",
       "\n",
       "    .dataframe thead th {\n",
       "        text-align: right;\n",
       "    }\n",
       "</style>\n",
       "<table border=\"1\" class=\"dataframe\">\n",
       "  <thead>\n",
       "    <tr style=\"text-align: right;\">\n",
       "      <th></th>\n",
       "      <th>total_bill</th>\n",
       "      <th>tip</th>\n",
       "      <th>sex</th>\n",
       "      <th>smoker</th>\n",
       "      <th>day</th>\n",
       "      <th>time</th>\n",
       "      <th>size</th>\n",
       "    </tr>\n",
       "  </thead>\n",
       "  <tbody>\n",
       "    <tr>\n",
       "      <th>0</th>\n",
       "      <td>15.98</td>\n",
       "      <td>1.01</td>\n",
       "      <td>Female</td>\n",
       "      <td>No</td>\n",
       "      <td>Sun</td>\n",
       "      <td>Dinner</td>\n",
       "      <td>2</td>\n",
       "    </tr>\n",
       "    <tr>\n",
       "      <th>1</th>\n",
       "      <td>8.68</td>\n",
       "      <td>1.66</td>\n",
       "      <td>Male</td>\n",
       "      <td>No</td>\n",
       "      <td>Sun</td>\n",
       "      <td>Dinner</td>\n",
       "      <td>3</td>\n",
       "    </tr>\n",
       "    <tr>\n",
       "      <th>2</th>\n",
       "      <td>17.51</td>\n",
       "      <td>3.50</td>\n",
       "      <td>Male</td>\n",
       "      <td>No</td>\n",
       "      <td>Sun</td>\n",
       "      <td>Dinner</td>\n",
       "      <td>3</td>\n",
       "    </tr>\n",
       "    <tr>\n",
       "      <th>3</th>\n",
       "      <td>20.37</td>\n",
       "      <td>3.31</td>\n",
       "      <td>Male</td>\n",
       "      <td>No</td>\n",
       "      <td>Sun</td>\n",
       "      <td>Dinner</td>\n",
       "      <td>2</td>\n",
       "    </tr>\n",
       "    <tr>\n",
       "      <th>4</th>\n",
       "      <td>20.98</td>\n",
       "      <td>3.61</td>\n",
       "      <td>Female</td>\n",
       "      <td>No</td>\n",
       "      <td>Sun</td>\n",
       "      <td>Dinner</td>\n",
       "      <td>4</td>\n",
       "    </tr>\n",
       "  </tbody>\n",
       "</table>\n",
       "</div>"
      ],
      "text/plain": [
       "   total_bill   tip     sex smoker  day    time  size\n",
       "0       15.98  1.01  Female     No  Sun  Dinner     2\n",
       "1        8.68  1.66    Male     No  Sun  Dinner     3\n",
       "2       17.51  3.50    Male     No  Sun  Dinner     3\n",
       "3       20.37  3.31    Male     No  Sun  Dinner     2\n",
       "4       20.98  3.61  Female     No  Sun  Dinner     4"
      ]
     },
     "execution_count": 288,
     "metadata": {},
     "output_type": "execute_result"
    }
   ],
   "source": [
    "df.head()"
   ]
  },
  {
   "cell_type": "code",
   "execution_count": 290,
   "id": "93b0aba7-23eb-4b42-9368-0a7bd12b778d",
   "metadata": {},
   "outputs": [
    {
     "data": {
      "text/plain": [
       "<AxesSubplot:xlabel='total_bill', ylabel='tip'>"
      ]
     },
     "execution_count": 290,
     "metadata": {},
     "output_type": "execute_result"
    },
    {
     "data": {
      "image/png": "[encoded data removed]",
      "text/plain": [
       "<Figure size 432x288 with 1 Axes>"
      ]
     },
     "metadata": {
      "needs_background": "light"
     },
     "output_type": "display_data"
    }
   ],
   "source": [
    "df.plot.scatter(\"total_bill\",\"tip\")"
   ]
  },
  {
   "cell_type": "code",
   "execution_count": 291,
   "id": "aa9f20a4-4100-4382-a0b9-7d26ef5c7cbe",
   "metadata": {},
   "outputs": [],
   "source": [
    "#korelasyon varsayım kontrolü"
   ]
  },
  {
   "cell_type": "code",
   "execution_count": 292,
   "id": "54e47848-61c8-48da-a789-08dd8e644d30",
   "metadata": {},
   "outputs": [],
   "source": [
    "from scipy.stats import shapiro"
   ]
  },
  {
   "cell_type": "code",
   "execution_count": 310,
   "id": "6272ca5b-78ab-4ffb-8f5c-88e2a3178e91",
   "metadata": {},
   "outputs": [
    {
     "name": "stdout",
     "output_type": "stream",
     "text": [
      "test istatistiği = 0.8978,pvalue değeri = 0.0000\n"
     ]
    }
   ],
   "source": [
    "test_istatistigi, pvalue=shapiro(df[\"tip\"])\n",
    "print(\"test istatistiği = %.4f,pvalue değeri = %.4f\" % (test_istatistigi, pvalue))"
   ]
  },
  {
   "cell_type": "code",
   "execution_count": 311,
   "id": "4a1ae9d4-5098-49e2-b602-11472b64cacd",
   "metadata": {},
   "outputs": [
    {
     "name": "stdout",
     "output_type": "stream",
     "text": [
      "test istatistiği=0.9136,pvalue değeri=0.0000\n"
     ]
    }
   ],
   "source": [
    "test_istatistigi,pvalue=shapiro(df[\"total_bill\"])\n",
    "print(\"test istatistiği=%.4f,pvalue değeri=%.4f\" % (test_istatistigi,pvalue))"
   ]
  },
  {
   "cell_type": "code",
   "execution_count": 313,
   "id": "b136610a-bcfa-4611-be75-f705196d7073",
   "metadata": {},
   "outputs": [],
   "source": [
    "#H0 reddedilmiştir\n",
    "#H0 dağılım normaldir\n",
    "#H1 dağılım normal değildir"
   ]
  },
  {
   "cell_type": "code",
   "execution_count": 314,
   "id": "9594301f-8795-4c37-90c7-2ae11b54ce8e",
   "metadata": {},
   "outputs": [],
   "source": [
    "#korelasyon katsayısı hipotez testi"
   ]
  },
  {
   "cell_type": "code",
   "execution_count": 318,
   "id": "69ac3435-3278-4704-9184-3fb53d334515",
   "metadata": {},
   "outputs": [
    {
     "data": {
      "text/plain": [
       "0.5766634471096381"
      ]
     },
     "execution_count": 318,
     "metadata": {},
     "output_type": "execute_result"
    }
   ],
   "source": [
    "df[\"tip\"].corr(df[\"total_bill\"])\n",
    "#aralarındaki korelasyona bakıyorum"
   ]
  },
  {
   "cell_type": "code",
   "execution_count": 319,
   "id": "7ffdee69-e350-4526-b542-0b00e974e96e",
   "metadata": {},
   "outputs": [
    {
     "data": {
      "text/plain": [
       "0.593691939408997"
      ]
     },
     "execution_count": 319,
     "metadata": {},
     "output_type": "execute_result"
    }
   ],
   "source": [
    "#spearman korelasyon katsayısını getireceğim\n",
    "df[\"tip\"].corr(df[\"total_bill\"],method=\"spearman\")"
   ]
  },
  {
   "cell_type": "code",
   "execution_count": 320,
   "id": "f97994b6-b497-4f59-80c0-02cefe777a64",
   "metadata": {},
   "outputs": [],
   "source": [
    "#korelasyon anlamlılığının testi"
   ]
  },
  {
   "cell_type": "code",
   "execution_count": 323,
   "id": "ed9672d8-0084-442b-b9b3-25d1806d016d",
   "metadata": {},
   "outputs": [],
   "source": [
    "from scipy.stats.stats import pearsonr"
   ]
  },
  {
   "cell_type": "code",
   "execution_count": 324,
   "id": "58f58c4d-1f33-44fe-9eea-af5231a2a611",
   "metadata": {},
   "outputs": [
    {
     "name": "stdout",
     "output_type": "stream",
     "text": [
      "test istatistiği=0.5767,p value değeri=0.0000\n"
     ]
    }
   ],
   "source": [
    "test_istatistigi,pvalue=pearsonr(df[\"tip\"],df[\"total_bill\"])\n",
    "print(\"Korelasyon katsayısı=%.4f,p value değeri=%.4f\" % (test_istatistigi,pvalue)) "
   ]
  },
  {
   "cell_type": "code",
   "execution_count": 326,
   "id": "cb02ecbf-7352-478c-88c4-f1c067476bfb",
   "metadata": {},
   "outputs": [],
   "source": [
    "#H0: değişkeler arası anlamlı bir ilişki yoktur\n",
    "#H1: değişkenler arası anlamlı bir iliki vardır\n",
    "#H1 hipotezi kabul edilmiştir hipotez H0 reddedilmiştir"
   ]
  },
  {
   "cell_type": "code",
   "execution_count": 327,
   "id": "716910a4-eae7-4cae-9197-17a9768a9ce7",
   "metadata": {},
   "outputs": [],
   "source": [
    "#nonparametrik korelasyon testi"
   ]
  },
  {
   "cell_type": "code",
   "execution_count": null,
   "id": "dab196da-0868-42b9-ae75-6c4b240bc671",
   "metadata": {},
   "outputs": [],
   "source": [
    "#varsayımlar sağlanmadığında spearman veya "
   ]
  },
  {
   "cell_type": "code",
   "execution_count": 328,
   "id": "f5645049-8f93-4b84-9624-01b037a0d6a3",
   "metadata": {},
   "outputs": [
    {
     "data": {
      "text/plain": [
       "SpearmanrResult(correlation=0.593691939408997, pvalue=1.2452285137560276e-24)"
      ]
     },
     "execution_count": 328,
     "metadata": {},
     "output_type": "execute_result"
    }
   ],
   "source": [
    "from scipy.stats import stats\n",
    "stats.spearmanr(df[\"tip\"],df[\"total_bill\"])"
   ]
  },
  {
   "cell_type": "code",
   "execution_count": 329,
   "id": "0ccbdb0d-7bfd-445d-8143-e44cd65e9e05",
   "metadata": {},
   "outputs": [],
   "source": [
    "#H0: değişkenler arası ilişki yoktur\n",
    "#H1: değişkenler arası ilişki vardır"
   ]
  },
  {
   "cell_type": "code",
   "execution_count": 330,
   "id": "718db0c1-d26e-451b-bb14-d2fbdd4ac894",
   "metadata": {},
   "outputs": [
    {
     "name": "stdout",
     "output_type": "stream",
     "text": [
      "test istatistiği=0.5937,p value değeri=0.0000\n"
     ]
    }
   ],
   "source": [
    "test_istatistigi,pvalue=stats.spearmanr(df[\"tip\"],df[\"total_bill\"])\n",
    "print(\"Korelasyon katsayısı=%.4f,p value değeri=%.4f\" % (test_istatistigi,pvalue)) "
   ]
  },
  {
   "cell_type": "code",
   "execution_count": 331,
   "id": "d043fcc2-0596-4e6b-8ba4-f9ca121bacd0",
   "metadata": {},
   "outputs": [],
   "source": [
    "#H0 hipotezi reddedildi"
   ]
  },
  {
   "cell_type": "code",
   "execution_count": null,
   "id": "c34124c7-8862-49f3-b625-b09adbc86b26",
   "metadata": {},
   "outputs": [],
   "source": []
  },
  {
   "cell_type": "code",
   "execution_count": null,
   "id": "fe94b7e3-dd7e-458e-85d7-13d4180dfb3a",
   "metadata": {},
   "outputs": [],
   "source": []
  },
  {
   "cell_type": "code",
   "execution_count": null,
   "id": "1e08cc38-b8e8-4a67-af9e-b8cdd648a13c",
   "metadata": {},
   "outputs": [],
   "source": []
  },
  {
   "cell_type": "code",
   "execution_count": null,
   "id": "a55e440d-7d63-4c22-b57b-50c3aaed2d35",
   "metadata": {},
   "outputs": [],
   "source": []
  },
  {
   "cell_type": "code",
   "execution_count": null,
   "id": "cda0152c-a2e4-402d-993f-4798330b22ec",
   "metadata": {},
   "outputs": [],
   "source": []
  },
  {
   "cell_type": "code",
   "execution_count": null,
   "id": "3fc31015-8716-4a1e-88eb-fe3476b058a5",
   "metadata": {},
   "outputs": [],
   "source": []
  },
  {
   "cell_type": "code",
   "execution_count": null,
   "id": "1bb1f218-3192-4f4a-872e-4c443bc22017",
   "metadata": {},
   "outputs": [],
   "source": []
  },
  {
   "cell_type": "code",
   "execution_count": null,
   "id": "e9828396-5e6c-483c-80cc-c4971f90d725",
   "metadata": {},
   "outputs": [],
   "source": []
  }
 ],
 "metadata": {
  "kernelspec": {
   "display_name": "Python 3 (ipykernel)",
   "language": "python",
   "name": "python3"
  },
  "language_info": {
   "codemirror_mode": {
    "name": "ipython",
    "version": 3
   },
   "file_extension": ".py",
   "mimetype": "text/x-python",
   "name": "python",
   "nbconvert_exporter": "python",
   "pygments_lexer": "ipython3",
   "version": "3.9.12"
  }
 },
 "nbformat": 4,
 "nbformat_minor": 5
}
