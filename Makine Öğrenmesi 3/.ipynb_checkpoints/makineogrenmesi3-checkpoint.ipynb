{
 "cells": [
  {
   "cell_type": "markdown",
   "id": "13db3eae-7470-45e0-8cd5-802780f907d4",
   "metadata": {},
   "source": [
    "# Doğrusal Olmayan Regresyon Modelleri"
   ]
  },
  {
   "cell_type": "code",
   "execution_count": 2,
   "id": "1ea8de18-9ee4-43c4-9b19-214ec3c207f9",
   "metadata": {},
   "outputs": [],
   "source": [
    "import numpy as np\n",
    "import pandas as pd \n",
    "from sklearn.model_selection import train_test_split, GridSearchCV,cross_val_score\n",
    "from sklearn.metrics import mean_squared_error, r2_score\n",
    "import matplotlib.pyplot as plt\n",
    "from sklearn.preprocessing import scale \n",
    "from sklearn import model_selection\n",
    "from sklearn.tree import DecisionTreeRegressor, DecisionTreeClassifier\n",
    "from sklearn.neighbors import KNeighborsRegressor\n",
    "from sklearn.ensemble import BaggingRegressor\n",
    "\n",
    "from warnings import filterwarnings\n",
    "filterwarnings('ignore')\n",
    "# bölümde kullanacak olduğumuz kütüphanelerden bazılarını import ediyoruz"
   ]
  },
  {
   "cell_type": "markdown",
   "id": "eb8572e7-04f6-4b35-a61e-28ba57fee3cc",
   "metadata": {},
   "source": [
    "## KNN"
   ]
  },
  {
   "cell_type": "code",
   "execution_count": 3,
   "id": "0da62770-f277-4fa3-9826-b9876630c2a1",
   "metadata": {},
   "outputs": [],
   "source": [
    "hit = pd.read_csv(\"Hitters.csv\")\n",
    "df = hit.copy()\n",
    "df = df.dropna()\n",
    "dms = pd.get_dummies(df[['League', 'Division', 'NewLeague']])\n",
    "y = df[\"Salary\"]\n",
    "X_ = df.drop(['Salary', 'League', 'Division', 'NewLeague'], axis=1).astype('float64')\n",
    "X = pd.concat([X_, dms[['League_N', 'Division_W', 'NewLeague_N']]], axis=1)\n",
    "X_train, X_test, y_train, y_test = train_test_split(X, y, \n",
    "                                                    test_size=0.25, \n",
    "                                                    random_state=42)"
   ]
  },
  {
   "cell_type": "code",
   "execution_count": 4,
   "id": "2fc0b8ee-98ee-4914-91de-1da781b6020d",
   "metadata": {},
   "outputs": [],
   "source": [
    "knn_model=KNeighborsRegressor().fit(X_train,y_train)"
   ]
  },
  {
   "cell_type": "code",
   "execution_count": 5,
   "id": "70235ba9-37c1-4544-87f2-2d9fb240bdf3",
   "metadata": {},
   "outputs": [
    {
     "data": {
      "text/plain": [
       "KNeighborsRegressor()"
      ]
     },
     "execution_count": 5,
     "metadata": {},
     "output_type": "execute_result"
    }
   ],
   "source": [
    "knn_model"
   ]
  },
  {
   "cell_type": "code",
   "execution_count": 6,
   "id": "f31cd261-0b46-4aa3-b335-831ece55e5f2",
   "metadata": {},
   "outputs": [
    {
     "data": {
      "text/plain": [
       "5"
      ]
     },
     "execution_count": 6,
     "metadata": {},
     "output_type": "execute_result"
    }
   ],
   "source": [
    "knn_model.n_neighbors\n",
    "# komşuluk sayısı"
   ]
  },
  {
   "cell_type": "markdown",
   "id": "4f6b30f2-aedb-484d-95ca-6777779576ac",
   "metadata": {},
   "source": [
    "### Tahmin"
   ]
  },
  {
   "cell_type": "code",
   "execution_count": 7,
   "id": "72495249-25f8-46b4-ae51-4a4fef8ed676",
   "metadata": {},
   "outputs": [
    {
     "data": {
      "text/plain": [
       "array([ 102.5   ,  952.    ,  904.    ,  325.5   ,  768.6666, 1180.6666,\n",
       "        118.    ,   90.5   ,  708.6666,  840.4   , 1612.1142,  160.    ,\n",
       "        982.    ,  771.    ,  716.6666,  745.    ,  670.    ,   79.5   ,\n",
       "        247.5   ,  303.    ,  576.    ,  996.6666,  551.    ,  451.5   ,\n",
       "         81.6   ,  962.5   ,  491.    ,  425.    ,   88.6   ,  463.    ,\n",
       "         70.6   ,  680.3334, 1152.3332,   78.6   ,  433.3334,  103.5   ,\n",
       "        281.2   ,  799.4   ,  106.5   ,   79.5   ,   79.5   ,  553.5   ,\n",
       "        198.8334,  249.    ,  336.    , 1052.    ,  205.5   ,  126.3   ,\n",
       "        637.    ,  602.    ,  498.    ,  248.    ,  322.    ,  160.    ,\n",
       "       1103.6666,  148.4   ,  627.    ,  707.5   ,  220.    , 1472.1142,\n",
       "        803.    ,  274.2   ,  588.    ,  487.5   ,  150.5   ,  158.3   ,\n",
       "         84.    ,  694.5   ,  159.5   ,  303.5   ,  336.    ,  986.6666,\n",
       "        737.5   ,  904.    , 1138.6666,  778.    ,  181.5   ,  498.    ,\n",
       "        417.5   ,  840.4   ,  412.5   ,  510.    , 1116.    ,  581.    ,\n",
       "        167.4   ,  598.    ,  637.    ,  762.5   ,  989.    ,  740.    ,\n",
       "        158.9   ,  227.2   , 1190.3332,   90.    ,  451.5   , 1023.3334,\n",
       "        840.4   ,  637.    ,  757.5   ,  995.    ,  374.5   ,  230.8334,\n",
       "        890.1666,  591.5   ,  188.5   ,  970.    ,  743.    ,  110.5   ,\n",
       "        255.5   ,  670.    ,  352.    ,  740.6666,  548.3334,  747.    ,\n",
       "        506.    ,  117.3   ,  826.5   , 1005.    ,  195.    ,  436.    ,\n",
       "        723.    ,  549.    ,  901.6666,  217.    ,   81.6   ,  199.    ,\n",
       "        649.3334,   84.    ,  134.4   ,  487.5   ,  671.    ,  456.5   ,\n",
       "       1612.1142,  720.4   , 1106.6666,  451.5   , 1005.    ,  458.    ,\n",
       "        224.    ,  840.4   ,  108.5   ,  106.5   ,  618.3334,  451.5   ,\n",
       "        259.8334,  453.    ,  748.3334,  404.5   ,  590.5   ,  808.6666,\n",
       "        103.5   ,  112.    ,   79.5   ,  138.4   ,  158.3   ,  303.    ,\n",
       "        549.    ,   94.    ,  823.5   ,  507.    ,  669.6666,  524.5   ,\n",
       "        995.    ,  240.5334,  747.    ,  904.    ,  278.    ,  251.8334,\n",
       "        472.5   ,  904.    ,  665.    ,   84.    ,  483.3334,  993.3334,\n",
       "        157.5   ,  245.3334,  284.    ,  472.    ,  549.    , 1180.6666,\n",
       "        320.    ,  538.    ,  145.5   ,  518.3334,  602.    ,  970.    ,\n",
       "        532.3334,  181.5   ,  108.5   ,  281.5334,  181.5   ,  629.    ,\n",
       "        764.3334,  677.5   ,  144.4   ,  550.    ,  125.5   ])"
      ]
     },
     "execution_count": 7,
     "metadata": {},
     "output_type": "execute_result"
    }
   ],
   "source": [
    "knn_model.predict(X_train)\n",
    "#eğitim setine yönelik tahmin"
   ]
  },
  {
   "cell_type": "code",
   "execution_count": 8,
   "id": "6cbe77f9-e703-4e6d-9a9a-819905232966",
   "metadata": {},
   "outputs": [],
   "source": [
    "y_pred=knn_model.predict(X_test)"
   ]
  },
  {
   "cell_type": "code",
   "execution_count": 9,
   "id": "ec2c2ec6-20c0-4987-8c64-a67956b61208",
   "metadata": {},
   "outputs": [
    {
     "data": {
      "text/plain": [
       "426.6570764525201"
      ]
     },
     "execution_count": 9,
     "metadata": {},
     "output_type": "execute_result"
    }
   ],
   "source": [
    "np.sqrt(mean_squared_error(y_test,y_pred))"
   ]
  },
  {
   "cell_type": "code",
   "execution_count": 10,
   "id": "28d40088-821d-4718-b277-2a6c11170e85",
   "metadata": {},
   "outputs": [
    {
     "name": "stdout",
     "output_type": "stream",
     "text": [
      "k = 1 için RMSE değeri:  0.0\n",
      "k = 2 için RMSE değeri:  179.52761335480352\n",
      "k = 3 için RMSE değeri:  205.20157172291863\n",
      "k = 4 için RMSE değeri:  220.5139794876305\n",
      "k = 5 için RMSE değeri:  239.6467132541376\n",
      "k = 6 için RMSE değeri:  243.5904190007242\n",
      "k = 7 için RMSE değeri:  258.1478781634636\n",
      "k = 8 için RMSE değeri:  266.05374203349805\n",
      "k = 9 için RMSE değeri:  269.73782093553376\n",
      "k = 10 için RMSE değeri:  271.2798300436963\n"
     ]
    }
   ],
   "source": [
    "RMSE = [] \n",
    "\n",
    "for k in range(10):\n",
    "    k = k+1\n",
    "    knn_model = KNeighborsRegressor(n_neighbors = k).fit(X_train, y_train)\n",
    "    y_pred = knn_model.predict(X_train) \n",
    "    rmse = np.sqrt(mean_squared_error(y_train,y_pred)) \n",
    "    RMSE.append(rmse) \n",
    "    print(\"k =\" , k , \"için RMSE değeri: \", rmse)\n"
   ]
  },
  {
   "cell_type": "markdown",
   "id": "6a51aa1c-64d2-44c3-b1ee-f5cbd591b773",
   "metadata": {},
   "source": [
    "### KNN-Model Tuning "
   ]
  },
  {
   "cell_type": "code",
   "execution_count": 18,
   "id": "d572e9ce-6062-4090-bae3-cd193561521a",
   "metadata": {},
   "outputs": [],
   "source": [
    "from sklearn.model_selection import GridSearchCV\n",
    "#bundan sonraki bölümlerin hemen hemen hepsinde kullanacağız\n",
    "#ızgra mantığıyla liste oluşturacağız ve bunun içerisinde bir arama işlemi gerçekleştireceğiz"
   ]
  },
  {
   "cell_type": "code",
   "execution_count": 15,
   "id": "2f1306ce-cc4d-443e-a6e3-d7cdaf6552ac",
   "metadata": {},
   "outputs": [],
   "source": [
    "knn_params={\"knn_neighbors\":np.arange(1,30,1)}"
   ]
  },
  {
   "cell_type": "code",
   "execution_count": 14,
   "id": "b284634b-96cf-430c-a75a-8ecb77714c7c",
   "metadata": {},
   "outputs": [
    {
     "data": {
      "text/plain": [
       "array([ 1,  2,  3,  4,  5,  6,  7,  8,  9, 10, 11, 12, 13, 14, 15, 16, 17,\n",
       "       18, 19, 20, 21, 22, 23, 24, 25, 26, 27, 28, 29])"
      ]
     },
     "execution_count": 14,
     "metadata": {},
     "output_type": "execute_result"
    }
   ],
   "source": [
    "np.arange(1,30,1)"
   ]
  },
  {
   "cell_type": "code",
   "execution_count": 16,
   "id": "5de0b49b-8bb9-443f-86f7-9f25a28cb6a6",
   "metadata": {},
   "outputs": [],
   "source": [
    "knn=KNeighborsRegressor()"
   ]
  },
  {
   "cell_type": "code",
   "execution_count": 21,
   "id": "d3f2f0cf-0255-4a3c-b091-1f11525867f3",
   "metadata": {},
   "outputs": [
    {
     "ename": "NameError",
     "evalue": "name 'GridSeacrhCV' is not defined",
     "output_type": "error",
     "traceback": [
      "\u001b[0;31m---------------------------------------------------------------------------\u001b[0m",
      "\u001b[0;31mNameError\u001b[0m                                 Traceback (most recent call last)",
      "Input \u001b[0;32mIn [21]\u001b[0m, in \u001b[0;36m<cell line: 1>\u001b[0;34m()\u001b[0m\n\u001b[0;32m----> 1\u001b[0m knn_cv_model\u001b[38;5;241m=\u001b[39m\u001b[43mGridSeacrhCV\u001b[49m(knn,params,cv\u001b[38;5;241m=\u001b[39m\u001b[38;5;241m10\u001b[39m)\n",
      "\u001b[0;31mNameError\u001b[0m: name 'GridSeacrhCV' is not defined"
     ]
    }
   ],
   "source": [
    "knn_cv_model=GridSearchCV(knn,params,cv=10)"
   ]
  },
  {
   "cell_type": "code",
   "execution_count": null,
   "id": "3e6789c5-5cb1-4e2c-a6d3-36613f325a39",
   "metadata": {},
   "outputs": [],
   "source": []
  },
  {
   "cell_type": "code",
   "execution_count": null,
   "id": "38bec98b-1775-4718-bf11-376124aca866",
   "metadata": {},
   "outputs": [],
   "source": []
  },
  {
   "cell_type": "code",
   "execution_count": null,
   "id": "065de5f8-de46-44b3-b594-a51ac7eef273",
   "metadata": {},
   "outputs": [],
   "source": []
  },
  {
   "cell_type": "code",
   "execution_count": null,
   "id": "30198bcf-0198-4040-b150-eb96999cc704",
   "metadata": {},
   "outputs": [],
   "source": []
  },
  {
   "cell_type": "code",
   "execution_count": null,
   "id": "ea429e49-4415-4d75-af75-4ffd835378c4",
   "metadata": {},
   "outputs": [],
   "source": []
  },
  {
   "cell_type": "code",
   "execution_count": null,
   "id": "bb043e63-89eb-4570-b459-94bee0f34bd1",
   "metadata": {},
   "outputs": [],
   "source": []
  },
  {
   "cell_type": "code",
   "execution_count": null,
   "id": "37aac97d-d747-4d9f-b1c0-e08e0a80ddd2",
   "metadata": {},
   "outputs": [],
   "source": []
  },
  {
   "cell_type": "code",
   "execution_count": null,
   "id": "03064bc1-44f8-43cf-973f-af86e685f121",
   "metadata": {},
   "outputs": [],
   "source": []
  },
  {
   "cell_type": "code",
   "execution_count": null,
   "id": "1a104a92-47cc-4a70-8d58-9ce6dea77e91",
   "metadata": {},
   "outputs": [],
   "source": []
  },
  {
   "cell_type": "code",
   "execution_count": null,
   "id": "36609917-ce2c-4f44-8aeb-99b745db2894",
   "metadata": {},
   "outputs": [],
   "source": []
  },
  {
   "cell_type": "code",
   "execution_count": null,
   "id": "5ff865c1-d3ba-4731-bc50-55cb4447f432",
   "metadata": {},
   "outputs": [],
   "source": []
  },
  {
   "cell_type": "code",
   "execution_count": null,
   "id": "a9390407-36c6-46c2-a1b6-43c262e07c1f",
   "metadata": {},
   "outputs": [],
   "source": []
  },
  {
   "cell_type": "code",
   "execution_count": null,
   "id": "742c4422-2d1c-45dd-afb5-6665e3b4c935",
   "metadata": {},
   "outputs": [],
   "source": []
  },
  {
   "cell_type": "code",
   "execution_count": null,
   "id": "11a50f25-977d-446c-b77f-9e00b54eaaba",
   "metadata": {},
   "outputs": [],
   "source": []
  },
  {
   "cell_type": "code",
   "execution_count": null,
   "id": "75284052-139e-4a3c-80a3-2c5767ec256d",
   "metadata": {},
   "outputs": [],
   "source": []
  },
  {
   "cell_type": "code",
   "execution_count": null,
   "id": "6b4b9535-b5a8-4197-bddf-f986d040e73e",
   "metadata": {},
   "outputs": [],
   "source": []
  },
  {
   "cell_type": "code",
   "execution_count": null,
   "id": "1f00bd77-787a-46d5-aee6-be95d308d94d",
   "metadata": {},
   "outputs": [],
   "source": []
  },
  {
   "cell_type": "code",
   "execution_count": null,
   "id": "9c575124-c797-4f49-99d7-eca0b3543fdc",
   "metadata": {},
   "outputs": [],
   "source": []
  },
  {
   "cell_type": "code",
   "execution_count": null,
   "id": "95d3599e-ed34-4925-868b-ab8750cbc191",
   "metadata": {},
   "outputs": [],
   "source": []
  },
  {
   "cell_type": "code",
   "execution_count": null,
   "id": "4ff90968-33ae-45b7-9287-96fdd6927010",
   "metadata": {},
   "outputs": [],
   "source": []
  },
  {
   "cell_type": "code",
   "execution_count": null,
   "id": "406e4ca9-b228-4700-bea8-459cc9801c0b",
   "metadata": {},
   "outputs": [],
   "source": []
  },
  {
   "cell_type": "code",
   "execution_count": null,
   "id": "757e8a84-2325-47a6-b4c1-f95d85cd9c76",
   "metadata": {},
   "outputs": [],
   "source": []
  },
  {
   "cell_type": "code",
   "execution_count": null,
   "id": "d8d01de1-ccd4-4dbc-89a4-8a3a8f08c742",
   "metadata": {},
   "outputs": [],
   "source": []
  },
  {
   "cell_type": "code",
   "execution_count": null,
   "id": "12db6de6-0f7d-42d8-9d9d-8d18fa0443bd",
   "metadata": {},
   "outputs": [],
   "source": []
  },
  {
   "cell_type": "code",
   "execution_count": null,
   "id": "7740d0ca-7861-4033-a90c-f2b9602145c1",
   "metadata": {},
   "outputs": [],
   "source": []
  },
  {
   "cell_type": "code",
   "execution_count": null,
   "id": "7fefc9f7-707e-4158-90d4-5fdef1980451",
   "metadata": {},
   "outputs": [],
   "source": []
  },
  {
   "cell_type": "code",
   "execution_count": null,
   "id": "e04b6725-3055-4b13-92f6-0bf67de5518b",
   "metadata": {},
   "outputs": [],
   "source": []
  },
  {
   "cell_type": "code",
   "execution_count": null,
   "id": "ba327e81-cfcb-4065-9ddb-ac1020d874ed",
   "metadata": {},
   "outputs": [],
   "source": []
  },
  {
   "cell_type": "code",
   "execution_count": null,
   "id": "ef341e8d-feec-4628-ac64-cccf8cb3eaa1",
   "metadata": {},
   "outputs": [],
   "source": []
  },
  {
   "cell_type": "code",
   "execution_count": null,
   "id": "8e919e07-75f2-462a-a971-14c97145d570",
   "metadata": {},
   "outputs": [],
   "source": []
  },
  {
   "cell_type": "code",
   "execution_count": null,
   "id": "42a7ead7-9596-4e6a-9ab2-330fcb5705a3",
   "metadata": {},
   "outputs": [],
   "source": []
  },
  {
   "cell_type": "code",
   "execution_count": null,
   "id": "63a15772-c705-431b-afc8-e1264855fef2",
   "metadata": {},
   "outputs": [],
   "source": []
  },
  {
   "cell_type": "code",
   "execution_count": null,
   "id": "39c394fa-0575-4773-a8a8-9bcd05dda0f5",
   "metadata": {},
   "outputs": [],
   "source": []
  },
  {
   "cell_type": "code",
   "execution_count": null,
   "id": "5a5f99eb-837a-4d51-9cdd-dc3b4b37b808",
   "metadata": {},
   "outputs": [],
   "source": []
  },
  {
   "cell_type": "code",
   "execution_count": null,
   "id": "f3cf94e6-399b-4abb-89ce-f5048e52aece",
   "metadata": {},
   "outputs": [],
   "source": []
  },
  {
   "cell_type": "code",
   "execution_count": null,
   "id": "a8e25328-8107-4d47-9f41-089008c2ea61",
   "metadata": {},
   "outputs": [],
   "source": []
  },
  {
   "cell_type": "code",
   "execution_count": null,
   "id": "f99ddcb5-2000-4aaa-aa5d-030a504e4853",
   "metadata": {},
   "outputs": [],
   "source": []
  },
  {
   "cell_type": "code",
   "execution_count": null,
   "id": "fa962e33-da04-430d-b566-ffbebaaae404",
   "metadata": {},
   "outputs": [],
   "source": []
  },
  {
   "cell_type": "code",
   "execution_count": null,
   "id": "0311e0e4-5965-46e5-8277-1aaab9b41e62",
   "metadata": {},
   "outputs": [],
   "source": []
  },
  {
   "cell_type": "code",
   "execution_count": null,
   "id": "928f488d-d97e-43f0-b6f0-67c546e61cbb",
   "metadata": {},
   "outputs": [],
   "source": []
  },
  {
   "cell_type": "code",
   "execution_count": null,
   "id": "5980a584-28b5-4bff-b6e7-c84410d2814a",
   "metadata": {},
   "outputs": [],
   "source": []
  },
  {
   "cell_type": "code",
   "execution_count": null,
   "id": "28a1d585-ab7e-43cd-9ae1-dcaaedd7b414",
   "metadata": {},
   "outputs": [],
   "source": []
  },
  {
   "cell_type": "code",
   "execution_count": null,
   "id": "1ac987e8-fd8f-43ad-a135-9eb79619dc2f",
   "metadata": {},
   "outputs": [],
   "source": []
  },
  {
   "cell_type": "code",
   "execution_count": null,
   "id": "01de6948-1a1b-44f9-943a-2795b454a816",
   "metadata": {},
   "outputs": [],
   "source": []
  },
  {
   "cell_type": "code",
   "execution_count": null,
   "id": "0929d146-f3a9-4e0f-8b61-7fef1ef817d8",
   "metadata": {},
   "outputs": [],
   "source": []
  },
  {
   "cell_type": "code",
   "execution_count": null,
   "id": "e8791062-2882-4141-826f-74a16f483f14",
   "metadata": {},
   "outputs": [],
   "source": []
  },
  {
   "cell_type": "code",
   "execution_count": null,
   "id": "24dd9df5-e22b-4e5e-8480-4a143a64071e",
   "metadata": {},
   "outputs": [],
   "source": []
  },
  {
   "cell_type": "code",
   "execution_count": null,
   "id": "edea0889-8ab4-4a4d-be41-546fb1742a4b",
   "metadata": {},
   "outputs": [],
   "source": []
  },
  {
   "cell_type": "code",
   "execution_count": null,
   "id": "d141cf38-aa90-43a9-bf66-2a8388195982",
   "metadata": {},
   "outputs": [],
   "source": []
  },
  {
   "cell_type": "code",
   "execution_count": null,
   "id": "71fc09ad-ee27-4653-8168-ea6327a8b2a9",
   "metadata": {},
   "outputs": [],
   "source": []
  },
  {
   "cell_type": "code",
   "execution_count": null,
   "id": "627124a6-017d-4161-b26e-3f2f68f1a7c5",
   "metadata": {},
   "outputs": [],
   "source": []
  },
  {
   "cell_type": "code",
   "execution_count": null,
   "id": "b2ca38eb-de80-4bf5-aea8-6b636013e69b",
   "metadata": {},
   "outputs": [],
   "source": []
  },
  {
   "cell_type": "code",
   "execution_count": null,
   "id": "a880cfe7-63f3-4a63-8ccf-15c01af20c72",
   "metadata": {},
   "outputs": [],
   "source": []
  },
  {
   "cell_type": "code",
   "execution_count": null,
   "id": "cda7ad49-efa5-4d3d-8070-3bc2670aab5f",
   "metadata": {},
   "outputs": [],
   "source": []
  },
  {
   "cell_type": "code",
   "execution_count": null,
   "id": "6fbc18cc-ab03-43e6-aa53-5086c10319a7",
   "metadata": {},
   "outputs": [],
   "source": []
  },
  {
   "cell_type": "code",
   "execution_count": null,
   "id": "93f6dbc4-bf47-4671-9206-7125a35de25e",
   "metadata": {},
   "outputs": [],
   "source": []
  },
  {
   "cell_type": "code",
   "execution_count": null,
   "id": "882d83d3-6936-4322-a2a6-793e00cecc72",
   "metadata": {},
   "outputs": [],
   "source": []
  },
  {
   "cell_type": "code",
   "execution_count": null,
   "id": "49b760b6-e85c-43e6-a226-03af30885d1d",
   "metadata": {},
   "outputs": [],
   "source": []
  },
  {
   "cell_type": "code",
   "execution_count": null,
   "id": "cdd7b6b1-b869-4a60-87c9-f134e4b4d270",
   "metadata": {},
   "outputs": [],
   "source": []
  },
  {
   "cell_type": "code",
   "execution_count": null,
   "id": "562778ea-5af8-4dc4-8cf8-65524ce8e77b",
   "metadata": {},
   "outputs": [],
   "source": []
  },
  {
   "cell_type": "code",
   "execution_count": null,
   "id": "a0333aca-00ad-4a23-91c3-e6abb95d2801",
   "metadata": {},
   "outputs": [],
   "source": []
  },
  {
   "cell_type": "code",
   "execution_count": null,
   "id": "463ebbd0-df21-43b6-8d4e-06bcb4f05818",
   "metadata": {},
   "outputs": [],
   "source": []
  },
  {
   "cell_type": "code",
   "execution_count": null,
   "id": "1dc85bd4-8515-4e63-870b-1109c4b26e26",
   "metadata": {},
   "outputs": [],
   "source": []
  },
  {
   "cell_type": "code",
   "execution_count": null,
   "id": "6e507f35-482a-4a79-9f0c-25cb8eeef64a",
   "metadata": {},
   "outputs": [],
   "source": []
  },
  {
   "cell_type": "code",
   "execution_count": null,
   "id": "98a5bc48-2cc8-4c77-96da-16a7be4371a3",
   "metadata": {},
   "outputs": [],
   "source": []
  },
  {
   "cell_type": "code",
   "execution_count": null,
   "id": "6f79ccba-82c9-4c3c-922b-614e1827a562",
   "metadata": {},
   "outputs": [],
   "source": []
  },
  {
   "cell_type": "code",
   "execution_count": null,
   "id": "4bbfdefb-7522-4143-962d-43932848e5d2",
   "metadata": {},
   "outputs": [],
   "source": []
  },
  {
   "cell_type": "code",
   "execution_count": null,
   "id": "c46e09a6-3385-4caf-8493-b7c446476a7b",
   "metadata": {},
   "outputs": [],
   "source": []
  },
  {
   "cell_type": "code",
   "execution_count": null,
   "id": "4b19c24b-d38a-4208-9677-0acaf5ae4f83",
   "metadata": {},
   "outputs": [],
   "source": []
  },
  {
   "cell_type": "code",
   "execution_count": null,
   "id": "b56a68a3-5479-42fe-be62-755772742942",
   "metadata": {},
   "outputs": [],
   "source": []
  },
  {
   "cell_type": "code",
   "execution_count": null,
   "id": "a642b07d-b52e-4c04-ac10-db5b770a98f1",
   "metadata": {},
   "outputs": [],
   "source": []
  },
  {
   "cell_type": "code",
   "execution_count": null,
   "id": "14622b9f-4d14-4d8f-8b77-c660b5cfcc89",
   "metadata": {},
   "outputs": [],
   "source": []
  },
  {
   "cell_type": "code",
   "execution_count": null,
   "id": "d247ee14-45b2-4314-88fb-4942dc420ab6",
   "metadata": {},
   "outputs": [],
   "source": []
  },
  {
   "cell_type": "code",
   "execution_count": null,
   "id": "349a52ff-57df-4781-b25d-688d8c0b5795",
   "metadata": {},
   "outputs": [],
   "source": []
  },
  {
   "cell_type": "code",
   "execution_count": null,
   "id": "1622ff99-1a52-4283-860c-58bd4af7ed25",
   "metadata": {},
   "outputs": [],
   "source": []
  }
 ],
 "metadata": {
  "kernelspec": {
   "display_name": "Python 3 (ipykernel)",
   "language": "python",
   "name": "python3"
  },
  "language_info": {
   "codemirror_mode": {
    "name": "ipython",
    "version": 3
   },
   "file_extension": ".py",
   "mimetype": "text/x-python",
   "name": "python",
   "nbconvert_exporter": "python",
   "pygments_lexer": "ipython3",
   "version": "3.9.12"
  }
 },
 "nbformat": 4,
 "nbformat_minor": 5
}
